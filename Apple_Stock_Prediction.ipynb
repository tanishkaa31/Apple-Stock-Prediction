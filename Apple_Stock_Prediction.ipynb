{
  "nbformat": 4,
  "nbformat_minor": 0,
  "metadata": {
    "colab": {
      "name": "Apple Stock Prediction.ipynb",
      "provenance": [],
      "collapsed_sections": []
    },
    "kernelspec": {
      "name": "python3",
      "display_name": "Python 3"
    },
    "language_info": {
      "name": "python"
    },
    "accelerator": "GPU"
  },
  "cells": [
    {
      "cell_type": "code",
      "metadata": {
        "id": "50GQDIiM7-0O"
      },
      "source": [
        "import pandas as pd\n",
        "import numpy as np\n",
        "import matplotlib.pyplot as plt\n",
        "from sklearn.preprocessing import StandardScaler, MinMaxScaler\n",
        "from sklearn.metrics import mean_absolute_error\n",
        "from keras.layers import Dense, LSTM, Dropout\n",
        "from keras.models import Sequential"
      ],
      "execution_count": 1,
      "outputs": []
    },
    {
      "cell_type": "code",
      "metadata": {
        "id": "oVphqf7z8P2P"
      },
      "source": [
        "data = pd.read_csv('HistoricalQuotes.csv')"
      ],
      "execution_count": 2,
      "outputs": []
    },
    {
      "cell_type": "markdown",
      "metadata": {
        "id": "NEKpxUfIoNDe"
      },
      "source": [
        "The columns Open and Close represent the starting and final price at which the stock is traded on a particular day.\n",
        "High, Low and Last represent the maximum, minimum, and last price of the share for the day."
      ]
    },
    {
      "cell_type": "code",
      "metadata": {
        "colab": {
          "base_uri": "https://localhost:8080/",
          "height": 417
        },
        "id": "0PXfwRiD8To1",
        "outputId": "1eb465f4-521f-47ae-a16b-05b2cfc707bd"
      },
      "source": [
        "data"
      ],
      "execution_count": 3,
      "outputs": [
        {
          "output_type": "execute_result",
          "data": {
            "text/html": [
              "<div>\n",
              "<style scoped>\n",
              "    .dataframe tbody tr th:only-of-type {\n",
              "        vertical-align: middle;\n",
              "    }\n",
              "\n",
              "    .dataframe tbody tr th {\n",
              "        vertical-align: top;\n",
              "    }\n",
              "\n",
              "    .dataframe thead th {\n",
              "        text-align: right;\n",
              "    }\n",
              "</style>\n",
              "<table border=\"1\" class=\"dataframe\">\n",
              "  <thead>\n",
              "    <tr style=\"text-align: right;\">\n",
              "      <th></th>\n",
              "      <th>Date</th>\n",
              "      <th>Close/Last</th>\n",
              "      <th>Volume</th>\n",
              "      <th>Open</th>\n",
              "      <th>High</th>\n",
              "      <th>Low</th>\n",
              "    </tr>\n",
              "  </thead>\n",
              "  <tbody>\n",
              "    <tr>\n",
              "      <th>0</th>\n",
              "      <td>02/28/2020</td>\n",
              "      <td>$273.36</td>\n",
              "      <td>106721200</td>\n",
              "      <td>$257.26</td>\n",
              "      <td>$278.41</td>\n",
              "      <td>$256.37</td>\n",
              "    </tr>\n",
              "    <tr>\n",
              "      <th>1</th>\n",
              "      <td>02/27/2020</td>\n",
              "      <td>$273.52</td>\n",
              "      <td>80151380</td>\n",
              "      <td>$281.1</td>\n",
              "      <td>$286</td>\n",
              "      <td>$272.96</td>\n",
              "    </tr>\n",
              "    <tr>\n",
              "      <th>2</th>\n",
              "      <td>02/26/2020</td>\n",
              "      <td>$292.65</td>\n",
              "      <td>49678430</td>\n",
              "      <td>$286.53</td>\n",
              "      <td>$297.88</td>\n",
              "      <td>$286.5</td>\n",
              "    </tr>\n",
              "    <tr>\n",
              "      <th>3</th>\n",
              "      <td>02/25/2020</td>\n",
              "      <td>$288.08</td>\n",
              "      <td>57668360</td>\n",
              "      <td>$300.95</td>\n",
              "      <td>$302.53</td>\n",
              "      <td>$286.13</td>\n",
              "    </tr>\n",
              "    <tr>\n",
              "      <th>4</th>\n",
              "      <td>02/24/2020</td>\n",
              "      <td>$298.18</td>\n",
              "      <td>55548830</td>\n",
              "      <td>$297.26</td>\n",
              "      <td>$304.18</td>\n",
              "      <td>$289.23</td>\n",
              "    </tr>\n",
              "    <tr>\n",
              "      <th>...</th>\n",
              "      <td>...</td>\n",
              "      <td>...</td>\n",
              "      <td>...</td>\n",
              "      <td>...</td>\n",
              "      <td>...</td>\n",
              "      <td>...</td>\n",
              "    </tr>\n",
              "    <tr>\n",
              "      <th>2513</th>\n",
              "      <td>03/05/2010</td>\n",
              "      <td>$31.2786</td>\n",
              "      <td>224647427</td>\n",
              "      <td>$30.7057</td>\n",
              "      <td>$31.3857</td>\n",
              "      <td>$30.6614</td>\n",
              "    </tr>\n",
              "    <tr>\n",
              "      <th>2514</th>\n",
              "      <td>03/04/2010</td>\n",
              "      <td>$30.1014</td>\n",
              "      <td>89591907</td>\n",
              "      <td>$29.8971</td>\n",
              "      <td>$30.1314</td>\n",
              "      <td>$29.8043</td>\n",
              "    </tr>\n",
              "    <tr>\n",
              "      <th>2515</th>\n",
              "      <td>03/03/2010</td>\n",
              "      <td>$29.9043</td>\n",
              "      <td>92846488</td>\n",
              "      <td>$29.8486</td>\n",
              "      <td>$29.9814</td>\n",
              "      <td>$29.7057</td>\n",
              "    </tr>\n",
              "    <tr>\n",
              "      <th>2516</th>\n",
              "      <td>03/02/2010</td>\n",
              "      <td>$29.8357</td>\n",
              "      <td>141486282</td>\n",
              "      <td>$29.99</td>\n",
              "      <td>$30.1186</td>\n",
              "      <td>$29.6771</td>\n",
              "    </tr>\n",
              "    <tr>\n",
              "      <th>2517</th>\n",
              "      <td>03/01/2010</td>\n",
              "      <td>$29.8557</td>\n",
              "      <td>137312041</td>\n",
              "      <td>$29.3928</td>\n",
              "      <td>$29.9286</td>\n",
              "      <td>$29.35</td>\n",
              "    </tr>\n",
              "  </tbody>\n",
              "</table>\n",
              "<p>2518 rows × 6 columns</p>\n",
              "</div>"
            ],
            "text/plain": [
              "            Date  Close/Last     Volume       Open       High        Low\n",
              "0     02/28/2020     $273.36  106721200    $257.26    $278.41    $256.37\n",
              "1     02/27/2020     $273.52   80151380     $281.1       $286    $272.96\n",
              "2     02/26/2020     $292.65   49678430    $286.53    $297.88     $286.5\n",
              "3     02/25/2020     $288.08   57668360    $300.95    $302.53    $286.13\n",
              "4     02/24/2020     $298.18   55548830    $297.26    $304.18    $289.23\n",
              "...          ...         ...        ...        ...        ...        ...\n",
              "2513  03/05/2010    $31.2786  224647427   $30.7057   $31.3857   $30.6614\n",
              "2514  03/04/2010    $30.1014   89591907   $29.8971   $30.1314   $29.8043\n",
              "2515  03/03/2010    $29.9043   92846488   $29.8486   $29.9814   $29.7057\n",
              "2516  03/02/2010    $29.8357  141486282     $29.99   $30.1186   $29.6771\n",
              "2517  03/01/2010    $29.8557  137312041   $29.3928   $29.9286     $29.35\n",
              "\n",
              "[2518 rows x 6 columns]"
            ]
          },
          "metadata": {
            "tags": []
          },
          "execution_count": 3
        }
      ]
    },
    {
      "cell_type": "markdown",
      "metadata": {
        "id": "pfFaDxmC8-Fw"
      },
      "source": [
        "## Preprocessing the Dataset"
      ]
    },
    {
      "cell_type": "code",
      "metadata": {
        "colab": {
          "base_uri": "https://localhost:8080/"
        },
        "id": "4XJP2onsYOVy",
        "outputId": "b461d744-6bb9-4ff7-98e3-a6f0ceb2c4d2"
      },
      "source": [
        "#columns have white spaces, which have to be removed\n",
        "data.columns"
      ],
      "execution_count": 4,
      "outputs": [
        {
          "output_type": "execute_result",
          "data": {
            "text/plain": [
              "Index(['Date', ' Close/Last', ' Volume', ' Open', ' High', ' Low'], dtype='object')"
            ]
          },
          "metadata": {
            "tags": []
          },
          "execution_count": 4
        }
      ]
    },
    {
      "cell_type": "code",
      "metadata": {
        "colab": {
          "base_uri": "https://localhost:8080/",
          "height": 35
        },
        "id": "MDW7Tdiuhvq8",
        "outputId": "122b4a69-937f-4bce-da14-3ce48f2db2e0"
      },
      "source": [
        "#all the entries are in string format\n",
        "data[' Open'][2513]"
      ],
      "execution_count": 5,
      "outputs": [
        {
          "output_type": "execute_result",
          "data": {
            "application/vnd.google.colaboratory.intrinsic+json": {
              "type": "string"
            },
            "text/plain": [
              "' $30.7057'"
            ]
          },
          "metadata": {
            "tags": []
          },
          "execution_count": 5
        }
      ]
    },
    {
      "cell_type": "code",
      "metadata": {
        "id": "auwZrVEVghGt"
      },
      "source": [
        "data.columns = data.columns.str.lstrip()"
      ],
      "execution_count": 6,
      "outputs": []
    },
    {
      "cell_type": "code",
      "metadata": {
        "colab": {
          "base_uri": "https://localhost:8080/"
        },
        "id": "J6LqkJ4DhOB0",
        "outputId": "9bb0d9cf-0c73-4275-cee2-1e6790fb0945"
      },
      "source": [
        "for i in data.columns:\n",
        "  if i!='Date':\n",
        "    for j in range(0,2518):\n",
        "      data[i][j] = str(data[i][j]).replace(' ','')\n",
        "      data[i][j] = str(data[i][j]).replace('$','')"
      ],
      "execution_count": 7,
      "outputs": [
        {
          "output_type": "stream",
          "text": [
            "/usr/local/lib/python3.7/dist-packages/ipykernel_launcher.py:4: SettingWithCopyWarning: \n",
            "A value is trying to be set on a copy of a slice from a DataFrame\n",
            "\n",
            "See the caveats in the documentation: https://pandas.pydata.org/pandas-docs/stable/user_guide/indexing.html#returning-a-view-versus-a-copy\n",
            "  after removing the cwd from sys.path.\n",
            "/usr/local/lib/python3.7/dist-packages/ipykernel_launcher.py:5: SettingWithCopyWarning: \n",
            "A value is trying to be set on a copy of a slice from a DataFrame\n",
            "\n",
            "See the caveats in the documentation: https://pandas.pydata.org/pandas-docs/stable/user_guide/indexing.html#returning-a-view-versus-a-copy\n",
            "  \"\"\"\n"
          ],
          "name": "stderr"
        }
      ]
    },
    {
      "cell_type": "code",
      "metadata": {
        "id": "4dnnwZ81jQdP"
      },
      "source": [
        "for i in data.columns:\n",
        "  if i!='Date':\n",
        "      data[i] = data[i].astype(float)"
      ],
      "execution_count": 8,
      "outputs": []
    },
    {
      "cell_type": "code",
      "metadata": {
        "colab": {
          "base_uri": "https://localhost:8080/",
          "height": 417
        },
        "id": "DMUtarvyi5GX",
        "outputId": "5f5d0a82-618d-4e59-e4c3-8d77877b16eb"
      },
      "source": [
        "data"
      ],
      "execution_count": 9,
      "outputs": [
        {
          "output_type": "execute_result",
          "data": {
            "text/html": [
              "<div>\n",
              "<style scoped>\n",
              "    .dataframe tbody tr th:only-of-type {\n",
              "        vertical-align: middle;\n",
              "    }\n",
              "\n",
              "    .dataframe tbody tr th {\n",
              "        vertical-align: top;\n",
              "    }\n",
              "\n",
              "    .dataframe thead th {\n",
              "        text-align: right;\n",
              "    }\n",
              "</style>\n",
              "<table border=\"1\" class=\"dataframe\">\n",
              "  <thead>\n",
              "    <tr style=\"text-align: right;\">\n",
              "      <th></th>\n",
              "      <th>Date</th>\n",
              "      <th>Close/Last</th>\n",
              "      <th>Volume</th>\n",
              "      <th>Open</th>\n",
              "      <th>High</th>\n",
              "      <th>Low</th>\n",
              "    </tr>\n",
              "  </thead>\n",
              "  <tbody>\n",
              "    <tr>\n",
              "      <th>0</th>\n",
              "      <td>02/28/2020</td>\n",
              "      <td>273.3600</td>\n",
              "      <td>106721200.0</td>\n",
              "      <td>257.2600</td>\n",
              "      <td>278.4100</td>\n",
              "      <td>256.3700</td>\n",
              "    </tr>\n",
              "    <tr>\n",
              "      <th>1</th>\n",
              "      <td>02/27/2020</td>\n",
              "      <td>273.5200</td>\n",
              "      <td>80151380.0</td>\n",
              "      <td>281.1000</td>\n",
              "      <td>286.0000</td>\n",
              "      <td>272.9600</td>\n",
              "    </tr>\n",
              "    <tr>\n",
              "      <th>2</th>\n",
              "      <td>02/26/2020</td>\n",
              "      <td>292.6500</td>\n",
              "      <td>49678430.0</td>\n",
              "      <td>286.5300</td>\n",
              "      <td>297.8800</td>\n",
              "      <td>286.5000</td>\n",
              "    </tr>\n",
              "    <tr>\n",
              "      <th>3</th>\n",
              "      <td>02/25/2020</td>\n",
              "      <td>288.0800</td>\n",
              "      <td>57668360.0</td>\n",
              "      <td>300.9500</td>\n",
              "      <td>302.5300</td>\n",
              "      <td>286.1300</td>\n",
              "    </tr>\n",
              "    <tr>\n",
              "      <th>4</th>\n",
              "      <td>02/24/2020</td>\n",
              "      <td>298.1800</td>\n",
              "      <td>55548830.0</td>\n",
              "      <td>297.2600</td>\n",
              "      <td>304.1800</td>\n",
              "      <td>289.2300</td>\n",
              "    </tr>\n",
              "    <tr>\n",
              "      <th>...</th>\n",
              "      <td>...</td>\n",
              "      <td>...</td>\n",
              "      <td>...</td>\n",
              "      <td>...</td>\n",
              "      <td>...</td>\n",
              "      <td>...</td>\n",
              "    </tr>\n",
              "    <tr>\n",
              "      <th>2513</th>\n",
              "      <td>03/05/2010</td>\n",
              "      <td>31.2786</td>\n",
              "      <td>224647427.0</td>\n",
              "      <td>30.7057</td>\n",
              "      <td>31.3857</td>\n",
              "      <td>30.6614</td>\n",
              "    </tr>\n",
              "    <tr>\n",
              "      <th>2514</th>\n",
              "      <td>03/04/2010</td>\n",
              "      <td>30.1014</td>\n",
              "      <td>89591907.0</td>\n",
              "      <td>29.8971</td>\n",
              "      <td>30.1314</td>\n",
              "      <td>29.8043</td>\n",
              "    </tr>\n",
              "    <tr>\n",
              "      <th>2515</th>\n",
              "      <td>03/03/2010</td>\n",
              "      <td>29.9043</td>\n",
              "      <td>92846488.0</td>\n",
              "      <td>29.8486</td>\n",
              "      <td>29.9814</td>\n",
              "      <td>29.7057</td>\n",
              "    </tr>\n",
              "    <tr>\n",
              "      <th>2516</th>\n",
              "      <td>03/02/2010</td>\n",
              "      <td>29.8357</td>\n",
              "      <td>141486282.0</td>\n",
              "      <td>29.9900</td>\n",
              "      <td>30.1186</td>\n",
              "      <td>29.6771</td>\n",
              "    </tr>\n",
              "    <tr>\n",
              "      <th>2517</th>\n",
              "      <td>03/01/2010</td>\n",
              "      <td>29.8557</td>\n",
              "      <td>137312041.0</td>\n",
              "      <td>29.3928</td>\n",
              "      <td>29.9286</td>\n",
              "      <td>29.3500</td>\n",
              "    </tr>\n",
              "  </tbody>\n",
              "</table>\n",
              "<p>2518 rows × 6 columns</p>\n",
              "</div>"
            ],
            "text/plain": [
              "            Date  Close/Last       Volume      Open      High       Low\n",
              "0     02/28/2020    273.3600  106721200.0  257.2600  278.4100  256.3700\n",
              "1     02/27/2020    273.5200   80151380.0  281.1000  286.0000  272.9600\n",
              "2     02/26/2020    292.6500   49678430.0  286.5300  297.8800  286.5000\n",
              "3     02/25/2020    288.0800   57668360.0  300.9500  302.5300  286.1300\n",
              "4     02/24/2020    298.1800   55548830.0  297.2600  304.1800  289.2300\n",
              "...          ...         ...          ...       ...       ...       ...\n",
              "2513  03/05/2010     31.2786  224647427.0   30.7057   31.3857   30.6614\n",
              "2514  03/04/2010     30.1014   89591907.0   29.8971   30.1314   29.8043\n",
              "2515  03/03/2010     29.9043   92846488.0   29.8486   29.9814   29.7057\n",
              "2516  03/02/2010     29.8357  141486282.0   29.9900   30.1186   29.6771\n",
              "2517  03/01/2010     29.8557  137312041.0   29.3928   29.9286   29.3500\n",
              "\n",
              "[2518 rows x 6 columns]"
            ]
          },
          "metadata": {
            "tags": []
          },
          "execution_count": 9
        }
      ]
    },
    {
      "cell_type": "code",
      "metadata": {
        "id": "hXqho90atigG"
      },
      "source": [
        "data.Date = pd.to_datetime(data.Date)\n",
        "data.sort_values('Date', ascending = True, inplace=True)"
      ],
      "execution_count": 10,
      "outputs": []
    },
    {
      "cell_type": "code",
      "metadata": {
        "colab": {
          "base_uri": "https://localhost:8080/",
          "height": 417
        },
        "id": "pJsQAtlht6aF",
        "outputId": "d5d57187-a68e-41ca-9f26-ca0be0a5f051"
      },
      "source": [
        "data"
      ],
      "execution_count": 11,
      "outputs": [
        {
          "output_type": "execute_result",
          "data": {
            "text/html": [
              "<div>\n",
              "<style scoped>\n",
              "    .dataframe tbody tr th:only-of-type {\n",
              "        vertical-align: middle;\n",
              "    }\n",
              "\n",
              "    .dataframe tbody tr th {\n",
              "        vertical-align: top;\n",
              "    }\n",
              "\n",
              "    .dataframe thead th {\n",
              "        text-align: right;\n",
              "    }\n",
              "</style>\n",
              "<table border=\"1\" class=\"dataframe\">\n",
              "  <thead>\n",
              "    <tr style=\"text-align: right;\">\n",
              "      <th></th>\n",
              "      <th>Date</th>\n",
              "      <th>Close/Last</th>\n",
              "      <th>Volume</th>\n",
              "      <th>Open</th>\n",
              "      <th>High</th>\n",
              "      <th>Low</th>\n",
              "    </tr>\n",
              "  </thead>\n",
              "  <tbody>\n",
              "    <tr>\n",
              "      <th>2517</th>\n",
              "      <td>2010-03-01</td>\n",
              "      <td>29.8557</td>\n",
              "      <td>137312041.0</td>\n",
              "      <td>29.3928</td>\n",
              "      <td>29.9286</td>\n",
              "      <td>29.3500</td>\n",
              "    </tr>\n",
              "    <tr>\n",
              "      <th>2516</th>\n",
              "      <td>2010-03-02</td>\n",
              "      <td>29.8357</td>\n",
              "      <td>141486282.0</td>\n",
              "      <td>29.9900</td>\n",
              "      <td>30.1186</td>\n",
              "      <td>29.6771</td>\n",
              "    </tr>\n",
              "    <tr>\n",
              "      <th>2515</th>\n",
              "      <td>2010-03-03</td>\n",
              "      <td>29.9043</td>\n",
              "      <td>92846488.0</td>\n",
              "      <td>29.8486</td>\n",
              "      <td>29.9814</td>\n",
              "      <td>29.7057</td>\n",
              "    </tr>\n",
              "    <tr>\n",
              "      <th>2514</th>\n",
              "      <td>2010-03-04</td>\n",
              "      <td>30.1014</td>\n",
              "      <td>89591907.0</td>\n",
              "      <td>29.8971</td>\n",
              "      <td>30.1314</td>\n",
              "      <td>29.8043</td>\n",
              "    </tr>\n",
              "    <tr>\n",
              "      <th>2513</th>\n",
              "      <td>2010-03-05</td>\n",
              "      <td>31.2786</td>\n",
              "      <td>224647427.0</td>\n",
              "      <td>30.7057</td>\n",
              "      <td>31.3857</td>\n",
              "      <td>30.6614</td>\n",
              "    </tr>\n",
              "    <tr>\n",
              "      <th>...</th>\n",
              "      <td>...</td>\n",
              "      <td>...</td>\n",
              "      <td>...</td>\n",
              "      <td>...</td>\n",
              "      <td>...</td>\n",
              "      <td>...</td>\n",
              "    </tr>\n",
              "    <tr>\n",
              "      <th>4</th>\n",
              "      <td>2020-02-24</td>\n",
              "      <td>298.1800</td>\n",
              "      <td>55548830.0</td>\n",
              "      <td>297.2600</td>\n",
              "      <td>304.1800</td>\n",
              "      <td>289.2300</td>\n",
              "    </tr>\n",
              "    <tr>\n",
              "      <th>3</th>\n",
              "      <td>2020-02-25</td>\n",
              "      <td>288.0800</td>\n",
              "      <td>57668360.0</td>\n",
              "      <td>300.9500</td>\n",
              "      <td>302.5300</td>\n",
              "      <td>286.1300</td>\n",
              "    </tr>\n",
              "    <tr>\n",
              "      <th>2</th>\n",
              "      <td>2020-02-26</td>\n",
              "      <td>292.6500</td>\n",
              "      <td>49678430.0</td>\n",
              "      <td>286.5300</td>\n",
              "      <td>297.8800</td>\n",
              "      <td>286.5000</td>\n",
              "    </tr>\n",
              "    <tr>\n",
              "      <th>1</th>\n",
              "      <td>2020-02-27</td>\n",
              "      <td>273.5200</td>\n",
              "      <td>80151380.0</td>\n",
              "      <td>281.1000</td>\n",
              "      <td>286.0000</td>\n",
              "      <td>272.9600</td>\n",
              "    </tr>\n",
              "    <tr>\n",
              "      <th>0</th>\n",
              "      <td>2020-02-28</td>\n",
              "      <td>273.3600</td>\n",
              "      <td>106721200.0</td>\n",
              "      <td>257.2600</td>\n",
              "      <td>278.4100</td>\n",
              "      <td>256.3700</td>\n",
              "    </tr>\n",
              "  </tbody>\n",
              "</table>\n",
              "<p>2518 rows × 6 columns</p>\n",
              "</div>"
            ],
            "text/plain": [
              "           Date  Close/Last       Volume      Open      High       Low\n",
              "2517 2010-03-01     29.8557  137312041.0   29.3928   29.9286   29.3500\n",
              "2516 2010-03-02     29.8357  141486282.0   29.9900   30.1186   29.6771\n",
              "2515 2010-03-03     29.9043   92846488.0   29.8486   29.9814   29.7057\n",
              "2514 2010-03-04     30.1014   89591907.0   29.8971   30.1314   29.8043\n",
              "2513 2010-03-05     31.2786  224647427.0   30.7057   31.3857   30.6614\n",
              "...         ...         ...          ...       ...       ...       ...\n",
              "4    2020-02-24    298.1800   55548830.0  297.2600  304.1800  289.2300\n",
              "3    2020-02-25    288.0800   57668360.0  300.9500  302.5300  286.1300\n",
              "2    2020-02-26    292.6500   49678430.0  286.5300  297.8800  286.5000\n",
              "1    2020-02-27    273.5200   80151380.0  281.1000  286.0000  272.9600\n",
              "0    2020-02-28    273.3600  106721200.0  257.2600  278.4100  256.3700\n",
              "\n",
              "[2518 rows x 6 columns]"
            ]
          },
          "metadata": {
            "tags": []
          },
          "execution_count": 11
        }
      ]
    },
    {
      "cell_type": "code",
      "metadata": {
        "colab": {
          "base_uri": "https://localhost:8080/",
          "height": 312
        },
        "id": "Adwvburmj0P9",
        "outputId": "54d21e09-5cb7-4b1c-fe9b-ac038963fc4a"
      },
      "source": [
        "from matplotlib import pyplot as plt\n",
        "plt.figure()\n",
        "plt.plot(data['Date'],data[\"Open\"])\n",
        "plt.plot(data['Date'],data[\"High\"])\n",
        "plt.plot(data['Date'],data[\"Low\"])\n",
        "plt.plot(data['Date'],data[\"Close/Last\"])\n",
        "plt.title('Apple stock price history')\n",
        "plt.ylabel('Price (USD)')\n",
        "plt.xlabel('Years')\n",
        "plt.legend(['Open','High','Low','Close'], loc='upper right')\n",
        "plt.show()\n",
        "plt.savefig('Apple stock price history')"
      ],
      "execution_count": 15,
      "outputs": [
        {
          "output_type": "display_data",
          "data": {
            "image/png": "[encoded data removed]",
            "text/plain": [
              "<Figure size 432x288 with 1 Axes>"
            ]
          },
          "metadata": {
            "tags": [],
            "needs_background": "light"
          }
        },
        {
          "output_type": "display_data",
          "data": {
            "text/plain": [
              "<Figure size 432x288 with 0 Axes>"
            ]
          },
          "metadata": {
            "tags": []
          }
        }
      ]
    },
    {
      "cell_type": "markdown",
      "metadata": {
        "id": "VFAMBeIPojJn"
      },
      "source": [
        "The profit or loss calculation is usually determined by the closing price of a stock for the day, hence the closing price will be considered as the target variable. "
      ]
    },
    {
      "cell_type": "code",
      "metadata": {
        "colab": {
          "base_uri": "https://localhost:8080/",
          "height": 312
        },
        "id": "U_0wlusPkBIm",
        "outputId": "bf1299f8-f74b-4332-fff1-4e70c6cbf4c7"
      },
      "source": [
        "plt.figure()\n",
        "plt.plot(data[\"Date\"],data[\"Volume\"])\n",
        "plt.title('Apple stock volume history')\n",
        "plt.ylabel('Volume')\n",
        "plt.xlabel('Years')\n",
        "plt.show()\n",
        "plt.savefig(\"Apple stock volume history\")"
      ],
      "execution_count": 14,
      "outputs": [
        {
          "output_type": "display_data",
          "data": {
            "image/png": "[encoded data removed]",
            "text/plain": [
              "<Figure size 432x288 with 1 Axes>"
            ]
          },
          "metadata": {
            "tags": [],
            "needs_background": "light"
          }
        },
        {
          "output_type": "display_data",
          "data": {
            "text/plain": [
              "<Figure size 432x288 with 0 Axes>"
            ]
          },
          "metadata": {
            "tags": []
          }
        }
      ]
    },
    {
      "cell_type": "code",
      "metadata": {
        "colab": {
          "base_uri": "https://localhost:8080/"
        },
        "id": "-vgbPt6-ko8G",
        "outputId": "4cb8ad6b-52ca-4592-ed2b-a105b6bb9875"
      },
      "source": [
        "#check whether null values present\n",
        "data.isna().sum()    "
      ],
      "execution_count": 16,
      "outputs": [
        {
          "output_type": "execute_result",
          "data": {
            "text/plain": [
              "Date          0\n",
              "Close/Last    0\n",
              "Volume        0\n",
              "Open          0\n",
              "High          0\n",
              "Low           0\n",
              "dtype: int64"
            ]
          },
          "metadata": {
            "tags": []
          },
          "execution_count": 16
        }
      ]
    },
    {
      "cell_type": "code",
      "metadata": {
        "colab": {
          "base_uri": "https://localhost:8080/",
          "height": 417
        },
        "id": "1mW3wUujq-fD",
        "outputId": "caef71f2-f063-4d78-cf3b-5dc5a68109e0"
      },
      "source": [
        "data"
      ],
      "execution_count": 17,
      "outputs": [
        {
          "output_type": "execute_result",
          "data": {
            "text/html": [
              "<div>\n",
              "<style scoped>\n",
              "    .dataframe tbody tr th:only-of-type {\n",
              "        vertical-align: middle;\n",
              "    }\n",
              "\n",
              "    .dataframe tbody tr th {\n",
              "        vertical-align: top;\n",
              "    }\n",
              "\n",
              "    .dataframe thead th {\n",
              "        text-align: right;\n",
              "    }\n",
              "</style>\n",
              "<table border=\"1\" class=\"dataframe\">\n",
              "  <thead>\n",
              "    <tr style=\"text-align: right;\">\n",
              "      <th></th>\n",
              "      <th>Date</th>\n",
              "      <th>Close/Last</th>\n",
              "      <th>Volume</th>\n",
              "      <th>Open</th>\n",
              "      <th>High</th>\n",
              "      <th>Low</th>\n",
              "    </tr>\n",
              "  </thead>\n",
              "  <tbody>\n",
              "    <tr>\n",
              "      <th>2517</th>\n",
              "      <td>2010-03-01</td>\n",
              "      <td>29.8557</td>\n",
              "      <td>137312041.0</td>\n",
              "      <td>29.3928</td>\n",
              "      <td>29.9286</td>\n",
              "      <td>29.3500</td>\n",
              "    </tr>\n",
              "    <tr>\n",
              "      <th>2516</th>\n",
              "      <td>2010-03-02</td>\n",
              "      <td>29.8357</td>\n",
              "      <td>141486282.0</td>\n",
              "      <td>29.9900</td>\n",
              "      <td>30.1186</td>\n",
              "      <td>29.6771</td>\n",
              "    </tr>\n",
              "    <tr>\n",
              "      <th>2515</th>\n",
              "      <td>2010-03-03</td>\n",
              "      <td>29.9043</td>\n",
              "      <td>92846488.0</td>\n",
              "      <td>29.8486</td>\n",
              "      <td>29.9814</td>\n",
              "      <td>29.7057</td>\n",
              "    </tr>\n",
              "    <tr>\n",
              "      <th>2514</th>\n",
              "      <td>2010-03-04</td>\n",
              "      <td>30.1014</td>\n",
              "      <td>89591907.0</td>\n",
              "      <td>29.8971</td>\n",
              "      <td>30.1314</td>\n",
              "      <td>29.8043</td>\n",
              "    </tr>\n",
              "    <tr>\n",
              "      <th>2513</th>\n",
              "      <td>2010-03-05</td>\n",
              "      <td>31.2786</td>\n",
              "      <td>224647427.0</td>\n",
              "      <td>30.7057</td>\n",
              "      <td>31.3857</td>\n",
              "      <td>30.6614</td>\n",
              "    </tr>\n",
              "    <tr>\n",
              "      <th>...</th>\n",
              "      <td>...</td>\n",
              "      <td>...</td>\n",
              "      <td>...</td>\n",
              "      <td>...</td>\n",
              "      <td>...</td>\n",
              "      <td>...</td>\n",
              "    </tr>\n",
              "    <tr>\n",
              "      <th>4</th>\n",
              "      <td>2020-02-24</td>\n",
              "      <td>298.1800</td>\n",
              "      <td>55548830.0</td>\n",
              "      <td>297.2600</td>\n",
              "      <td>304.1800</td>\n",
              "      <td>289.2300</td>\n",
              "    </tr>\n",
              "    <tr>\n",
              "      <th>3</th>\n",
              "      <td>2020-02-25</td>\n",
              "      <td>288.0800</td>\n",
              "      <td>57668360.0</td>\n",
              "      <td>300.9500</td>\n",
              "      <td>302.5300</td>\n",
              "      <td>286.1300</td>\n",
              "    </tr>\n",
              "    <tr>\n",
              "      <th>2</th>\n",
              "      <td>2020-02-26</td>\n",
              "      <td>292.6500</td>\n",
              "      <td>49678430.0</td>\n",
              "      <td>286.5300</td>\n",
              "      <td>297.8800</td>\n",
              "      <td>286.5000</td>\n",
              "    </tr>\n",
              "    <tr>\n",
              "      <th>1</th>\n",
              "      <td>2020-02-27</td>\n",
              "      <td>273.5200</td>\n",
              "      <td>80151380.0</td>\n",
              "      <td>281.1000</td>\n",
              "      <td>286.0000</td>\n",
              "      <td>272.9600</td>\n",
              "    </tr>\n",
              "    <tr>\n",
              "      <th>0</th>\n",
              "      <td>2020-02-28</td>\n",
              "      <td>273.3600</td>\n",
              "      <td>106721200.0</td>\n",
              "      <td>257.2600</td>\n",
              "      <td>278.4100</td>\n",
              "      <td>256.3700</td>\n",
              "    </tr>\n",
              "  </tbody>\n",
              "</table>\n",
              "<p>2518 rows × 6 columns</p>\n",
              "</div>"
            ],
            "text/plain": [
              "           Date  Close/Last       Volume      Open      High       Low\n",
              "2517 2010-03-01     29.8557  137312041.0   29.3928   29.9286   29.3500\n",
              "2516 2010-03-02     29.8357  141486282.0   29.9900   30.1186   29.6771\n",
              "2515 2010-03-03     29.9043   92846488.0   29.8486   29.9814   29.7057\n",
              "2514 2010-03-04     30.1014   89591907.0   29.8971   30.1314   29.8043\n",
              "2513 2010-03-05     31.2786  224647427.0   30.7057   31.3857   30.6614\n",
              "...         ...         ...          ...       ...       ...       ...\n",
              "4    2020-02-24    298.1800   55548830.0  297.2600  304.1800  289.2300\n",
              "3    2020-02-25    288.0800   57668360.0  300.9500  302.5300  286.1300\n",
              "2    2020-02-26    292.6500   49678430.0  286.5300  297.8800  286.5000\n",
              "1    2020-02-27    273.5200   80151380.0  281.1000  286.0000  272.9600\n",
              "0    2020-02-28    273.3600  106721200.0  257.2600  278.4100  256.3700\n",
              "\n",
              "[2518 rows x 6 columns]"
            ]
          },
          "metadata": {
            "tags": []
          },
          "execution_count": 17
        }
      ]
    },
    {
      "cell_type": "markdown",
      "metadata": {
        "id": "J1SWirIwiIWp"
      },
      "source": [
        "## Creating the training and test data"
      ]
    },
    {
      "cell_type": "code",
      "metadata": {
        "id": "zsuiZplIpA6i"
      },
      "source": [
        "df = data['Close/Last']\n",
        "#df.set_index('Date', inplace=True)"
      ],
      "execution_count": 18,
      "outputs": []
    },
    {
      "cell_type": "code",
      "metadata": {
        "colab": {
          "base_uri": "https://localhost:8080/"
        },
        "id": "xggEdbd3RVAn",
        "outputId": "8065e050-3c6a-4e37-d424-1db5247298b7"
      },
      "source": [
        "df"
      ],
      "execution_count": 19,
      "outputs": [
        {
          "output_type": "execute_result",
          "data": {
            "text/plain": [
              "2517     29.8557\n",
              "2516     29.8357\n",
              "2515     29.9043\n",
              "2514     30.1014\n",
              "2513     31.2786\n",
              "          ...   \n",
              "4       298.1800\n",
              "3       288.0800\n",
              "2       292.6500\n",
              "1       273.5200\n",
              "0       273.3600\n",
              "Name: Close/Last, Length: 2518, dtype: float64"
            ]
          },
          "metadata": {
            "tags": []
          },
          "execution_count": 19
        }
      ]
    },
    {
      "cell_type": "code",
      "metadata": {
        "id": "7mgBI8XbSn-R"
      },
      "source": [
        "#normalizing the values for better predictions\n",
        "scaler = MinMaxScaler(feature_range=(0,1))"
      ],
      "execution_count": 20,
      "outputs": []
    },
    {
      "cell_type": "code",
      "metadata": {
        "id": "wyyTZijsHIaq"
      },
      "source": [
        "# reshape the data before calling scaler.fit_transform because it works only on np arrays\n",
        "df = scaler.fit_transform(np.array(df).reshape(-1,1))"
      ],
      "execution_count": 21,
      "outputs": []
    },
    {
      "cell_type": "code",
      "metadata": {
        "colab": {
          "base_uri": "https://localhost:8080/"
        },
        "id": "kok4kbXARjVa",
        "outputId": "67bceaba-95c6-4268-85e4-4ccaeef21b34"
      },
      "source": [
        "df"
      ],
      "execution_count": 22,
      "outputs": [
        {
          "output_type": "execute_result",
          "data": {
            "text/plain": [
              "array([[6.72575693e-05],\n",
              "       [0.00000000e+00],\n",
              "       [2.30693463e-04],\n",
              "       ...,\n",
              "       [8.83812549e-01],\n",
              "       [8.19480684e-01],\n",
              "       [8.18942624e-01]])"
            ]
          },
          "metadata": {
            "tags": []
          },
          "execution_count": 22
        }
      ]
    },
    {
      "cell_type": "code",
      "metadata": {
        "id": "1qkFE_IRSnzg"
      },
      "source": [
        "training_size = int(0.7*df.shape[0])\n",
        "test_size = df.shape[0] - training_size\n",
        "train_data = df[:training_size, :]\n",
        "test_data = df[training_size:, :]"
      ],
      "execution_count": 23,
      "outputs": []
    },
    {
      "cell_type": "code",
      "metadata": {
        "colab": {
          "base_uri": "https://localhost:8080/"
        },
        "id": "vY0f_ME5Sn4f",
        "outputId": "762e1717-0524-4b48-f961-db8453dcd848"
      },
      "source": [
        "df.shape"
      ],
      "execution_count": 24,
      "outputs": [
        {
          "output_type": "execute_result",
          "data": {
            "text/plain": [
              "(2518, 1)"
            ]
          },
          "metadata": {
            "tags": []
          },
          "execution_count": 24
        }
      ]
    },
    {
      "cell_type": "code",
      "metadata": {
        "colab": {
          "base_uri": "https://localhost:8080/"
        },
        "id": "_LFy0ZD_SnxN",
        "outputId": "f6e5897d-d343-4b04-c127-93047810f430"
      },
      "source": [
        "test_data.shape"
      ],
      "execution_count": 25,
      "outputs": [
        {
          "output_type": "execute_result",
          "data": {
            "text/plain": [
              "(756, 1)"
            ]
          },
          "metadata": {
            "tags": []
          },
          "execution_count": 25
        }
      ]
    },
    {
      "cell_type": "code",
      "metadata": {
        "colab": {
          "base_uri": "https://localhost:8080/"
        },
        "id": "8Kg-2lNqSnuc",
        "outputId": "3852c4dd-1258-4637-c66c-48c3d6a4c630"
      },
      "source": [
        "train_data.shape"
      ],
      "execution_count": 26,
      "outputs": [
        {
          "output_type": "execute_result",
          "data": {
            "text/plain": [
              "(1762, 1)"
            ]
          },
          "metadata": {
            "tags": []
          },
          "execution_count": 26
        }
      ]
    },
    {
      "cell_type": "markdown",
      "metadata": {
        "id": "vpiwKeGIiARy"
      },
      "source": [
        "## Sliding Window Approach for the Training and Test Datasets"
      ]
    },
    {
      "cell_type": "markdown",
      "metadata": {
        "id": "BvMVyp6ZQiY6"
      },
      "source": [
        "![LSTM.png](data:image/png;base64,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)"
      ]
    },
    {
      "cell_type": "markdown",
      "metadata": {
        "id": "VRocj6N89ial"
      },
      "source": [
        "A window size of 100 is chosen for this particular dataframe."
      ]
    },
    {
      "cell_type": "code",
      "metadata": {
        "id": "d_3jbaMQ-yOA"
      },
      "source": [
        "window_size = 100"
      ],
      "execution_count": 28,
      "outputs": []
    },
    {
      "cell_type": "code",
      "metadata": {
        "id": "-B3p3Az-Snma"
      },
      "source": [
        "x_train2, y_train2 = [], []\n",
        "for i in range(window_size, train_data.shape[0]):         # a single prediction on the basis of the last 100 days\n",
        "  x_train2.append(train_data[i-window_size:i,0])\n",
        "  y_train2.append(train_data[i,0])\n",
        "\n",
        "x_train2, y_train2 = np.array(x_train2), np.array(y_train2)\n",
        "x_train2 = x_train2.reshape((x_train2.shape[0], x_train2.shape[1], 1))      # to make the input size compatible with the LSTM input size"
      ],
      "execution_count": 29,
      "outputs": []
    },
    {
      "cell_type": "code",
      "metadata": {
        "id": "zdYXvLKtSnXe"
      },
      "source": [
        "x_test2, y_test2 = [], []\n",
        "for i in range(window_size, test_data.shape[0]):\n",
        "  x_test2.append(test_data[i-window_size:i, :])\n",
        "  y_test2.append(test_data[i,:])\n",
        "\n",
        "x_test2, y_test2 = np.array(x_test2), np.array(y_test2)"
      ],
      "execution_count": 30,
      "outputs": []
    },
    {
      "cell_type": "code",
      "metadata": {
        "colab": {
          "base_uri": "https://localhost:8080/"
        },
        "id": "HfcUPJzngc-a",
        "outputId": "8f3b3f0b-d89d-42dd-a12a-dbc127ff4395"
      },
      "source": [
        "x_train2.shape"
      ],
      "execution_count": 31,
      "outputs": [
        {
          "output_type": "execute_result",
          "data": {
            "text/plain": [
              "(1662, 100, 1)"
            ]
          },
          "metadata": {
            "tags": []
          },
          "execution_count": 31
        }
      ]
    },
    {
      "cell_type": "code",
      "metadata": {
        "colab": {
          "base_uri": "https://localhost:8080/"
        },
        "id": "HmGtpOHagpCH",
        "outputId": "74da8af2-fd72-482d-afa8-30f76913a588"
      },
      "source": [
        "x_test2.shape"
      ],
      "execution_count": 32,
      "outputs": [
        {
          "output_type": "execute_result",
          "data": {
            "text/plain": [
              "(656, 100, 1)"
            ]
          },
          "metadata": {
            "tags": []
          },
          "execution_count": 32
        }
      ]
    },
    {
      "cell_type": "code",
      "metadata": {
        "id": "8NVPza99SnN4"
      },
      "source": [
        "model = Sequential()\n",
        "model.add(LSTM(units = 50, input_shape = (x_train2.shape[1],1), return_sequences=True))\n",
        "model.add(Dropout(0.2))\n",
        "#model.add(LSTM(units = 50, return_sequences = True))\n",
        "#model.add(Dropout(0.2))\n",
        "model.add(LSTM(units = 50))\n",
        "model.add(Dense(units = 1, activation = 'linear'))"
      ],
      "execution_count": 33,
      "outputs": []
    },
    {
      "cell_type": "code",
      "metadata": {
        "colab": {
          "base_uri": "https://localhost:8080/"
        },
        "id": "CPByrzXHSnJ6",
        "outputId": "239547c2-54ec-4a62-bcbc-f0460243e49b"
      },
      "source": [
        "model.summary()"
      ],
      "execution_count": 34,
      "outputs": [
        {
          "output_type": "stream",
          "text": [
            "Model: \"sequential\"\n",
            "_________________________________________________________________\n",
            "Layer (type)                 Output Shape              Param #   \n",
            "=================================================================\n",
            "lstm (LSTM)                  (None, 100, 50)           10400     \n",
            "_________________________________________________________________\n",
            "dropout (Dropout)            (None, 100, 50)           0         \n",
            "_________________________________________________________________\n",
            "lstm_1 (LSTM)                (None, 50)                20200     \n",
            "_________________________________________________________________\n",
            "dense (Dense)                (None, 1)                 51        \n",
            "=================================================================\n",
            "Total params: 30,651\n",
            "Trainable params: 30,651\n",
            "Non-trainable params: 0\n",
            "_________________________________________________________________\n"
          ],
          "name": "stdout"
        }
      ]
    },
    {
      "cell_type": "code",
      "metadata": {
        "colab": {
          "base_uri": "https://localhost:8080/"
        },
        "id": "yW0Xupl0SnG4",
        "outputId": "5d3dc271-a51e-4e4c-d7c3-94c921fbd244"
      },
      "source": [
        "model.compile(loss='mean_squared_error', optimizer='adam')\n",
        "model.fit(x_train2, y_train2, validation_data = (x_test2, y_test2) ,epochs= 200, batch_size= 64, verbose=1)"
      ],
      "execution_count": 35,
      "outputs": [
        {
          "output_type": "stream",
          "text": [
            "Epoch 1/200\n",
            "26/26 [==============================] - 24s 53ms/step - loss: 0.0119 - val_loss: 0.0104\n",
            "Epoch 2/200\n",
            "26/26 [==============================] - 0s 13ms/step - loss: 9.0057e-04 - val_loss: 0.0012\n",
            "Epoch 3/200\n",
            "26/26 [==============================] - 0s 12ms/step - loss: 2.1743e-04 - val_loss: 9.0967e-04\n",
            "Epoch 4/200\n",
            "26/26 [==============================] - 0s 12ms/step - loss: 1.7399e-04 - val_loss: 8.6303e-04\n",
            "Epoch 5/200\n",
            "26/26 [==============================] - 0s 12ms/step - loss: 1.6632e-04 - val_loss: 8.1616e-04\n",
            "Epoch 6/200\n",
            "26/26 [==============================] - 0s 12ms/step - loss: 1.6272e-04 - val_loss: 0.0012\n",
            "Epoch 7/200\n",
            "26/26 [==============================] - 0s 12ms/step - loss: 1.6292e-04 - val_loss: 8.3505e-04\n",
            "Epoch 8/200\n",
            "26/26 [==============================] - 0s 13ms/step - loss: 1.4808e-04 - val_loss: 9.3617e-04\n",
            "Epoch 9/200\n",
            "26/26 [==============================] - 0s 12ms/step - loss: 1.4759e-04 - val_loss: 8.4739e-04\n",
            "Epoch 10/200\n",
            "26/26 [==============================] - 0s 13ms/step - loss: 1.6050e-04 - val_loss: 9.9218e-04\n",
            "Epoch 11/200\n",
            "26/26 [==============================] - 0s 12ms/step - loss: 1.5338e-04 - val_loss: 0.0011\n",
            "Epoch 12/200\n",
            "26/26 [==============================] - 0s 12ms/step - loss: 1.6084e-04 - val_loss: 8.1146e-04\n",
            "Epoch 13/200\n",
            "26/26 [==============================] - 0s 12ms/step - loss: 1.4487e-04 - val_loss: 7.8067e-04\n",
            "Epoch 14/200\n",
            "26/26 [==============================] - 0s 12ms/step - loss: 1.4151e-04 - val_loss: 6.9359e-04\n",
            "Epoch 15/200\n",
            "26/26 [==============================] - 0s 13ms/step - loss: 1.2785e-04 - val_loss: 9.1194e-04\n",
            "Epoch 16/200\n",
            "26/26 [==============================] - 0s 12ms/step - loss: 1.3000e-04 - val_loss: 9.1719e-04\n",
            "Epoch 17/200\n",
            "26/26 [==============================] - 0s 12ms/step - loss: 1.4201e-04 - val_loss: 8.3097e-04\n",
            "Epoch 18/200\n",
            "26/26 [==============================] - 0s 12ms/step - loss: 1.2810e-04 - val_loss: 7.8068e-04\n",
            "Epoch 19/200\n",
            "26/26 [==============================] - 0s 13ms/step - loss: 1.3523e-04 - val_loss: 8.1125e-04\n",
            "Epoch 20/200\n",
            "26/26 [==============================] - 0s 12ms/step - loss: 1.2720e-04 - val_loss: 7.2376e-04\n",
            "Epoch 21/200\n",
            "26/26 [==============================] - 0s 12ms/step - loss: 1.1872e-04 - val_loss: 7.2370e-04\n",
            "Epoch 22/200\n",
            "26/26 [==============================] - 0s 12ms/step - loss: 1.2321e-04 - val_loss: 8.3208e-04\n",
            "Epoch 23/200\n",
            "26/26 [==============================] - 0s 12ms/step - loss: 1.2266e-04 - val_loss: 7.2733e-04\n",
            "Epoch 24/200\n",
            "26/26 [==============================] - 0s 13ms/step - loss: 1.0698e-04 - val_loss: 6.8485e-04\n",
            "Epoch 25/200\n",
            "26/26 [==============================] - 0s 12ms/step - loss: 1.0926e-04 - val_loss: 6.1636e-04\n",
            "Epoch 26/200\n",
            "26/26 [==============================] - 0s 12ms/step - loss: 1.0701e-04 - val_loss: 5.8172e-04\n",
            "Epoch 27/200\n",
            "26/26 [==============================] - 0s 12ms/step - loss: 1.0632e-04 - val_loss: 6.5389e-04\n",
            "Epoch 28/200\n",
            "26/26 [==============================] - 0s 12ms/step - loss: 1.0287e-04 - val_loss: 6.0452e-04\n",
            "Epoch 29/200\n",
            "26/26 [==============================] - 0s 12ms/step - loss: 1.0351e-04 - val_loss: 8.7400e-04\n",
            "Epoch 30/200\n",
            "26/26 [==============================] - 0s 12ms/step - loss: 1.0993e-04 - val_loss: 5.0832e-04\n",
            "Epoch 31/200\n",
            "26/26 [==============================] - 0s 12ms/step - loss: 1.0649e-04 - val_loss: 5.5111e-04\n",
            "Epoch 32/200\n",
            "26/26 [==============================] - 0s 12ms/step - loss: 1.0731e-04 - val_loss: 6.0601e-04\n",
            "Epoch 33/200\n",
            "26/26 [==============================] - 0s 12ms/step - loss: 1.0694e-04 - val_loss: 7.1116e-04\n",
            "Epoch 34/200\n",
            "26/26 [==============================] - 0s 12ms/step - loss: 1.1337e-04 - val_loss: 0.0013\n",
            "Epoch 35/200\n",
            "26/26 [==============================] - 0s 11ms/step - loss: 1.1901e-04 - val_loss: 6.3986e-04\n",
            "Epoch 36/200\n",
            "26/26 [==============================] - 0s 12ms/step - loss: 9.5564e-05 - val_loss: 9.8034e-04\n",
            "Epoch 37/200\n",
            "26/26 [==============================] - 0s 12ms/step - loss: 1.1119e-04 - val_loss: 9.2519e-04\n",
            "Epoch 38/200\n",
            "26/26 [==============================] - 0s 12ms/step - loss: 1.0124e-04 - val_loss: 0.0012\n",
            "Epoch 39/200\n",
            "26/26 [==============================] - 0s 12ms/step - loss: 9.6890e-05 - val_loss: 7.1399e-04\n",
            "Epoch 40/200\n",
            "26/26 [==============================] - 0s 11ms/step - loss: 9.7805e-05 - val_loss: 7.4622e-04\n",
            "Epoch 41/200\n",
            "26/26 [==============================] - 0s 12ms/step - loss: 8.6117e-05 - val_loss: 0.0015\n",
            "Epoch 42/200\n",
            "26/26 [==============================] - 0s 12ms/step - loss: 1.0079e-04 - val_loss: 8.0036e-04\n",
            "Epoch 43/200\n",
            "26/26 [==============================] - 0s 12ms/step - loss: 9.3904e-05 - val_loss: 6.9053e-04\n",
            "Epoch 44/200\n",
            "26/26 [==============================] - 0s 12ms/step - loss: 9.3291e-05 - val_loss: 9.3802e-04\n",
            "Epoch 45/200\n",
            "26/26 [==============================] - 0s 12ms/step - loss: 8.2035e-05 - val_loss: 6.2426e-04\n",
            "Epoch 46/200\n",
            "26/26 [==============================] - 0s 12ms/step - loss: 7.8698e-05 - val_loss: 6.6812e-04\n",
            "Epoch 47/200\n",
            "26/26 [==============================] - 0s 12ms/step - loss: 9.0781e-05 - val_loss: 5.1390e-04\n",
            "Epoch 48/200\n",
            "26/26 [==============================] - 0s 12ms/step - loss: 7.9047e-05 - val_loss: 4.7276e-04\n",
            "Epoch 49/200\n",
            "26/26 [==============================] - 0s 12ms/step - loss: 9.6801e-05 - val_loss: 8.4315e-04\n",
            "Epoch 50/200\n",
            "26/26 [==============================] - 0s 13ms/step - loss: 9.5378e-05 - val_loss: 0.0014\n",
            "Epoch 51/200\n",
            "26/26 [==============================] - 0s 12ms/step - loss: 8.7364e-05 - val_loss: 0.0011\n",
            "Epoch 52/200\n",
            "26/26 [==============================] - 0s 12ms/step - loss: 8.7188e-05 - val_loss: 7.4542e-04\n",
            "Epoch 53/200\n",
            "26/26 [==============================] - 0s 12ms/step - loss: 8.1580e-05 - val_loss: 4.1268e-04\n",
            "Epoch 54/200\n",
            "26/26 [==============================] - 0s 12ms/step - loss: 8.3987e-05 - val_loss: 4.9638e-04\n",
            "Epoch 55/200\n",
            "26/26 [==============================] - 0s 12ms/step - loss: 7.7049e-05 - val_loss: 9.9435e-04\n",
            "Epoch 56/200\n",
            "26/26 [==============================] - 0s 12ms/step - loss: 9.4176e-05 - val_loss: 6.5324e-04\n",
            "Epoch 57/200\n",
            "26/26 [==============================] - 0s 12ms/step - loss: 7.9946e-05 - val_loss: 5.8016e-04\n",
            "Epoch 58/200\n",
            "26/26 [==============================] - 0s 12ms/step - loss: 7.0797e-05 - val_loss: 9.4574e-04\n",
            "Epoch 59/200\n",
            "26/26 [==============================] - 0s 12ms/step - loss: 8.1593e-05 - val_loss: 0.0011\n",
            "Epoch 60/200\n",
            "26/26 [==============================] - 0s 12ms/step - loss: 8.4444e-05 - val_loss: 3.6503e-04\n",
            "Epoch 61/200\n",
            "26/26 [==============================] - 0s 12ms/step - loss: 8.6829e-05 - val_loss: 4.5967e-04\n",
            "Epoch 62/200\n",
            "26/26 [==============================] - 0s 12ms/step - loss: 7.1361e-05 - val_loss: 7.7556e-04\n",
            "Epoch 63/200\n",
            "26/26 [==============================] - 0s 12ms/step - loss: 7.7332e-05 - val_loss: 5.0721e-04\n",
            "Epoch 64/200\n",
            "26/26 [==============================] - 0s 12ms/step - loss: 7.1693e-05 - val_loss: 3.3861e-04\n",
            "Epoch 65/200\n",
            "26/26 [==============================] - 0s 12ms/step - loss: 7.0747e-05 - val_loss: 6.5658e-04\n",
            "Epoch 66/200\n",
            "26/26 [==============================] - 0s 12ms/step - loss: 8.0693e-05 - val_loss: 7.2426e-04\n",
            "Epoch 67/200\n",
            "26/26 [==============================] - 0s 12ms/step - loss: 8.0632e-05 - val_loss: 4.9219e-04\n",
            "Epoch 68/200\n",
            "26/26 [==============================] - 0s 12ms/step - loss: 7.3182e-05 - val_loss: 8.9513e-04\n",
            "Epoch 69/200\n",
            "26/26 [==============================] - 0s 12ms/step - loss: 6.7650e-05 - val_loss: 7.2457e-04\n",
            "Epoch 70/200\n",
            "26/26 [==============================] - 0s 12ms/step - loss: 7.8248e-05 - val_loss: 8.1675e-04\n",
            "Epoch 71/200\n",
            "26/26 [==============================] - 0s 13ms/step - loss: 7.5405e-05 - val_loss: 5.1630e-04\n",
            "Epoch 72/200\n",
            "26/26 [==============================] - 0s 12ms/step - loss: 6.2934e-05 - val_loss: 5.1631e-04\n",
            "Epoch 73/200\n",
            "26/26 [==============================] - 0s 13ms/step - loss: 8.1907e-05 - val_loss: 2.9728e-04\n",
            "Epoch 74/200\n",
            "26/26 [==============================] - 0s 12ms/step - loss: 7.6445e-05 - val_loss: 4.6191e-04\n",
            "Epoch 75/200\n",
            "26/26 [==============================] - 0s 12ms/step - loss: 6.4628e-05 - val_loss: 5.9346e-04\n",
            "Epoch 76/200\n",
            "26/26 [==============================] - 0s 12ms/step - loss: 7.1623e-05 - val_loss: 4.5378e-04\n",
            "Epoch 77/200\n",
            "26/26 [==============================] - 0s 13ms/step - loss: 6.0865e-05 - val_loss: 7.0332e-04\n",
            "Epoch 78/200\n",
            "26/26 [==============================] - 0s 12ms/step - loss: 6.2574e-05 - val_loss: 3.4311e-04\n",
            "Epoch 79/200\n",
            "26/26 [==============================] - 0s 12ms/step - loss: 6.4993e-05 - val_loss: 8.5606e-04\n",
            "Epoch 80/200\n",
            "26/26 [==============================] - 0s 12ms/step - loss: 6.5839e-05 - val_loss: 8.7782e-04\n",
            "Epoch 81/200\n",
            "26/26 [==============================] - 0s 12ms/step - loss: 6.7018e-05 - val_loss: 4.2043e-04\n",
            "Epoch 82/200\n",
            "26/26 [==============================] - 0s 12ms/step - loss: 6.6196e-05 - val_loss: 2.8911e-04\n",
            "Epoch 83/200\n",
            "26/26 [==============================] - 0s 12ms/step - loss: 6.5267e-05 - val_loss: 4.5651e-04\n",
            "Epoch 84/200\n",
            "26/26 [==============================] - 0s 12ms/step - loss: 5.9475e-05 - val_loss: 5.2977e-04\n",
            "Epoch 85/200\n",
            "26/26 [==============================] - 0s 12ms/step - loss: 6.2730e-05 - val_loss: 5.1141e-04\n",
            "Epoch 86/200\n",
            "26/26 [==============================] - 0s 12ms/step - loss: 6.1665e-05 - val_loss: 4.9535e-04\n",
            "Epoch 87/200\n",
            "26/26 [==============================] - 0s 12ms/step - loss: 6.3010e-05 - val_loss: 4.2834e-04\n",
            "Epoch 88/200\n",
            "26/26 [==============================] - 0s 13ms/step - loss: 6.1896e-05 - val_loss: 5.0376e-04\n",
            "Epoch 89/200\n",
            "26/26 [==============================] - 0s 14ms/step - loss: 6.2553e-05 - val_loss: 3.9240e-04\n",
            "Epoch 90/200\n",
            "26/26 [==============================] - 0s 13ms/step - loss: 5.7190e-05 - val_loss: 5.7297e-04\n",
            "Epoch 91/200\n",
            "26/26 [==============================] - 0s 13ms/step - loss: 5.5343e-05 - val_loss: 4.4058e-04\n",
            "Epoch 92/200\n",
            "26/26 [==============================] - 0s 13ms/step - loss: 6.4634e-05 - val_loss: 3.2244e-04\n",
            "Epoch 93/200\n",
            "26/26 [==============================] - 0s 12ms/step - loss: 5.5784e-05 - val_loss: 3.2882e-04\n",
            "Epoch 94/200\n",
            "26/26 [==============================] - 0s 13ms/step - loss: 6.0564e-05 - val_loss: 3.9156e-04\n",
            "Epoch 95/200\n",
            "26/26 [==============================] - 0s 13ms/step - loss: 6.0410e-05 - val_loss: 3.4784e-04\n",
            "Epoch 96/200\n",
            "26/26 [==============================] - 0s 13ms/step - loss: 5.8616e-05 - val_loss: 3.6622e-04\n",
            "Epoch 97/200\n",
            "26/26 [==============================] - 0s 12ms/step - loss: 5.7183e-05 - val_loss: 2.8698e-04\n",
            "Epoch 98/200\n",
            "26/26 [==============================] - 0s 13ms/step - loss: 5.9198e-05 - val_loss: 4.7895e-04\n",
            "Epoch 99/200\n",
            "26/26 [==============================] - 0s 12ms/step - loss: 6.1983e-05 - val_loss: 6.5704e-04\n",
            "Epoch 100/200\n",
            "26/26 [==============================] - 0s 12ms/step - loss: 6.2894e-05 - val_loss: 3.6340e-04\n",
            "Epoch 101/200\n",
            "26/26 [==============================] - 0s 13ms/step - loss: 5.8049e-05 - val_loss: 3.4611e-04\n",
            "Epoch 102/200\n",
            "26/26 [==============================] - 0s 13ms/step - loss: 5.6506e-05 - val_loss: 5.0879e-04\n",
            "Epoch 103/200\n",
            "26/26 [==============================] - 0s 12ms/step - loss: 5.3324e-05 - val_loss: 5.7160e-04\n",
            "Epoch 104/200\n",
            "26/26 [==============================] - 0s 13ms/step - loss: 5.5510e-05 - val_loss: 2.7860e-04\n",
            "Epoch 105/200\n",
            "26/26 [==============================] - 0s 13ms/step - loss: 5.7306e-05 - val_loss: 6.3744e-04\n",
            "Epoch 106/200\n",
            "26/26 [==============================] - 0s 13ms/step - loss: 5.2776e-05 - val_loss: 3.3428e-04\n",
            "Epoch 107/200\n",
            "26/26 [==============================] - 0s 13ms/step - loss: 5.6723e-05 - val_loss: 6.6417e-04\n",
            "Epoch 108/200\n",
            "26/26 [==============================] - 0s 13ms/step - loss: 5.2197e-05 - val_loss: 2.6482e-04\n",
            "Epoch 109/200\n",
            "26/26 [==============================] - 0s 13ms/step - loss: 5.7110e-05 - val_loss: 4.2582e-04\n",
            "Epoch 110/200\n",
            "26/26 [==============================] - 0s 13ms/step - loss: 5.6645e-05 - val_loss: 2.7095e-04\n",
            "Epoch 111/200\n",
            "26/26 [==============================] - 0s 13ms/step - loss: 5.1718e-05 - val_loss: 2.8534e-04\n",
            "Epoch 112/200\n",
            "26/26 [==============================] - 0s 13ms/step - loss: 4.7578e-05 - val_loss: 4.0749e-04\n",
            "Epoch 113/200\n",
            "26/26 [==============================] - 0s 13ms/step - loss: 4.5829e-05 - val_loss: 7.3954e-04\n",
            "Epoch 114/200\n",
            "26/26 [==============================] - 0s 13ms/step - loss: 8.3042e-05 - val_loss: 7.5292e-04\n",
            "Epoch 115/200\n",
            "26/26 [==============================] - 0s 13ms/step - loss: 5.5847e-05 - val_loss: 5.8015e-04\n",
            "Epoch 116/200\n",
            "26/26 [==============================] - 0s 13ms/step - loss: 5.1685e-05 - val_loss: 6.7399e-04\n",
            "Epoch 117/200\n",
            "26/26 [==============================] - 0s 13ms/step - loss: 5.4949e-05 - val_loss: 4.1773e-04\n",
            "Epoch 118/200\n",
            "26/26 [==============================] - 0s 13ms/step - loss: 5.4568e-05 - val_loss: 4.7798e-04\n",
            "Epoch 119/200\n",
            "26/26 [==============================] - 0s 13ms/step - loss: 5.1849e-05 - val_loss: 6.1771e-04\n",
            "Epoch 120/200\n",
            "26/26 [==============================] - 0s 13ms/step - loss: 5.4162e-05 - val_loss: 3.9667e-04\n",
            "Epoch 121/200\n",
            "26/26 [==============================] - 0s 13ms/step - loss: 5.1145e-05 - val_loss: 3.1235e-04\n",
            "Epoch 122/200\n",
            "26/26 [==============================] - 0s 14ms/step - loss: 5.2322e-05 - val_loss: 2.3894e-04\n",
            "Epoch 123/200\n",
            "26/26 [==============================] - 0s 13ms/step - loss: 5.4892e-05 - val_loss: 3.5884e-04\n",
            "Epoch 124/200\n",
            "26/26 [==============================] - 0s 13ms/step - loss: 5.1433e-05 - val_loss: 3.7550e-04\n",
            "Epoch 125/200\n",
            "26/26 [==============================] - 0s 13ms/step - loss: 4.7213e-05 - val_loss: 2.3048e-04\n",
            "Epoch 126/200\n",
            "26/26 [==============================] - 0s 13ms/step - loss: 5.4907e-05 - val_loss: 5.9631e-04\n",
            "Epoch 127/200\n",
            "26/26 [==============================] - 0s 12ms/step - loss: 5.0333e-05 - val_loss: 3.3600e-04\n",
            "Epoch 128/200\n",
            "26/26 [==============================] - 0s 13ms/step - loss: 4.6804e-05 - val_loss: 2.7866e-04\n",
            "Epoch 129/200\n",
            "26/26 [==============================] - 0s 13ms/step - loss: 4.8685e-05 - val_loss: 3.7424e-04\n",
            "Epoch 130/200\n",
            "26/26 [==============================] - 0s 13ms/step - loss: 5.0718e-05 - val_loss: 5.9780e-04\n",
            "Epoch 131/200\n",
            "26/26 [==============================] - 0s 13ms/step - loss: 5.0341e-05 - val_loss: 4.0129e-04\n",
            "Epoch 132/200\n",
            "26/26 [==============================] - 0s 13ms/step - loss: 4.3757e-05 - val_loss: 2.6614e-04\n",
            "Epoch 133/200\n",
            "26/26 [==============================] - 0s 12ms/step - loss: 4.8066e-05 - val_loss: 2.0259e-04\n",
            "Epoch 134/200\n",
            "26/26 [==============================] - 0s 14ms/step - loss: 4.9673e-05 - val_loss: 2.4989e-04\n",
            "Epoch 135/200\n",
            "26/26 [==============================] - 0s 13ms/step - loss: 5.6011e-05 - val_loss: 4.2597e-04\n",
            "Epoch 136/200\n",
            "26/26 [==============================] - 0s 13ms/step - loss: 4.8204e-05 - val_loss: 2.8789e-04\n",
            "Epoch 137/200\n",
            "26/26 [==============================] - 0s 13ms/step - loss: 5.2214e-05 - val_loss: 4.2792e-04\n",
            "Epoch 138/200\n",
            "26/26 [==============================] - 0s 13ms/step - loss: 4.8349e-05 - val_loss: 4.0466e-04\n",
            "Epoch 139/200\n",
            "26/26 [==============================] - 0s 13ms/step - loss: 4.5089e-05 - val_loss: 4.2838e-04\n",
            "Epoch 140/200\n",
            "26/26 [==============================] - 0s 14ms/step - loss: 4.9204e-05 - val_loss: 3.4154e-04\n",
            "Epoch 141/200\n",
            "26/26 [==============================] - 0s 14ms/step - loss: 4.5398e-05 - val_loss: 3.6252e-04\n",
            "Epoch 142/200\n",
            "26/26 [==============================] - 0s 13ms/step - loss: 4.6924e-05 - val_loss: 2.5263e-04\n",
            "Epoch 143/200\n",
            "26/26 [==============================] - 0s 13ms/step - loss: 4.3278e-05 - val_loss: 4.1378e-04\n",
            "Epoch 144/200\n",
            "26/26 [==============================] - 0s 13ms/step - loss: 4.6855e-05 - val_loss: 4.8051e-04\n",
            "Epoch 145/200\n",
            "26/26 [==============================] - 0s 13ms/step - loss: 5.0058e-05 - val_loss: 2.7901e-04\n",
            "Epoch 146/200\n",
            "26/26 [==============================] - 0s 14ms/step - loss: 4.6565e-05 - val_loss: 2.8263e-04\n",
            "Epoch 147/200\n",
            "26/26 [==============================] - 0s 14ms/step - loss: 4.2674e-05 - val_loss: 2.3743e-04\n",
            "Epoch 148/200\n",
            "26/26 [==============================] - 0s 14ms/step - loss: 4.1924e-05 - val_loss: 6.1105e-04\n",
            "Epoch 149/200\n",
            "26/26 [==============================] - 0s 13ms/step - loss: 4.4346e-05 - val_loss: 3.0473e-04\n",
            "Epoch 150/200\n",
            "26/26 [==============================] - 0s 13ms/step - loss: 4.9083e-05 - val_loss: 4.9732e-04\n",
            "Epoch 151/200\n",
            "26/26 [==============================] - 0s 13ms/step - loss: 4.4750e-05 - val_loss: 2.0520e-04\n",
            "Epoch 152/200\n",
            "26/26 [==============================] - 0s 14ms/step - loss: 4.5309e-05 - val_loss: 4.6855e-04\n",
            "Epoch 153/200\n",
            "26/26 [==============================] - 0s 13ms/step - loss: 4.4791e-05 - val_loss: 4.6031e-04\n",
            "Epoch 154/200\n",
            "26/26 [==============================] - 0s 13ms/step - loss: 3.9302e-05 - val_loss: 3.1726e-04\n",
            "Epoch 155/200\n",
            "26/26 [==============================] - 0s 14ms/step - loss: 4.5070e-05 - val_loss: 4.7446e-04\n",
            "Epoch 156/200\n",
            "26/26 [==============================] - 0s 14ms/step - loss: 4.2426e-05 - val_loss: 3.0721e-04\n",
            "Epoch 157/200\n",
            "26/26 [==============================] - 0s 14ms/step - loss: 4.2185e-05 - val_loss: 2.9886e-04\n",
            "Epoch 158/200\n",
            "26/26 [==============================] - 0s 14ms/step - loss: 4.0854e-05 - val_loss: 2.2086e-04\n",
            "Epoch 159/200\n",
            "26/26 [==============================] - 0s 13ms/step - loss: 4.4212e-05 - val_loss: 2.7394e-04\n",
            "Epoch 160/200\n",
            "26/26 [==============================] - 0s 13ms/step - loss: 4.1917e-05 - val_loss: 3.5032e-04\n",
            "Epoch 161/200\n",
            "26/26 [==============================] - 0s 12ms/step - loss: 3.9264e-05 - val_loss: 3.6668e-04\n",
            "Epoch 162/200\n",
            "26/26 [==============================] - 0s 13ms/step - loss: 3.8357e-05 - val_loss: 2.2281e-04\n",
            "Epoch 163/200\n",
            "26/26 [==============================] - 0s 13ms/step - loss: 4.7359e-05 - val_loss: 9.7264e-04\n",
            "Epoch 164/200\n",
            "26/26 [==============================] - 0s 13ms/step - loss: 4.6547e-05 - val_loss: 3.1209e-04\n",
            "Epoch 165/200\n",
            "26/26 [==============================] - 0s 13ms/step - loss: 3.8985e-05 - val_loss: 1.8109e-04\n",
            "Epoch 166/200\n",
            "26/26 [==============================] - 0s 14ms/step - loss: 4.0494e-05 - val_loss: 5.5728e-04\n",
            "Epoch 167/200\n",
            "26/26 [==============================] - 0s 13ms/step - loss: 3.9483e-05 - val_loss: 7.0146e-04\n",
            "Epoch 168/200\n",
            "26/26 [==============================] - 0s 13ms/step - loss: 3.9752e-05 - val_loss: 6.6215e-04\n",
            "Epoch 169/200\n",
            "26/26 [==============================] - 0s 13ms/step - loss: 4.3946e-05 - val_loss: 7.0851e-04\n",
            "Epoch 170/200\n",
            "26/26 [==============================] - 0s 13ms/step - loss: 5.0129e-05 - val_loss: 3.3915e-04\n",
            "Epoch 171/200\n",
            "26/26 [==============================] - 0s 14ms/step - loss: 3.8782e-05 - val_loss: 3.2019e-04\n",
            "Epoch 172/200\n",
            "26/26 [==============================] - 0s 13ms/step - loss: 3.6781e-05 - val_loss: 1.8850e-04\n",
            "Epoch 173/200\n",
            "26/26 [==============================] - 0s 13ms/step - loss: 3.8914e-05 - val_loss: 4.4303e-04\n",
            "Epoch 174/200\n",
            "26/26 [==============================] - 0s 12ms/step - loss: 3.9879e-05 - val_loss: 3.5714e-04\n",
            "Epoch 175/200\n",
            "26/26 [==============================] - 0s 13ms/step - loss: 3.6336e-05 - val_loss: 2.8721e-04\n",
            "Epoch 176/200\n",
            "26/26 [==============================] - 0s 12ms/step - loss: 3.8182e-05 - val_loss: 3.8417e-04\n",
            "Epoch 177/200\n",
            "26/26 [==============================] - 0s 13ms/step - loss: 4.4963e-05 - val_loss: 4.2279e-04\n",
            "Epoch 178/200\n",
            "26/26 [==============================] - 0s 13ms/step - loss: 3.9893e-05 - val_loss: 3.4223e-04\n",
            "Epoch 179/200\n",
            "26/26 [==============================] - 0s 13ms/step - loss: 3.6894e-05 - val_loss: 2.7330e-04\n",
            "Epoch 180/200\n",
            "26/26 [==============================] - 0s 13ms/step - loss: 3.5186e-05 - val_loss: 4.4894e-04\n",
            "Epoch 181/200\n",
            "26/26 [==============================] - 0s 13ms/step - loss: 3.7823e-05 - val_loss: 4.6700e-04\n",
            "Epoch 182/200\n",
            "26/26 [==============================] - 0s 12ms/step - loss: 4.1234e-05 - val_loss: 5.4163e-04\n",
            "Epoch 183/200\n",
            "26/26 [==============================] - 0s 13ms/step - loss: 3.7730e-05 - val_loss: 2.9317e-04\n",
            "Epoch 184/200\n",
            "26/26 [==============================] - 0s 13ms/step - loss: 3.5237e-05 - val_loss: 5.6241e-04\n",
            "Epoch 185/200\n",
            "26/26 [==============================] - 0s 12ms/step - loss: 3.6140e-05 - val_loss: 7.0623e-04\n",
            "Epoch 186/200\n",
            "26/26 [==============================] - 0s 13ms/step - loss: 3.6196e-05 - val_loss: 5.4477e-04\n",
            "Epoch 187/200\n",
            "26/26 [==============================] - 0s 13ms/step - loss: 3.5753e-05 - val_loss: 9.9834e-04\n",
            "Epoch 188/200\n",
            "26/26 [==============================] - 0s 12ms/step - loss: 4.1336e-05 - val_loss: 3.7237e-04\n",
            "Epoch 189/200\n",
            "26/26 [==============================] - 0s 12ms/step - loss: 3.9359e-05 - val_loss: 2.8676e-04\n",
            "Epoch 190/200\n",
            "26/26 [==============================] - 0s 13ms/step - loss: 3.6991e-05 - val_loss: 6.2664e-04\n",
            "Epoch 191/200\n",
            "26/26 [==============================] - 0s 12ms/step - loss: 4.0577e-05 - val_loss: 2.7945e-04\n",
            "Epoch 192/200\n",
            "26/26 [==============================] - 0s 12ms/step - loss: 3.7493e-05 - val_loss: 3.4768e-04\n",
            "Epoch 193/200\n",
            "26/26 [==============================] - 0s 12ms/step - loss: 3.8730e-05 - val_loss: 4.1503e-04\n",
            "Epoch 194/200\n",
            "26/26 [==============================] - 0s 13ms/step - loss: 3.5301e-05 - val_loss: 5.8351e-04\n",
            "Epoch 195/200\n",
            "26/26 [==============================] - 0s 13ms/step - loss: 3.9452e-05 - val_loss: 4.3074e-04\n",
            "Epoch 196/200\n",
            "26/26 [==============================] - 0s 13ms/step - loss: 4.8473e-05 - val_loss: 2.2386e-04\n",
            "Epoch 197/200\n",
            "26/26 [==============================] - 0s 12ms/step - loss: 3.5466e-05 - val_loss: 3.0828e-04\n",
            "Epoch 198/200\n",
            "26/26 [==============================] - 0s 13ms/step - loss: 3.6520e-05 - val_loss: 2.4691e-04\n",
            "Epoch 199/200\n",
            "26/26 [==============================] - 0s 13ms/step - loss: 3.3238e-05 - val_loss: 3.6779e-04\n",
            "Epoch 200/200\n",
            "26/26 [==============================] - 0s 13ms/step - loss: 3.5244e-05 - val_loss: 4.3103e-04\n"
          ],
          "name": "stdout"
        },
        {
          "output_type": "execute_result",
          "data": {
            "text/plain": [
              "<keras.callbacks.History at 0x7f121067cd90>"
            ]
          },
          "metadata": {
            "tags": []
          },
          "execution_count": 35
        }
      ]
    },
    {
      "cell_type": "code",
      "metadata": {
        "id": "Fh1uz2p7ctpQ"
      },
      "source": [
        "y_pred = scaler.inverse_transform(model.predict(x_test2))\n",
        "y_test = scaler.inverse_transform(y_test2)"
      ],
      "execution_count": 36,
      "outputs": []
    },
    {
      "cell_type": "code",
      "metadata": {
        "colab": {
          "base_uri": "https://localhost:8080/"
        },
        "id": "ScmD3NmGaUw0",
        "outputId": "d4a68c43-0ad2-4056-b38a-2772897e7100"
      },
      "source": [
        "y_pred[:5]"
      ],
      "execution_count": 37,
      "outputs": [
        {
          "output_type": "execute_result",
          "data": {
            "text/plain": [
              "array([[150.71361],\n",
              "       [150.46086],\n",
              "       [151.72964],\n",
              "       [152.68912],\n",
              "       [153.4603 ]], dtype=float32)"
            ]
          },
          "metadata": {
            "tags": []
          },
          "execution_count": 37
        }
      ]
    },
    {
      "cell_type": "code",
      "metadata": {
        "colab": {
          "base_uri": "https://localhost:8080/"
        },
        "id": "ZL72kBsUaWQY",
        "outputId": "d4c9913d-34ca-44b3-e201-35ed7d3fc367"
      },
      "source": [
        "y_test[:5]"
      ],
      "execution_count": 38,
      "outputs": [
        {
          "output_type": "execute_result",
          "data": {
            "text/plain": [
              "array([[150.27],\n",
              "       [152.09],\n",
              "       [152.74],\n",
              "       [153.46],\n",
              "       [150.56]])"
            ]
          },
          "metadata": {
            "tags": []
          },
          "execution_count": 38
        }
      ]
    },
    {
      "cell_type": "markdown",
      "metadata": {
        "id": "o2EnQQp1RzQZ"
      },
      "source": [
        "## Evaluation"
      ]
    },
    {
      "cell_type": "code",
      "metadata": {
        "colab": {
          "base_uri": "https://localhost:8080/"
        },
        "id": "x7XB6ny_adfy",
        "outputId": "74d141c3-ba29-4737-9801-ac2cbe62127e"
      },
      "source": [
        "import math\n",
        "from sklearn.metrics import mean_squared_error\n",
        "\n",
        "rmse_score = math.sqrt(mean_squared_error(y_test,y_pred))\n",
        "print('Root Mean Squared Error : ',rmse_score)"
      ],
      "execution_count": 39,
      "outputs": [
        {
          "output_type": "stream",
          "text": [
            "Root Mean Squared Error :  6.173629468169442\n"
          ],
          "name": "stdout"
        }
      ]
    },
    {
      "cell_type": "code",
      "metadata": {
        "colab": {
          "base_uri": "https://localhost:8080/"
        },
        "id": "bFQtv38Zc_JM",
        "outputId": "06956df7-5965-44e3-9929-884470e85630"
      },
      "source": [
        "from sklearn.metrics import r2_score\n",
        "print('R-squared Score  : ',r2_score(y_test,y_pred))"
      ],
      "execution_count": 40,
      "outputs": [
        {
          "output_type": "stream",
          "text": [
            "R-squared Score  :  0.9776940440930654\n"
          ],
          "name": "stdout"
        }
      ]
    },
    {
      "cell_type": "code",
      "metadata": {
        "colab": {
          "base_uri": "https://localhost:8080/",
          "height": 282
        },
        "id": "IbByY1y7dDA1",
        "outputId": "25a6ec72-1c02-4db5-99a7-b6cd40f5c36d"
      },
      "source": [
        "# shift train predictions for plotting\n",
        "train_predict = scaler.inverse_transform(model.predict(x_train2))\n",
        "\n",
        "look_back=100\n",
        "trainPredictPlot = np.empty_like(df)\n",
        "trainPredictPlot[:, :] = np.nan\n",
        "trainPredictPlot[look_back:len(train_predict)+look_back, :] = train_predict\n",
        "# shift test predictions for plotting\n",
        "testPredictPlot = np.empty_like(df)\n",
        "testPredictPlot[:, :] = np.nan\n",
        "testPredictPlot[len(train_predict)+(look_back*2):len(df), :] = y_pred\n",
        "# plot baseline and predictions\n",
        "plt.plot(scaler.inverse_transform(df))\n",
        "plt.plot(trainPredictPlot)\n",
        "plt.plot(testPredictPlot)\n",
        "plt.legend()\n",
        "plt.show()"
      ],
      "execution_count": 41,
      "outputs": [
        {
          "output_type": "stream",
          "text": [
            "No handles with labels found to put in legend.\n"
          ],
          "name": "stderr"
        },
        {
          "output_type": "display_data",
          "data": {
            "image/png": "[encoded data removed]",
            "text/plain": [
              "<Figure size 432x288 with 1 Axes>"
            ]
          },
          "metadata": {
            "tags": [],
            "needs_background": "light"
          }
        }
      ]
    },
    {
      "cell_type": "markdown",
      "metadata": {
        "id": "NzuipaoBR_Ib"
      },
      "source": [
        "## Future Predictions"
      ]
    },
    {
      "cell_type": "code",
      "metadata": {
        "id": "ViO2aId0R-58"
      },
      "source": [
        "x_input = test_data[len(test_data)-window_size:, 0]"
      ],
      "execution_count": 49,
      "outputs": []
    },
    {
      "cell_type": "code",
      "metadata": {
        "id": "dVhDiLthSOsN"
      },
      "source": [
        "x_input=x_input.reshape(1,-1)"
      ],
      "execution_count": 53,
      "outputs": []
    },
    {
      "cell_type": "code",
      "metadata": {
        "colab": {
          "base_uri": "https://localhost:8080/"
        },
        "id": "0awAlaXKTx_-",
        "outputId": "8159ba2e-4883-4aa0-bcea-340852d9eb0f"
      },
      "source": [
        "# we have the data of 100 days for a single prediction \n",
        "x_input.shape"
      ],
      "execution_count": 54,
      "outputs": [
        {
          "output_type": "execute_result",
          "data": {
            "text/plain": [
              "(1, 100)"
            ]
          },
          "metadata": {
            "tags": []
          },
          "execution_count": 54
        }
      ]
    },
    {
      "cell_type": "code",
      "metadata": {
        "id": "8zJjEzDfUF_8"
      },
      "source": [
        "x_input_list = list(x_input)\n",
        "x_input_list = list(x_input_list[0])"
      ],
      "execution_count": 55,
      "outputs": []
    },
    {
      "cell_type": "code",
      "metadata": {
        "colab": {
          "base_uri": "https://localhost:8080/"
        },
        "id": "PrFo7KdNUUzU",
        "outputId": "752766e8-62cb-4541-b354-ffab837c9308"
      },
      "source": [
        "x_input = x_input.reshape((1, window_size, 1))\n",
        "prediction = model.predict(x_input)\n",
        "prediction[0][0]"
      ],
      "execution_count": 87,
      "outputs": [
        {
          "output_type": "execute_result",
          "data": {
            "text/plain": [
              "0.7458584"
            ]
          },
          "metadata": {
            "tags": []
          },
          "execution_count": 87
        }
      ]
    },
    {
      "cell_type": "code",
      "metadata": {
        "id": "AAytnm7gWXFf"
      },
      "source": [
        "x_input_list.append(prediction[0][0])"
      ],
      "execution_count": 83,
      "outputs": []
    },
    {
      "cell_type": "code",
      "metadata": {
        "colab": {
          "base_uri": "https://localhost:8080/"
        },
        "id": "q3lNhE_1WFTa",
        "outputId": "5114c97a-1301-4e1f-a899-12a148566214"
      },
      "source": [
        "x_input_list"
      ],
      "execution_count": 86,
      "outputs": [
        {
          "output_type": "execute_result",
          "data": {
            "text/plain": [
              "[0.6632413507606663,\n",
              " 0.6542960940502945,\n",
              " 0.6631404644067899,\n",
              " 0.6734308725021799,\n",
              " 0.6940116886929601,\n",
              " 0.6928683100156945,\n",
              " 0.6910187268612943,\n",
              " 0.6878239923218759,\n",
              " 0.6908842117227925,\n",
              " 0.6946842643854693,\n",
              " 0.7084720660819068,\n",
              " 0.7066224829275067,\n",
              " 0.7174509515769041,\n",
              " 0.7187961029619224,\n",
              " 0.7288847383495598,\n",
              " 0.7371910481520478,\n",
              " 0.7178208682077841,\n",
              " 0.7177199818539077,\n",
              " 0.7362158133979095,\n",
              " 0.7599577353434827,\n",
              " 0.7656073711605595,\n",
              " 0.7643631061294176,\n",
              " 0.7647330227602978,\n",
              " 0.7720977265932729,\n",
              " 0.7744853703016804,\n",
              " 0.7814128999345247,\n",
              " 0.7806058091035136,\n",
              " 0.7890466340445037,\n",
              " 0.7828925664580448,\n",
              " 0.7933847472611876,\n",
              " 0.797891004400999,\n",
              " 0.795167072846337,\n",
              " 0.784742149612445,\n",
              " 0.780773953026641,\n",
              " 0.7800004909802554,\n",
              " 0.7954361031233406,\n",
              " 0.7884413159212454,\n",
              " 0.8003795344632828,\n",
              " 0.7983954361703809,\n",
              " 0.7880041417211145,\n",
              " 0.7721649841625238,\n",
              " 0.7798659758417537,\n",
              " 0.7927794291379293,\n",
              " 0.8100309956507892,\n",
              " 0.7972856862777408,\n",
              " 0.8025317766793122,\n",
              " 0.810232768358542,\n",
              " 0.8125531544976985,\n",
              " 0.8249621760244924,\n",
              " 0.8408013335830831,\n",
              " 0.8426509167374833,\n",
              " 0.8403977881675776,\n",
              " 0.8413393941370904,\n",
              " 0.8393889246288139,\n",
              " 0.8547236504180226,\n",
              " 0.8556316276029099,\n",
              " 0.8745982621316681,\n",
              " 0.8742283455007881,\n",
              " 0.8800124964563667,\n",
              " 0.8871754275815892,\n",
              " 0.9097067132806459,\n",
              " 0.8998871081700123,\n",
              " 0.9078571301262458,\n",
              " 0.9031154714940562,\n",
              " 0.9192572881142759,\n",
              " 0.9409142254130708,\n",
              " 0.9432682403368527,\n",
              " 0.9655641245435312,\n",
              " 0.9511710047238354,\n",
              " 0.9466647475840239,\n",
              " 0.9597799735879525,\n",
              " 0.9715164194222373,\n",
              " 0.9642526019431384,\n",
              " 0.9680526546058151,\n",
              " 0.9731978586535103,\n",
              " 0.970104010467968,\n",
              " 0.9386274680585395,\n",
              " 0.9680190258211897,\n",
              " 0.9903821675971188,\n",
              " 0.9888016147197226,\n",
              " 0.9405106799975652,\n",
              " 0.9376522333044014,\n",
              " 0.9719199648377429,\n",
              " 0.9806634488403617,\n",
              " 0.9933078718595337,\n",
              " 0.9758881614235467,\n",
              " 0.9809997366866164,\n",
              " 0.9744757524692776,\n",
              " 0.9999999999999999,\n",
              " 0.9921644931822683,\n",
              " 0.9924335234592719,\n",
              " 0.9724243966071245,\n",
              " 0.987960895104086,\n",
              " 0.9767961386084342,\n",
              " 0.9524152697549774,\n",
              " 0.9024092670169216,\n",
              " 0.8684441945452093,\n",
              " 0.8838125491190434,\n",
              " 0.8194806841305428,\n",
              " 0.8189426235765356,\n",
              " 0.7458584]"
            ]
          },
          "metadata": {
            "tags": []
          },
          "execution_count": 86
        }
      ]
    },
    {
      "cell_type": "code",
      "metadata": {
        "colab": {
          "base_uri": "https://localhost:8080/"
        },
        "id": "5jiuqHBuXr9j",
        "outputId": "331bc4c5-c5e4-4bc9-dd56-7e97d87b56d0"
      },
      "source": [
        "len(x_input_list)"
      ],
      "execution_count": 88,
      "outputs": [
        {
          "output_type": "execute_result",
          "data": {
            "text/plain": [
              "101"
            ]
          },
          "metadata": {
            "tags": []
          },
          "execution_count": 88
        }
      ]
    },
    {
      "cell_type": "code",
      "metadata": {
        "id": "RYW5_CseX110"
      },
      "source": [
        "# since we only need 100 values for our prediction\n",
        "x_input_list.remove(x_input_list[0])"
      ],
      "execution_count": 89,
      "outputs": []
    },
    {
      "cell_type": "code",
      "metadata": {
        "colab": {
          "base_uri": "https://localhost:8080/"
        },
        "id": "m1231p1-X5u_",
        "outputId": "65801fd9-169c-4c0b-ee4f-937d3087af87"
      },
      "source": [
        "x_input_list"
      ],
      "execution_count": 90,
      "outputs": [
        {
          "output_type": "execute_result",
          "data": {
            "text/plain": [
              "[0.6542960940502945,\n",
              " 0.6631404644067899,\n",
              " 0.6734308725021799,\n",
              " 0.6940116886929601,\n",
              " 0.6928683100156945,\n",
              " 0.6910187268612943,\n",
              " 0.6878239923218759,\n",
              " 0.6908842117227925,\n",
              " 0.6946842643854693,\n",
              " 0.7084720660819068,\n",
              " 0.7066224829275067,\n",
              " 0.7174509515769041,\n",
              " 0.7187961029619224,\n",
              " 0.7288847383495598,\n",
              " 0.7371910481520478,\n",
              " 0.7178208682077841,\n",
              " 0.7177199818539077,\n",
              " 0.7362158133979095,\n",
              " 0.7599577353434827,\n",
              " 0.7656073711605595,\n",
              " 0.7643631061294176,\n",
              " 0.7647330227602978,\n",
              " 0.7720977265932729,\n",
              " 0.7744853703016804,\n",
              " 0.7814128999345247,\n",
              " 0.7806058091035136,\n",
              " 0.7890466340445037,\n",
              " 0.7828925664580448,\n",
              " 0.7933847472611876,\n",
              " 0.797891004400999,\n",
              " 0.795167072846337,\n",
              " 0.784742149612445,\n",
              " 0.780773953026641,\n",
              " 0.7800004909802554,\n",
              " 0.7954361031233406,\n",
              " 0.7884413159212454,\n",
              " 0.8003795344632828,\n",
              " 0.7983954361703809,\n",
              " 0.7880041417211145,\n",
              " 0.7721649841625238,\n",
              " 0.7798659758417537,\n",
              " 0.7927794291379293,\n",
              " 0.8100309956507892,\n",
              " 0.7972856862777408,\n",
              " 0.8025317766793122,\n",
              " 0.810232768358542,\n",
              " 0.8125531544976985,\n",
              " 0.8249621760244924,\n",
              " 0.8408013335830831,\n",
              " 0.8426509167374833,\n",
              " 0.8403977881675776,\n",
              " 0.8413393941370904,\n",
              " 0.8393889246288139,\n",
              " 0.8547236504180226,\n",
              " 0.8556316276029099,\n",
              " 0.8745982621316681,\n",
              " 0.8742283455007881,\n",
              " 0.8800124964563667,\n",
              " 0.8871754275815892,\n",
              " 0.9097067132806459,\n",
              " 0.8998871081700123,\n",
              " 0.9078571301262458,\n",
              " 0.9031154714940562,\n",
              " 0.9192572881142759,\n",
              " 0.9409142254130708,\n",
              " 0.9432682403368527,\n",
              " 0.9655641245435312,\n",
              " 0.9511710047238354,\n",
              " 0.9466647475840239,\n",
              " 0.9597799735879525,\n",
              " 0.9715164194222373,\n",
              " 0.9642526019431384,\n",
              " 0.9680526546058151,\n",
              " 0.9731978586535103,\n",
              " 0.970104010467968,\n",
              " 0.9386274680585395,\n",
              " 0.9680190258211897,\n",
              " 0.9903821675971188,\n",
              " 0.9888016147197226,\n",
              " 0.9405106799975652,\n",
              " 0.9376522333044014,\n",
              " 0.9719199648377429,\n",
              " 0.9806634488403617,\n",
              " 0.9933078718595337,\n",
              " 0.9758881614235467,\n",
              " 0.9809997366866164,\n",
              " 0.9744757524692776,\n",
              " 0.9999999999999999,\n",
              " 0.9921644931822683,\n",
              " 0.9924335234592719,\n",
              " 0.9724243966071245,\n",
              " 0.987960895104086,\n",
              " 0.9767961386084342,\n",
              " 0.9524152697549774,\n",
              " 0.9024092670169216,\n",
              " 0.8684441945452093,\n",
              " 0.8838125491190434,\n",
              " 0.8194806841305428,\n",
              " 0.8189426235765356,\n",
              " 0.7458584]"
            ]
          },
          "metadata": {
            "tags": []
          },
          "execution_count": 90
        }
      ]
    },
    {
      "cell_type": "code",
      "metadata": {
        "colab": {
          "base_uri": "https://localhost:8080/"
        },
        "id": "b48UIRMyX62y",
        "outputId": "539b3c5a-b6ed-4998-ee0c-b767301a5868"
      },
      "source": [
        "x_input = np.array(x_input_list)\n",
        "x_input = x_input.reshape((1, window_size, 1))\n",
        "prediction = model.predict(x_input)\n",
        "prediction[0][0]"
      ],
      "execution_count": 93,
      "outputs": [
        {
          "output_type": "execute_result",
          "data": {
            "text/plain": [
              "0.68279654"
            ]
          },
          "metadata": {
            "tags": []
          },
          "execution_count": 93
        }
      ]
    },
    {
      "cell_type": "code",
      "metadata": {
        "colab": {
          "base_uri": "https://localhost:8080/"
        },
        "id": "BgebYgO-Ym1J",
        "outputId": "13761551-3015-4742-a75d-c6d2328b952e"
      },
      "source": [
        "scaler.inverse_transform([[0.7458584, 0.68279654]])"
      ],
      "execution_count": 97,
      "outputs": [
        {
          "output_type": "execute_result",
          "data": {
            "text/plain": [
              "array([[251.62736102, 232.87501516]])"
            ]
          },
          "metadata": {
            "tags": []
          },
          "execution_count": 97
        }
      ]
    },
    {
      "cell_type": "markdown",
      "metadata": {
        "id": "pKH_7gxeZM-3"
      },
      "source": [
        "### Combining everything into a single block"
      ]
    },
    {
      "cell_type": "code",
      "metadata": {
        "colab": {
          "base_uri": "https://localhost:8080/"
        },
        "id": "JN9SuD8ZZVki",
        "outputId": "e55470a4-4428-4010-803f-bd30c2effbd0"
      },
      "source": [
        "x_input = test_data[len(test_data)-window_size:, 0].reshape((1, window_size))\n",
        "x_input_list = list(x_input[0])\n",
        "days = 10\n",
        "\n",
        "for i in range(days):\n",
        "  x_input = np.array(x_input_list)\n",
        "  prediction =  model.predict(x_input.reshape(1, window_size, 1))\n",
        "  print(f'Prediction for day {i+1}:', scaler.inverse_transform(prediction)[0][0])\n",
        "  x_input_list.append(prediction[0][0])\n",
        "  x_input_list.remove(x_input_list[0])"
      ],
      "execution_count": 125,
      "outputs": [
        {
          "output_type": "stream",
          "text": [
            "Prediction for day 1: 251.62735\n",
            "Prediction for day 2: 232.87502\n",
            "Prediction for day 3: 213.81096\n",
            "Prediction for day 4: 196.01752\n",
            "Prediction for day 5: 180.13759\n",
            "Prediction for day 6: 166.6258\n",
            "Prediction for day 7: 155.65532\n",
            "Prediction for day 8: 147.15697\n",
            "Prediction for day 9: 140.9144\n",
            "Prediction for day 10: 136.6406\n"
          ],
          "name": "stdout"
        }
      ]
    },
    {
      "cell_type": "code",
      "metadata": {
        "colab": {
          "base_uri": "https://localhost:8080/"
        },
        "id": "AWLEbYuabiDY",
        "outputId": "09815b0b-95d0-4a5d-a222-f1941cd0887e"
      },
      "source": [
        "x_input_list"
      ],
      "execution_count": 129,
      "outputs": [
        {
          "output_type": "execute_result",
          "data": {
            "text/plain": [
              "[0.7084720660819068,\n",
              " 0.7066224829275067,\n",
              " 0.7174509515769041,\n",
              " 0.7187961029619224,\n",
              " 0.7288847383495598,\n",
              " 0.7371910481520478,\n",
              " 0.7178208682077841,\n",
              " 0.7177199818539077,\n",
              " 0.7362158133979095,\n",
              " 0.7599577353434827,\n",
              " 0.7656073711605595,\n",
              " 0.7643631061294176,\n",
              " 0.7647330227602978,\n",
              " 0.7720977265932729,\n",
              " 0.7744853703016804,\n",
              " 0.7814128999345247,\n",
              " 0.7806058091035136,\n",
              " 0.7890466340445037,\n",
              " 0.7828925664580448,\n",
              " 0.7933847472611876,\n",
              " 0.797891004400999,\n",
              " 0.795167072846337,\n",
              " 0.784742149612445,\n",
              " 0.780773953026641,\n",
              " 0.7800004909802554,\n",
              " 0.7954361031233406,\n",
              " 0.7884413159212454,\n",
              " 0.8003795344632828,\n",
              " 0.7983954361703809,\n",
              " 0.7880041417211145,\n",
              " 0.7721649841625238,\n",
              " 0.7798659758417537,\n",
              " 0.7927794291379293,\n",
              " 0.8100309956507892,\n",
              " 0.7972856862777408,\n",
              " 0.8025317766793122,\n",
              " 0.810232768358542,\n",
              " 0.8125531544976985,\n",
              " 0.8249621760244924,\n",
              " 0.8408013335830831,\n",
              " 0.8426509167374833,\n",
              " 0.8403977881675776,\n",
              " 0.8413393941370904,\n",
              " 0.8393889246288139,\n",
              " 0.8547236504180226,\n",
              " 0.8556316276029099,\n",
              " 0.8745982621316681,\n",
              " 0.8742283455007881,\n",
              " 0.8800124964563667,\n",
              " 0.8871754275815892,\n",
              " 0.9097067132806459,\n",
              " 0.8998871081700123,\n",
              " 0.9078571301262458,\n",
              " 0.9031154714940562,\n",
              " 0.9192572881142759,\n",
              " 0.9409142254130708,\n",
              " 0.9432682403368527,\n",
              " 0.9655641245435312,\n",
              " 0.9511710047238354,\n",
              " 0.9466647475840239,\n",
              " 0.9597799735879525,\n",
              " 0.9715164194222373,\n",
              " 0.9642526019431384,\n",
              " 0.9680526546058151,\n",
              " 0.9731978586535103,\n",
              " 0.970104010467968,\n",
              " 0.9386274680585395,\n",
              " 0.9680190258211897,\n",
              " 0.9903821675971188,\n",
              " 0.9888016147197226,\n",
              " 0.9405106799975652,\n",
              " 0.9376522333044014,\n",
              " 0.9719199648377429,\n",
              " 0.9806634488403617,\n",
              " 0.9933078718595337,\n",
              " 0.9758881614235467,\n",
              " 0.9809997366866164,\n",
              " 0.9744757524692776,\n",
              " 0.9999999999999999,\n",
              " 0.9921644931822683,\n",
              " 0.9924335234592719,\n",
              " 0.9724243966071245,\n",
              " 0.987960895104086,\n",
              " 0.9767961386084342,\n",
              " 0.9524152697549774,\n",
              " 0.9024092670169216,\n",
              " 0.8684441945452093,\n",
              " 0.8838125491190434,\n",
              " 0.8194806841305428,\n",
              " 0.8189426235765356,\n",
              " 0.7458584,\n",
              " 0.68279654,\n",
              " 0.61868644,\n",
              " 0.5588493,\n",
              " 0.50544703,\n",
              " 0.4600085,\n",
              " 0.42311606,\n",
              " 0.39453715,\n",
              " 0.37354416,\n",
              " 0.35917187]"
            ]
          },
          "metadata": {
            "tags": []
          },
          "execution_count": 129
        }
      ]
    },
    {
      "cell_type": "code",
      "metadata": {
        "colab": {
          "base_uri": "https://localhost:8080/",
          "height": 282
        },
        "id": "97sspEl_cP-q",
        "outputId": "d0f8da6d-5a6b-4749-901b-b4affed3b246"
      },
      "source": [
        "plt.plot(np.arange(0,window_size), scaler.inverse_transform(test_data[len(test_data)-window_size:]))\n",
        "plt.plot(np.arange(window_size,window_size + 10), scaler.inverse_transform(np.array(x_input_list[-10:]).reshape(-1,1)))"
      ],
      "execution_count": 146,
      "outputs": [
        {
          "output_type": "execute_result",
          "data": {
            "text/plain": [
              "[<matplotlib.lines.Line2D at 0x7f11d1dd6cd0>]"
            ]
          },
          "metadata": {
            "tags": []
          },
          "execution_count": 146
        },
        {
          "output_type": "display_data",
          "data": {
            "image/png": "[encoded data removed]",
            "text/plain": [
              "<Figure size 432x288 with 1 Axes>"
            ]
          },
          "metadata": {
            "tags": [],
            "needs_background": "light"
          }
        }
      ]
    },
    {
      "cell_type": "code",
      "metadata": {
        "id": "6JanPc5Ke94T"
      },
      "source": [
        ""
      ],
      "execution_count": null,
      "outputs": []
    }
  ]
}