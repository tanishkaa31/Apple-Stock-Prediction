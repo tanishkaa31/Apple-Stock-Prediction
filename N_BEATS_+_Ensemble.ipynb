{
  "nbformat": 4,
  "nbformat_minor": 0,
  "metadata": {
    "accelerator": "GPU",
    "colab": {
      "provenance": []
    },
    "kernelspec": {
      "display_name": "Python 3",
      "name": "python3"
    },
    "language_info": {
      "name": "python"
    }
  },
  "cells": [
    {
      "cell_type": "markdown",
      "metadata": {
        "id": "IzG2AaejyE5d"
      },
      "source": [
        "## Check for GPU\n"
      ]
    },
    {
      "cell_type": "code",
      "metadata": {
        "id": "qjEuJ-j7yEdK",
        "colab": {
          "base_uri": "https://localhost:8080/"
        },
        "outputId": "b5049165-5774-4a62-bdc8-c03dc87821e7"
      },
      "source": [
        "# Check for GPU\n",
        "!nvidia-smi -L"
      ],
      "execution_count": 13,
      "outputs": [
        {
          "output_type": "stream",
          "name": "stdout",
          "text": [
            "GPU 0: Tesla T4 (UUID: GPU-434c0ef8-5133-41da-eeb8-73c4085a8694)\n"
          ]
        }
      ]
    },
    {
      "cell_type": "markdown",
      "metadata": {
        "id": "81ywkh0q8Apj"
      },
      "source": [
        "## Import data\n",
        "\n"
      ]
    },
    {
      "cell_type": "code",
      "metadata": {
        "colab": {
          "base_uri": "https://localhost:8080/",
          "height": 237
        },
        "id": "5FOrshVX_dUE",
        "outputId": "d90ae322-a7b4-4291-ba72-3467c1f7e4c1"
      },
      "source": [
        "import pandas as pd\n",
        "# Parse dates and set date column to index\n",
        "df = pd.read_csv(\"/content/HistoricalQuotes.csv\", \n",
        "                 parse_dates=[\"Date\"], \n",
        "                 index_col=[\"Date\"]) # parse the date column (tell pandas column 1 is a datetime)\n",
        "df.head()"
      ],
      "execution_count": 14,
      "outputs": [
        {
          "output_type": "execute_result",
          "data": {
            "text/plain": [
              "            Close/Last     Volume      Open      High       Low\n",
              "Date                                                           \n",
              "2020-02-28     $273.36  106721200   $257.26   $278.41   $256.37\n",
              "2020-02-27     $273.52   80151380    $281.1      $286   $272.96\n",
              "2020-02-26     $292.65   49678430   $286.53   $297.88    $286.5\n",
              "2020-02-25     $288.08   57668360   $300.95   $302.53   $286.13\n",
              "2020-02-24     $298.18   55548830   $297.26   $304.18   $289.23"
            ],
            "text/html": [
              "\n",
              "  <div id=\"df-937896d1-19b6-49c0-a422-0fc19924c5c2\">\n",
              "    <div class=\"colab-df-container\">\n",
              "      <div>\n",
              "<style scoped>\n",
              "    .dataframe tbody tr th:only-of-type {\n",
              "        vertical-align: middle;\n",
              "    }\n",
              "\n",
              "    .dataframe tbody tr th {\n",
              "        vertical-align: top;\n",
              "    }\n",
              "\n",
              "    .dataframe thead th {\n",
              "        text-align: right;\n",
              "    }\n",
              "</style>\n",
              "<table border=\"1\" class=\"dataframe\">\n",
              "  <thead>\n",
              "    <tr style=\"text-align: right;\">\n",
              "      <th></th>\n",
              "      <th>Close/Last</th>\n",
              "      <th>Volume</th>\n",
              "      <th>Open</th>\n",
              "      <th>High</th>\n",
              "      <th>Low</th>\n",
              "    </tr>\n",
              "    <tr>\n",
              "      <th>Date</th>\n",
              "      <th></th>\n",
              "      <th></th>\n",
              "      <th></th>\n",
              "      <th></th>\n",
              "      <th></th>\n",
              "    </tr>\n",
              "  </thead>\n",
              "  <tbody>\n",
              "    <tr>\n",
              "      <th>2020-02-28</th>\n",
              "      <td>$273.36</td>\n",
              "      <td>106721200</td>\n",
              "      <td>$257.26</td>\n",
              "      <td>$278.41</td>\n",
              "      <td>$256.37</td>\n",
              "    </tr>\n",
              "    <tr>\n",
              "      <th>2020-02-27</th>\n",
              "      <td>$273.52</td>\n",
              "      <td>80151380</td>\n",
              "      <td>$281.1</td>\n",
              "      <td>$286</td>\n",
              "      <td>$272.96</td>\n",
              "    </tr>\n",
              "    <tr>\n",
              "      <th>2020-02-26</th>\n",
              "      <td>$292.65</td>\n",
              "      <td>49678430</td>\n",
              "      <td>$286.53</td>\n",
              "      <td>$297.88</td>\n",
              "      <td>$286.5</td>\n",
              "    </tr>\n",
              "    <tr>\n",
              "      <th>2020-02-25</th>\n",
              "      <td>$288.08</td>\n",
              "      <td>57668360</td>\n",
              "      <td>$300.95</td>\n",
              "      <td>$302.53</td>\n",
              "      <td>$286.13</td>\n",
              "    </tr>\n",
              "    <tr>\n",
              "      <th>2020-02-24</th>\n",
              "      <td>$298.18</td>\n",
              "      <td>55548830</td>\n",
              "      <td>$297.26</td>\n",
              "      <td>$304.18</td>\n",
              "      <td>$289.23</td>\n",
              "    </tr>\n",
              "  </tbody>\n",
              "</table>\n",
              "</div>\n",
              "      <button class=\"colab-df-convert\" onclick=\"convertToInteractive('df-937896d1-19b6-49c0-a422-0fc19924c5c2')\"\n",
              "              title=\"Convert this dataframe to an interactive table.\"\n",
              "              style=\"display:none;\">\n",
              "        \n",
              "  <svg xmlns=\"http://www.w3.org/2000/svg\" height=\"24px\"viewBox=\"0 0 24 24\"\n",
              "       width=\"24px\">\n",
              "    <path d=\"M0 0h24v24H0V0z\" fill=\"none\"/>\n",
              "    <path d=\"M18.56 5.44l.94 2.06.94-2.06 2.06-.94-2.06-.94-.94-2.06-.94 2.06-2.06.94zm-11 1L8.5 8.5l.94-2.06 2.06-.94-2.06-.94L8.5 2.5l-.94 2.06-2.06.94zm10 10l.94 2.06.94-2.06 2.06-.94-2.06-.94-.94-2.06-.94 2.06-2.06.94z\"/><path d=\"M17.41 7.96l-1.37-1.37c-.4-.4-.92-.59-1.43-.59-.52 0-1.04.2-1.43.59L10.3 9.45l-7.72 7.72c-.78.78-.78 2.05 0 2.83L4 21.41c.39.39.9.59 1.41.59.51 0 1.02-.2 1.41-.59l7.78-7.78 2.81-2.81c.8-.78.8-2.07 0-2.86zM5.41 20L4 18.59l7.72-7.72 1.47 1.35L5.41 20z\"/>\n",
              "  </svg>\n",
              "      </button>\n",
              "      \n",
              "  <style>\n",
              "    .colab-df-container {\n",
              "      display:flex;\n",
              "      flex-wrap:wrap;\n",
              "      gap: 12px;\n",
              "    }\n",
              "\n",
              "    .colab-df-convert {\n",
              "      background-color: #E8F0FE;\n",
              "      border: none;\n",
              "      border-radius: 50%;\n",
              "      cursor: pointer;\n",
              "      display: none;\n",
              "      fill: #1967D2;\n",
              "      height: 32px;\n",
              "      padding: 0 0 0 0;\n",
              "      width: 32px;\n",
              "    }\n",
              "\n",
              "    .colab-df-convert:hover {\n",
              "      background-color: #E2EBFA;\n",
              "      box-shadow: 0px 1px 2px rgba(60, 64, 67, 0.3), 0px 1px 3px 1px rgba(60, 64, 67, 0.15);\n",
              "      fill: #174EA6;\n",
              "    }\n",
              "\n",
              "    [theme=dark] .colab-df-convert {\n",
              "      background-color: #3B4455;\n",
              "      fill: #D2E3FC;\n",
              "    }\n",
              "\n",
              "    [theme=dark] .colab-df-convert:hover {\n",
              "      background-color: #434B5C;\n",
              "      box-shadow: 0px 1px 3px 1px rgba(0, 0, 0, 0.15);\n",
              "      filter: drop-shadow(0px 1px 2px rgba(0, 0, 0, 0.3));\n",
              "      fill: #FFFFFF;\n",
              "    }\n",
              "  </style>\n",
              "\n",
              "      <script>\n",
              "        const buttonEl =\n",
              "          document.querySelector('#df-937896d1-19b6-49c0-a422-0fc19924c5c2 button.colab-df-convert');\n",
              "        buttonEl.style.display =\n",
              "          google.colab.kernel.accessAllowed ? 'block' : 'none';\n",
              "\n",
              "        async function convertToInteractive(key) {\n",
              "          const element = document.querySelector('#df-937896d1-19b6-49c0-a422-0fc19924c5c2');\n",
              "          const dataTable =\n",
              "            await google.colab.kernel.invokeFunction('convertToInteractive',\n",
              "                                                     [key], {});\n",
              "          if (!dataTable) return;\n",
              "\n",
              "          const docLinkHtml = 'Like what you see? Visit the ' +\n",
              "            '<a target=\"_blank\" href=https://colab.research.google.com/notebooks/data_table.ipynb>data table notebook</a>'\n",
              "            + ' to learn more about interactive tables.';\n",
              "          element.innerHTML = '';\n",
              "          dataTable['output_type'] = 'display_data';\n",
              "          await google.colab.output.renderOutput(dataTable, element);\n",
              "          const docLink = document.createElement('div');\n",
              "          docLink.innerHTML = docLinkHtml;\n",
              "          element.appendChild(docLink);\n",
              "        }\n",
              "      </script>\n",
              "    </div>\n",
              "  </div>\n",
              "  "
            ]
          },
          "metadata": {},
          "execution_count": 14
        }
      ]
    },
    {
      "cell_type": "code",
      "metadata": {
        "colab": {
          "base_uri": "https://localhost:8080/"
        },
        "id": "Z-YoeINjCzJ_",
        "outputId": "f3d73aad-64ca-437e-d505-419e8db66440"
      },
      "source": [
        "df.info()"
      ],
      "execution_count": 15,
      "outputs": [
        {
          "output_type": "stream",
          "name": "stdout",
          "text": [
            "<class 'pandas.core.frame.DataFrame'>\n",
            "DatetimeIndex: 2518 entries, 2020-02-28 to 2010-03-01\n",
            "Data columns (total 5 columns):\n",
            " #   Column       Non-Null Count  Dtype \n",
            "---  ------       --------------  ----- \n",
            " 0    Close/Last  2518 non-null   object\n",
            " 1    Volume      2518 non-null   int64 \n",
            " 2    Open        2518 non-null   object\n",
            " 3    High        2518 non-null   object\n",
            " 4    Low         2518 non-null   object\n",
            "dtypes: int64(1), object(4)\n",
            "memory usage: 118.0+ KB\n"
          ]
        }
      ]
    },
    {
      "cell_type": "code",
      "source": [
        "df.columns"
      ],
      "metadata": {
        "colab": {
          "base_uri": "https://localhost:8080/"
        },
        "id": "q9QZawvZim5-",
        "outputId": "184971d7-508e-4bc2-89fb-2f241f3d0465"
      },
      "execution_count": 16,
      "outputs": [
        {
          "output_type": "execute_result",
          "data": {
            "text/plain": [
              "Index([' Close/Last', ' Volume', ' Open', ' High', ' Low'], dtype='object')"
            ]
          },
          "metadata": {},
          "execution_count": 16
        }
      ]
    },
    {
      "cell_type": "code",
      "metadata": {
        "colab": {
          "base_uri": "https://localhost:8080/"
        },
        "id": "XP3cN0uvlxhi",
        "outputId": "b5bfab37-f68e-4c0a-c5c6-c5067c50afcb"
      },
      "source": [
        "#no. of samples\n",
        "len(df)"
      ],
      "execution_count": 17,
      "outputs": [
        {
          "output_type": "execute_result",
          "data": {
            "text/plain": [
              "2518"
            ]
          },
          "metadata": {},
          "execution_count": 17
        }
      ]
    },
    {
      "cell_type": "code",
      "metadata": {
        "colab": {
          "base_uri": "https://localhost:8080/",
          "height": 237
        },
        "id": "QxoNCv2NCuLY",
        "outputId": "1b93a478-87bc-4cda-ef67-ab648f02203f"
      },
      "source": [
        "# Only want closing price for each day \n",
        "data = pd.DataFrame(df[\" Close/Last\"]).rename(columns={\" Close/Last\": \"Close\"})\n",
        "data.head()"
      ],
      "execution_count": 20,
      "outputs": [
        {
          "output_type": "execute_result",
          "data": {
            "text/plain": [
              "               Close\n",
              "Date                \n",
              "2020-02-28   $273.36\n",
              "2020-02-27   $273.52\n",
              "2020-02-26   $292.65\n",
              "2020-02-25   $288.08\n",
              "2020-02-24   $298.18"
            ],
            "text/html": [
              "\n",
              "  <div id=\"df-93c1f7e8-dfa5-4352-97a3-146c830fe63e\">\n",
              "    <div class=\"colab-df-container\">\n",
              "      <div>\n",
              "<style scoped>\n",
              "    .dataframe tbody tr th:only-of-type {\n",
              "        vertical-align: middle;\n",
              "    }\n",
              "\n",
              "    .dataframe tbody tr th {\n",
              "        vertical-align: top;\n",
              "    }\n",
              "\n",
              "    .dataframe thead th {\n",
              "        text-align: right;\n",
              "    }\n",
              "</style>\n",
              "<table border=\"1\" class=\"dataframe\">\n",
              "  <thead>\n",
              "    <tr style=\"text-align: right;\">\n",
              "      <th></th>\n",
              "      <th>Close</th>\n",
              "    </tr>\n",
              "    <tr>\n",
              "      <th>Date</th>\n",
              "      <th></th>\n",
              "    </tr>\n",
              "  </thead>\n",
              "  <tbody>\n",
              "    <tr>\n",
              "      <th>2020-02-28</th>\n",
              "      <td>$273.36</td>\n",
              "    </tr>\n",
              "    <tr>\n",
              "      <th>2020-02-27</th>\n",
              "      <td>$273.52</td>\n",
              "    </tr>\n",
              "    <tr>\n",
              "      <th>2020-02-26</th>\n",
              "      <td>$292.65</td>\n",
              "    </tr>\n",
              "    <tr>\n",
              "      <th>2020-02-25</th>\n",
              "      <td>$288.08</td>\n",
              "    </tr>\n",
              "    <tr>\n",
              "      <th>2020-02-24</th>\n",
              "      <td>$298.18</td>\n",
              "    </tr>\n",
              "  </tbody>\n",
              "</table>\n",
              "</div>\n",
              "      <button class=\"colab-df-convert\" onclick=\"convertToInteractive('df-93c1f7e8-dfa5-4352-97a3-146c830fe63e')\"\n",
              "              title=\"Convert this dataframe to an interactive table.\"\n",
              "              style=\"display:none;\">\n",
              "        \n",
              "  <svg xmlns=\"http://www.w3.org/2000/svg\" height=\"24px\"viewBox=\"0 0 24 24\"\n",
              "       width=\"24px\">\n",
              "    <path d=\"M0 0h24v24H0V0z\" fill=\"none\"/>\n",
              "    <path d=\"M18.56 5.44l.94 2.06.94-2.06 2.06-.94-2.06-.94-.94-2.06-.94 2.06-2.06.94zm-11 1L8.5 8.5l.94-2.06 2.06-.94-2.06-.94L8.5 2.5l-.94 2.06-2.06.94zm10 10l.94 2.06.94-2.06 2.06-.94-2.06-.94-.94-2.06-.94 2.06-2.06.94z\"/><path d=\"M17.41 7.96l-1.37-1.37c-.4-.4-.92-.59-1.43-.59-.52 0-1.04.2-1.43.59L10.3 9.45l-7.72 7.72c-.78.78-.78 2.05 0 2.83L4 21.41c.39.39.9.59 1.41.59.51 0 1.02-.2 1.41-.59l7.78-7.78 2.81-2.81c.8-.78.8-2.07 0-2.86zM5.41 20L4 18.59l7.72-7.72 1.47 1.35L5.41 20z\"/>\n",
              "  </svg>\n",
              "      </button>\n",
              "      \n",
              "  <style>\n",
              "    .colab-df-container {\n",
              "      display:flex;\n",
              "      flex-wrap:wrap;\n",
              "      gap: 12px;\n",
              "    }\n",
              "\n",
              "    .colab-df-convert {\n",
              "      background-color: #E8F0FE;\n",
              "      border: none;\n",
              "      border-radius: 50%;\n",
              "      cursor: pointer;\n",
              "      display: none;\n",
              "      fill: #1967D2;\n",
              "      height: 32px;\n",
              "      padding: 0 0 0 0;\n",
              "      width: 32px;\n",
              "    }\n",
              "\n",
              "    .colab-df-convert:hover {\n",
              "      background-color: #E2EBFA;\n",
              "      box-shadow: 0px 1px 2px rgba(60, 64, 67, 0.3), 0px 1px 3px 1px rgba(60, 64, 67, 0.15);\n",
              "      fill: #174EA6;\n",
              "    }\n",
              "\n",
              "    [theme=dark] .colab-df-convert {\n",
              "      background-color: #3B4455;\n",
              "      fill: #D2E3FC;\n",
              "    }\n",
              "\n",
              "    [theme=dark] .colab-df-convert:hover {\n",
              "      background-color: #434B5C;\n",
              "      box-shadow: 0px 1px 3px 1px rgba(0, 0, 0, 0.15);\n",
              "      filter: drop-shadow(0px 1px 2px rgba(0, 0, 0, 0.3));\n",
              "      fill: #FFFFFF;\n",
              "    }\n",
              "  </style>\n",
              "\n",
              "      <script>\n",
              "        const buttonEl =\n",
              "          document.querySelector('#df-93c1f7e8-dfa5-4352-97a3-146c830fe63e button.colab-df-convert');\n",
              "        buttonEl.style.display =\n",
              "          google.colab.kernel.accessAllowed ? 'block' : 'none';\n",
              "\n",
              "        async function convertToInteractive(key) {\n",
              "          const element = document.querySelector('#df-93c1f7e8-dfa5-4352-97a3-146c830fe63e');\n",
              "          const dataTable =\n",
              "            await google.colab.kernel.invokeFunction('convertToInteractive',\n",
              "                                                     [key], {});\n",
              "          if (!dataTable) return;\n",
              "\n",
              "          const docLinkHtml = 'Like what you see? Visit the ' +\n",
              "            '<a target=\"_blank\" href=https://colab.research.google.com/notebooks/data_table.ipynb>data table notebook</a>'\n",
              "            + ' to learn more about interactive tables.';\n",
              "          element.innerHTML = '';\n",
              "          dataTable['output_type'] = 'display_data';\n",
              "          await google.colab.output.renderOutput(dataTable, element);\n",
              "          const docLink = document.createElement('div');\n",
              "          docLink.innerHTML = docLinkHtml;\n",
              "          element.appendChild(docLink);\n",
              "        }\n",
              "      </script>\n",
              "    </div>\n",
              "  </div>\n",
              "  "
            ]
          },
          "metadata": {},
          "execution_count": 20
        }
      ]
    },
    {
      "cell_type": "code",
      "source": [
        "for j in range(0,2518):\n",
        "  data['Close'][j] = str(data['Close'][j]).replace(' ','')\n",
        "  data['Close'][j] = str(data['Close'][j]).replace('$','')\n",
        "data['Close'] = data['Close'].astype(float)\n",
        "data.sort_values('Date', ascending = True, inplace=True)"
      ],
      "metadata": {
        "id": "S8HCpVODjL8T"
      },
      "execution_count": 28,
      "outputs": []
    },
    {
      "cell_type": "code",
      "source": [
        "data.head()"
      ],
      "metadata": {
        "colab": {
          "base_uri": "https://localhost:8080/",
          "height": 237
        },
        "id": "zH9bXfk1lj_U",
        "outputId": "3c48b17a-1cde-4dad-d4eb-9c3d495308a7"
      },
      "execution_count": 29,
      "outputs": [
        {
          "output_type": "execute_result",
          "data": {
            "text/plain": [
              "              Close\n",
              "Date               \n",
              "2010-03-01  29.8557\n",
              "2010-03-02  29.8357\n",
              "2010-03-03  29.9043\n",
              "2010-03-04  30.1014\n",
              "2010-03-05  31.2786"
            ],
            "text/html": [
              "\n",
              "  <div id=\"df-32373d59-a013-4330-ac83-2061984612ae\">\n",
              "    <div class=\"colab-df-container\">\n",
              "      <div>\n",
              "<style scoped>\n",
              "    .dataframe tbody tr th:only-of-type {\n",
              "        vertical-align: middle;\n",
              "    }\n",
              "\n",
              "    .dataframe tbody tr th {\n",
              "        vertical-align: top;\n",
              "    }\n",
              "\n",
              "    .dataframe thead th {\n",
              "        text-align: right;\n",
              "    }\n",
              "</style>\n",
              "<table border=\"1\" class=\"dataframe\">\n",
              "  <thead>\n",
              "    <tr style=\"text-align: right;\">\n",
              "      <th></th>\n",
              "      <th>Close</th>\n",
              "    </tr>\n",
              "    <tr>\n",
              "      <th>Date</th>\n",
              "      <th></th>\n",
              "    </tr>\n",
              "  </thead>\n",
              "  <tbody>\n",
              "    <tr>\n",
              "      <th>2010-03-01</th>\n",
              "      <td>29.8557</td>\n",
              "    </tr>\n",
              "    <tr>\n",
              "      <th>2010-03-02</th>\n",
              "      <td>29.8357</td>\n",
              "    </tr>\n",
              "    <tr>\n",
              "      <th>2010-03-03</th>\n",
              "      <td>29.9043</td>\n",
              "    </tr>\n",
              "    <tr>\n",
              "      <th>2010-03-04</th>\n",
              "      <td>30.1014</td>\n",
              "    </tr>\n",
              "    <tr>\n",
              "      <th>2010-03-05</th>\n",
              "      <td>31.2786</td>\n",
              "    </tr>\n",
              "  </tbody>\n",
              "</table>\n",
              "</div>\n",
              "      <button class=\"colab-df-convert\" onclick=\"convertToInteractive('df-32373d59-a013-4330-ac83-2061984612ae')\"\n",
              "              title=\"Convert this dataframe to an interactive table.\"\n",
              "              style=\"display:none;\">\n",
              "        \n",
              "  <svg xmlns=\"http://www.w3.org/2000/svg\" height=\"24px\"viewBox=\"0 0 24 24\"\n",
              "       width=\"24px\">\n",
              "    <path d=\"M0 0h24v24H0V0z\" fill=\"none\"/>\n",
              "    <path d=\"M18.56 5.44l.94 2.06.94-2.06 2.06-.94-2.06-.94-.94-2.06-.94 2.06-2.06.94zm-11 1L8.5 8.5l.94-2.06 2.06-.94-2.06-.94L8.5 2.5l-.94 2.06-2.06.94zm10 10l.94 2.06.94-2.06 2.06-.94-2.06-.94-.94-2.06-.94 2.06-2.06.94z\"/><path d=\"M17.41 7.96l-1.37-1.37c-.4-.4-.92-.59-1.43-.59-.52 0-1.04.2-1.43.59L10.3 9.45l-7.72 7.72c-.78.78-.78 2.05 0 2.83L4 21.41c.39.39.9.59 1.41.59.51 0 1.02-.2 1.41-.59l7.78-7.78 2.81-2.81c.8-.78.8-2.07 0-2.86zM5.41 20L4 18.59l7.72-7.72 1.47 1.35L5.41 20z\"/>\n",
              "  </svg>\n",
              "      </button>\n",
              "      \n",
              "  <style>\n",
              "    .colab-df-container {\n",
              "      display:flex;\n",
              "      flex-wrap:wrap;\n",
              "      gap: 12px;\n",
              "    }\n",
              "\n",
              "    .colab-df-convert {\n",
              "      background-color: #E8F0FE;\n",
              "      border: none;\n",
              "      border-radius: 50%;\n",
              "      cursor: pointer;\n",
              "      display: none;\n",
              "      fill: #1967D2;\n",
              "      height: 32px;\n",
              "      padding: 0 0 0 0;\n",
              "      width: 32px;\n",
              "    }\n",
              "\n",
              "    .colab-df-convert:hover {\n",
              "      background-color: #E2EBFA;\n",
              "      box-shadow: 0px 1px 2px rgba(60, 64, 67, 0.3), 0px 1px 3px 1px rgba(60, 64, 67, 0.15);\n",
              "      fill: #174EA6;\n",
              "    }\n",
              "\n",
              "    [theme=dark] .colab-df-convert {\n",
              "      background-color: #3B4455;\n",
              "      fill: #D2E3FC;\n",
              "    }\n",
              "\n",
              "    [theme=dark] .colab-df-convert:hover {\n",
              "      background-color: #434B5C;\n",
              "      box-shadow: 0px 1px 3px 1px rgba(0, 0, 0, 0.15);\n",
              "      filter: drop-shadow(0px 1px 2px rgba(0, 0, 0, 0.3));\n",
              "      fill: #FFFFFF;\n",
              "    }\n",
              "  </style>\n",
              "\n",
              "      <script>\n",
              "        const buttonEl =\n",
              "          document.querySelector('#df-32373d59-a013-4330-ac83-2061984612ae button.colab-df-convert');\n",
              "        buttonEl.style.display =\n",
              "          google.colab.kernel.accessAllowed ? 'block' : 'none';\n",
              "\n",
              "        async function convertToInteractive(key) {\n",
              "          const element = document.querySelector('#df-32373d59-a013-4330-ac83-2061984612ae');\n",
              "          const dataTable =\n",
              "            await google.colab.kernel.invokeFunction('convertToInteractive',\n",
              "                                                     [key], {});\n",
              "          if (!dataTable) return;\n",
              "\n",
              "          const docLinkHtml = 'Like what you see? Visit the ' +\n",
              "            '<a target=\"_blank\" href=https://colab.research.google.com/notebooks/data_table.ipynb>data table notebook</a>'\n",
              "            + ' to learn more about interactive tables.';\n",
              "          element.innerHTML = '';\n",
              "          dataTable['output_type'] = 'display_data';\n",
              "          await google.colab.output.renderOutput(dataTable, element);\n",
              "          const docLink = document.createElement('div');\n",
              "          docLink.innerHTML = docLinkHtml;\n",
              "          element.appendChild(docLink);\n",
              "        }\n",
              "      </script>\n",
              "    </div>\n",
              "  </div>\n",
              "  "
            ]
          },
          "metadata": {},
          "execution_count": 29
        }
      ]
    },
    {
      "cell_type": "code",
      "metadata": {
        "colab": {
          "base_uri": "https://localhost:8080/",
          "height": 434
        },
        "id": "CfkhZhmCEyUe",
        "outputId": "995e1a7d-ce49-42a1-82de-6e7957fff70e"
      },
      "source": [
        "import matplotlib.pyplot as plt\n",
        "data.plot(figsize=(10, 7))\n",
        "plt.ylabel(\"Stock Price\")\n",
        "plt.title(\"Price of Apple's stocks from 2010-20\", fontsize=16)\n",
        "plt.legend(fontsize=14);"
      ],
      "execution_count": 32,
      "outputs": [
        {
          "output_type": "display_data",
          "data": {
            "text/plain": [
              "<Figure size 720x504 with 1 Axes>"
            ],
            "image/png": "[encoded data removed]"
          },
          "metadata": {
            "needs_background": "light"
          }
        }
      ]
    },
    {
      "cell_type": "markdown",
      "metadata": {
        "id": "_nfP7i9R_dOp"
      },
      "source": [
        "## Format Data Part 1: Creatining train and test sets for time series data\n"
      ]
    },
    {
      "cell_type": "markdown",
      "metadata": {
        "id": "ajoASBK2size"
      },
      "source": [
        "\n",
        "![time series train test split](https://raw.githubusercontent.com/mrdbourke/tensorflow-deep-learning/main/images/10-time-series-train-test-split.png)\n",
        "*Demonstration of time series split. Rather than a traditionaly random train/test split, it's best to split the time series data sequentially, i.e., the test data should be data from the future when compared to the training data.*"
      ]
    },
    {
      "cell_type": "code",
      "source": [
        "# Get date array\n",
        "timesteps = data.index.to_numpy()\n",
        "prices = data[\"Close\"].to_numpy()\n",
        "\n",
        "timesteps[:10], prices[:10]"
      ],
      "metadata": {
        "colab": {
          "base_uri": "https://localhost:8080/"
        },
        "id": "EOLWrOrzlMco",
        "outputId": "91c921aa-2926-4cc2-e643-7a18116f5a76"
      },
      "execution_count": 121,
      "outputs": [
        {
          "output_type": "execute_result",
          "data": {
            "text/plain": [
              "(array(['2010-03-01T00:00:00.000000000', '2010-03-02T00:00:00.000000000',\n",
              "        '2010-03-03T00:00:00.000000000', '2010-03-04T00:00:00.000000000',\n",
              "        '2010-03-05T00:00:00.000000000', '2010-03-08T00:00:00.000000000',\n",
              "        '2010-03-09T00:00:00.000000000', '2010-03-10T00:00:00.000000000',\n",
              "        '2010-03-11T00:00:00.000000000', '2010-03-12T00:00:00.000000000'],\n",
              "       dtype='datetime64[ns]'),\n",
              " array([29.8557, 29.8357, 29.9043, 30.1014, 31.2786, 31.2971, 31.86  ,\n",
              "        32.12  , 32.2143, 32.3714]))"
            ]
          },
          "metadata": {},
          "execution_count": 121
        }
      ]
    },
    {
      "cell_type": "code",
      "metadata": {
        "colab": {
          "base_uri": "https://localhost:8080/"
        },
        "id": "lpEVKyXANLT4",
        "outputId": "856900cc-114d-4d54-eb6b-91d86139b7c3"
      },
      "source": [
        "# Create train and test splits the right way for time series data\n",
        "split_size = int(0.8 * len(prices)) # 80% train, 20% test\n",
        "\n",
        "# Create train data splits (everything before the split)\n",
        "X_train, y_train = timesteps[:split_size], prices[:split_size]\n",
        "\n",
        "# Create test data splits (everything after the split)\n",
        "X_test, y_test = timesteps[split_size:], prices[split_size:]\n",
        "\n",
        "len(X_train), len(X_test), len(y_train), len(y_test)"
      ],
      "execution_count": 33,
      "outputs": [
        {
          "output_type": "execute_result",
          "data": {
            "text/plain": [
              "(2014, 504, 2014, 504)"
            ]
          },
          "metadata": {},
          "execution_count": 33
        }
      ]
    },
    {
      "cell_type": "code",
      "metadata": {
        "colab": {
          "base_uri": "https://localhost:8080/",
          "height": 442
        },
        "id": "L9QImNlhOQuS",
        "outputId": "1cf09310-c2b1-459c-87fc-b65b1cf074b5"
      },
      "source": [
        "# Plot correctly made splits\n",
        "plt.figure(figsize=(10, 7))\n",
        "plt.scatter(X_train, y_train, s=5, label=\"Train data\")\n",
        "plt.scatter(X_test, y_test, s=5, label=\"Test data\")\n",
        "plt.xlabel(\"Date\")\n",
        "plt.ylabel(\"AAPL Price\")\n",
        "plt.legend(fontsize=14)\n",
        "plt.show();"
      ],
      "execution_count": 34,
      "outputs": [
        {
          "output_type": "display_data",
          "data": {
            "text/plain": [
              "<Figure size 720x504 with 1 Axes>"
            ],
            "image/png": "[encoded data removed]"
          },
          "metadata": {
            "needs_background": "light"
          }
        }
      ]
    },
    {
      "cell_type": "markdown",
      "metadata": {
        "id": "sGUelYVKCybB"
      },
      "source": [
        "### Create a plotting function"
      ]
    },
    {
      "cell_type": "code",
      "metadata": {
        "id": "trkvizA0C6vc"
      },
      "source": [
        "# Create a function to plot time series data\n",
        "def plot_time_series(timesteps, values, format='.', start=0, end=None, label=None):\n",
        "  \"\"\"\n",
        "  Plots a timesteps (a series of points in time) against values (a series of values across timesteps).\n",
        "  \n",
        "  Parameters\n",
        "  ---------\n",
        "  timesteps : array of timesteps\n",
        "  values : array of values across time\n",
        "  format : style of plot, default \".\"\n",
        "  start : where to start the plot (setting a value will index from start of timesteps & values)\n",
        "  end : where to end the plot (setting a value will index from end of timesteps & values)\n",
        "  label : label to show on plot of values\n",
        "  \"\"\"\n",
        "  # Plot the series\n",
        "  plt.plot(timesteps[start:end], values[start:end], format, label=label)\n",
        "  plt.xlabel(\"Time\")\n",
        "  plt.ylabel(\"AAPL Price\")\n",
        "  if label:\n",
        "    plt.legend(fontsize=14) \n",
        "  plt.grid(True)"
      ],
      "execution_count": 123,
      "outputs": []
    },
    {
      "cell_type": "code",
      "metadata": {
        "colab": {
          "base_uri": "https://localhost:8080/",
          "height": 442
        },
        "id": "6TyFY1cGC_sw",
        "outputId": "d1e0edf8-2ce0-40dd-de4c-c7b0198c1cac"
      },
      "source": [
        "# Test plotting function\n",
        "plt.figure(figsize=(10, 7))\n",
        "plot_time_series(timesteps=X_train, values=y_train, label=\"Train data\")\n",
        "plot_time_series(timesteps=X_test, values=y_test, label=\"Test data\")"
      ],
      "execution_count": 124,
      "outputs": [
        {
          "output_type": "display_data",
          "data": {
            "text/plain": [
              "<Figure size 720x504 with 1 Axes>"
            ],
            "image/png": "[encoded data removed]"
          },
          "metadata": {
            "needs_background": "light"
          }
        }
      ]
    },
    {
      "cell_type": "markdown",
      "metadata": {
        "id": "cwSpQQRl_dHb"
      },
      "source": [
        "## Modelling Experiments\n",
        "\n",
        "We can build almost any kind of model for our problem as long as the data inputs and outputs are formatted correctly.\n",
        "\n",
        "\n",
        "Before we delve into the modelling experiments we're going to run, there are two terms we should be familiar with, **horizon** and **window**. \n",
        "  * **horizon** = number of timesteps to predict into future\n",
        "  * **window** = number of timesteps from past used to predict **horizon**\n",
        "\n",
        "The experiments I'm going to perform in this notebook are:\n",
        "\n",
        "| Model Number | Model Type | Horizon size | Window size | Extra data |\n",
        "| ----- | ----- | ----- | ----- | ----- |\n",
        "| 0 | Naïve model (baseline) | NA | NA | NA |\n",
        "| 1 | Dense model | 1 | 7 | NA |\n",
        "| 2 | Same as 1 | 1 | 30 | NA | \n",
        "| 3 | Same as 1 | 7 | 30 | NA |\n",
        "| 4 | LSTM | 1 | 7 | NA |\n",
        "| 5 | [N-BEATs Algorithm](https://arxiv.org/pdf/1905.10437.pdf) | 1 | 7 | NA |\n",
        "| 6 | Ensemble (multiple models optimized on different loss functions) | 1 | 7 | NA | \n",
        "\n"
      ]
    },
    {
      "cell_type": "markdown",
      "metadata": {
        "id": "JO1YAv7w_dE7"
      },
      "source": [
        "## Model 0: Naïve forecast (baseline)\n",
        "\n",
        "Let's start with a baseline.\n",
        "\n",
        "One of the most common baseline models for time series forecasting, the naïve model (also called the [naïve forecast](https://otexts.com/fpp3/simple-methods.html#na%C3%AFve-method)), requires no training at all.\n",
        "\n",
        "That's because all the naïve model does is use the previous timestep value to predict the next timestep value.\n",
        "\n",
        "The formula looks like this:\n",
        "\n",
        "$$\\hat{y}_{t} = y_{t-1}$$ \n"
      ]
    },
    {
      "cell_type": "code",
      "metadata": {
        "colab": {
          "base_uri": "https://localhost:8080/"
        },
        "id": "nCKGUO4OVos9",
        "outputId": "6d7c1085-87a1-45f9-b941-c1144f5776e9"
      },
      "source": [
        "# Create a naïve forecast\n",
        "naive_forecast = y_test[:-1] # Naïve forecast equals every value excluding the last value\n",
        "naive_forecast[:10], naive_forecast[-10:] # View first 10 and last 10 "
      ],
      "execution_count": 37,
      "outputs": [
        {
          "output_type": "execute_result",
          "data": {
            "text/plain": [
              "(array([178.12, 175.  , 176.21, 176.82, 176.67, 175.03, 176.94, 179.98,\n",
              "        181.72, 179.97]),\n",
              " array([324.87, 324.95, 319.  , 323.62, 320.3 , 313.05, 298.18, 288.08,\n",
              "        292.65, 273.52]))"
            ]
          },
          "metadata": {},
          "execution_count": 37
        }
      ]
    },
    {
      "cell_type": "code",
      "metadata": {
        "colab": {
          "base_uri": "https://localhost:8080/",
          "height": 442
        },
        "id": "a0NLHXDhWDX-",
        "outputId": "db465673-789d-4f07-da15-298343fbf818"
      },
      "source": [
        "# Plot naive forecast\n",
        "plt.figure(figsize=(10, 7))\n",
        "plot_time_series(timesteps=X_train, values=y_train, label=\"Train data\")\n",
        "plot_time_series(timesteps=X_test, values=y_test, label=\"Test data\")\n",
        "plot_time_series(timesteps=X_test[1:], values=naive_forecast, format=\"-\", label=\"Naive forecast\");"
      ],
      "execution_count": 38,
      "outputs": [
        {
          "output_type": "display_data",
          "data": {
            "text/plain": [
              "<Figure size 720x504 with 1 Axes>"
            ],
            "image/png": "[encoded data removed]"
          },
          "metadata": {
            "needs_background": "light"
          }
        }
      ]
    },
    {
      "cell_type": "markdown",
      "metadata": {
        "id": "8Zj2p8NAkRLD"
      },
      "source": [
        "The naive forecast looks like it's following the data well. \n",
        "\n",
        "Let's zoom in to take a better look.\n",
        "\n",
        "We can do so by creating an offset value and passing it to the `start` parameter of our `plot_time_series()` function."
      ]
    },
    {
      "cell_type": "code",
      "metadata": {
        "colab": {
          "base_uri": "https://localhost:8080/",
          "height": 442
        },
        "id": "dx0wUhtOW_VX",
        "outputId": "52f3d2fb-384a-4aa9-f9e0-3e4c1028943b"
      },
      "source": [
        "plt.figure(figsize=(10, 7))\n",
        "offset = 300 # offset the values by 300 timesteps \n",
        "plot_time_series(timesteps=X_test, values=y_test, start=offset, label=\"Test data\")\n",
        "plot_time_series(timesteps=X_test[1:], values=naive_forecast, format=\"-\", start=offset, label=\"Naive forecast\");"
      ],
      "execution_count": 43,
      "outputs": [
        {
          "output_type": "display_data",
          "data": {
            "text/plain": [
              "<Figure size 720x504 with 1 Axes>"
            ],
            "image/png": "[encoded data removed]"
          },
          "metadata": {
            "needs_background": "light"
          }
        }
      ]
    },
    {
      "cell_type": "markdown",
      "metadata": {
        "id": "AdPsP9SwD72K"
      },
      "source": [
        "When we zoom in we see the naïve forecast comes slightly after the test data. This makes sense because the naive forecast uses the previous timestep value to predict the next timestep value.\n"
      ]
    },
    {
      "cell_type": "markdown",
      "metadata": {
        "id": "UdK4KoFnA90I"
      },
      "source": [
        "## Evaluating the time series model\n",
        "\n"
      ]
    },
    {
      "cell_type": "code",
      "metadata": {
        "id": "ljaO69huYCZD"
      },
      "source": [
        "import tensorflow as tf\n",
        "import numpy as np"
      ],
      "execution_count": 52,
      "outputs": []
    },
    {
      "cell_type": "code",
      "metadata": {
        "id": "2jbLBJ_IGjla"
      },
      "source": [
        "# MASE implemented courtesy of sktime - https://github.com/alan-turing-institute/sktime/blob/ee7a06843a44f4aaec7582d847e36073a9ab0566/sktime/performance_metrics/forecasting/_functions.py#L16\n",
        "def mean_absolute_scaled_error(y_true, y_pred):\n",
        "  \"\"\"\n",
        "  Implement MASE (assuming no seasonality of data).\n",
        "  \"\"\"\n",
        "  mae = tf.reduce_mean(tf.abs(y_true - y_pred))\n",
        "\n",
        "  # Find MAE of naive forecast (no seasonality)\n",
        "  mae_naive_no_season = tf.reduce_mean(tf.abs(y_true[1:] - y_true[:-1])) # our seasonality is 1 day (hence the shifting of 1 day)\n",
        "\n",
        "  return mae / mae_naive_no_season"
      ],
      "execution_count": 40,
      "outputs": []
    },
    {
      "cell_type": "markdown",
      "metadata": {
        "id": "yD4P7-wwUVWj"
      },
      "source": [
        "In practice, if we've created the function correctly, the naïve model should achieve an MASE of 1 (or very close to 1). Any model worse than the naïve forecast will achieve an MASE of >1 and any model better than the naïve forecast will achieve an MASE of <1.\n",
        "\n",
        "Let's put each of our different evaluation metrics together into a function."
      ]
    },
    {
      "cell_type": "code",
      "metadata": {
        "id": "MwMeVgRXWaJp"
      },
      "source": [
        "def evaluate_preds(y_true, y_pred):\n",
        "  # Make sure float32 (for metric calculations)\n",
        "  y_true = tf.cast(y_true, dtype=tf.float32)\n",
        "  y_pred = tf.cast(y_pred, dtype=tf.float32)\n",
        "\n",
        "  # Calculate various metrics\n",
        "  mae = tf.keras.metrics.mean_absolute_error(y_true, y_pred)\n",
        "  mse = tf.keras.metrics.mean_squared_error(y_true, y_pred) # puts and emphasis on outliers (all errors get squared)\n",
        "  rmse = tf.sqrt(mse)\n",
        "  mape = tf.keras.metrics.mean_absolute_percentage_error(y_true, y_pred)\n",
        "  mase = mean_absolute_scaled_error(y_true, y_pred)\n",
        "  \n",
        "  return {\"mae\": mae.numpy(),\n",
        "          \"mse\": mse.numpy(),\n",
        "          \"rmse\": rmse.numpy(),\n",
        "          \"mape\": mape.numpy(),\n",
        "          \"mase\": mase.numpy()}"
      ],
      "execution_count": 41,
      "outputs": []
    },
    {
      "cell_type": "code",
      "metadata": {
        "colab": {
          "base_uri": "https://localhost:8080/"
        },
        "id": "HbJlsvUwYEsf",
        "outputId": "825a207d-4a22-4383-d483-0e6a3646a953"
      },
      "source": [
        "naive_results = evaluate_preds(y_true=y_test[1:],\n",
        "                               y_pred=naive_forecast)\n",
        "naive_results"
      ],
      "execution_count": 42,
      "outputs": [
        {
          "output_type": "execute_result",
          "data": {
            "text/plain": [
              "{'mae': 2.6322067,\n",
              " 'mse': 13.725236,\n",
              " 'rmse': 3.7047586,\n",
              " 'mape': 1.2672899,\n",
              " 'mase': 1.0003692}"
            ]
          },
          "metadata": {},
          "execution_count": 42
        }
      ]
    },
    {
      "cell_type": "markdown",
      "metadata": {
        "id": "e8AzwUvjBkgY"
      },
      "source": [
        "## Format Data Part 2: Windowing dataset\n",
        "Let's build some functions which take in a univariate time series and turn it into windows and horizons of specified sizes.\n",
        "\n",
        "We'll start with a horizon size of 1 and a window size of 7."
      ]
    },
    {
      "cell_type": "code",
      "metadata": {
        "id": "LibzWQXM2ib-"
      },
      "source": [
        "HORIZON = 1 # predict 1 step at a time\n",
        "WINDOW_SIZE = 7 # use a week worth of timesteps to predict the horizon"
      ],
      "execution_count": 45,
      "outputs": []
    },
    {
      "cell_type": "code",
      "metadata": {
        "id": "zV8pv5K_x81E"
      },
      "source": [
        "# Create function to label windowed data\n",
        "def get_labelled_windows(x, horizon=1):\n",
        "  \"\"\"\n",
        "  Creates labels for windowed dataset.\n",
        "\n",
        "  E.g. if horizon=1 (default)\n",
        "  Input: [1, 2, 3, 4, 5, 6] -> Output: ([1, 2, 3, 4, 5], [6])\n",
        "  \"\"\"\n",
        "  return x[:, :-horizon], x[:, -horizon:]"
      ],
      "execution_count": 48,
      "outputs": []
    },
    {
      "cell_type": "code",
      "metadata": {
        "colab": {
          "base_uri": "https://localhost:8080/"
        },
        "id": "ejJ9vCyKff8F",
        "outputId": "f5b5ea99-359c-4d85-dbbf-d98c84532462"
      },
      "source": [
        "# Test out the window labelling function\n",
        "test_window, test_label = get_labelled_windows(tf.expand_dims(tf.range(8)+1, axis=0), horizon=HORIZON)\n",
        "print(f\"Window: {tf.squeeze(test_window).numpy()} -> Label: {tf.squeeze(test_label).numpy()}\")"
      ],
      "execution_count": 49,
      "outputs": [
        {
          "output_type": "stream",
          "name": "stdout",
          "text": [
            "Window: [1 2 3 4 5 6 7] -> Label: 8\n"
          ]
        }
      ]
    },
    {
      "cell_type": "markdown",
      "metadata": {
        "id": "qc4U4ExKfx6S"
      },
      "source": [
        "Now we need a way to make windows for an entire time series.\n",
        "To speed things up, we'll leverage NumPy's array indexing, instead of for loops.\n",
        "\n",
        "Let's write a function which:\n",
        "1. Creates a window step of specific window size, for example: `[[0, 1, 2, 3, 4, 5, 6, 7]]`\n",
        "2. Uses NumPy indexing to create a 2D of multiple window steps, for example: \n",
        "```\n",
        "[[0, 1, 2, 3, 4, 5, 6, 7],\n",
        " [1, 2, 3, 4, 5, 6, 7, 8],\n",
        " [2, 3, 4, 5, 6, 7, 8, 9]]\n",
        "```\n",
        "3. Uses the 2D array of multuple window steps to index on a target series\n",
        "4. Uses the `get_labelled_windows()` function we created above to turn the window steps into windows with a specified horizon\n"
      ]
    },
    {
      "cell_type": "code",
      "metadata": {
        "id": "apea0wiJyCI6"
      },
      "source": [
        "# Create function to view NumPy arrays as windows \n",
        "def make_windows(x, window_size=7, horizon=1):\n",
        "  \"\"\"\n",
        "  Turns a 1D array into a 2D array of sequential windows of window_size.\n",
        "  \"\"\"\n",
        "  # 1. Create a window of specific window_size (add the horizon on the end for later labelling)\n",
        "  window_step = np.expand_dims(np.arange(window_size+horizon), axis=0)\n",
        "  # print(f\"Window step:\\n {window_step}\")\n",
        "\n",
        "  # 2. Create a 2D array of multiple window steps (minus 1 to account for 0 indexing)\n",
        "  window_indexes = window_step + np.expand_dims(np.arange(len(x)-(window_size+horizon-1)), axis=0).T # create 2D array of windows of size window_size\n",
        "  # print(f\"Window indexes:\\n {window_indexes[:3], window_indexes[-3:], window_indexes.shape}\")\n",
        "\n",
        "  # 3. Index on the target array (time series) with 2D array of multiple window steps\n",
        "  windowed_array = x[window_indexes]\n",
        "\n",
        "  # 4. Get the labelled windows\n",
        "  windows, labels = get_labelled_windows(windowed_array, horizon=horizon)\n",
        "\n",
        "  return windows, labels"
      ],
      "execution_count": 50,
      "outputs": []
    },
    {
      "cell_type": "code",
      "metadata": {
        "colab": {
          "base_uri": "https://localhost:8080/"
        },
        "id": "u7Yc3V7fc1UG",
        "outputId": "007710ad-a493-4377-db59-a40192edf552"
      },
      "source": [
        "full_windows, full_labels = make_windows(prices, window_size=WINDOW_SIZE, horizon=HORIZON)\n",
        "len(full_windows), len(full_labels)"
      ],
      "execution_count": 54,
      "outputs": [
        {
          "output_type": "execute_result",
          "data": {
            "text/plain": [
              "(2511, 2511)"
            ]
          },
          "metadata": {},
          "execution_count": 54
        }
      ]
    },
    {
      "cell_type": "code",
      "metadata": {
        "colab": {
          "base_uri": "https://localhost:8080/"
        },
        "id": "U1P-MT4CkYta",
        "outputId": "9ed524a4-1854-4f1c-d63a-972a007dddac"
      },
      "source": [
        "# View the first 3 windows/labels\n",
        "for i in range(3):\n",
        "  print(f\"Window: {full_windows[i]} -> Label: {full_labels[i]}\")"
      ],
      "execution_count": 55,
      "outputs": [
        {
          "output_type": "stream",
          "name": "stdout",
          "text": [
            "Window: [29.8557 29.8357 29.9043 30.1014 31.2786 31.2971 31.86  ] -> Label: [32.12]\n",
            "Window: [29.8357 29.9043 30.1014 31.2786 31.2971 31.86   32.12  ] -> Label: [32.2143]\n",
            "Window: [29.9043 30.1014 31.2786 31.2971 31.86   32.12   32.2143] -> Label: [32.3714]\n"
          ]
        }
      ]
    },
    {
      "cell_type": "code",
      "metadata": {
        "colab": {
          "base_uri": "https://localhost:8080/"
        },
        "id": "UCDtm6gskjRH",
        "outputId": "5b86b779-2164-42ca-a082-b7c167537897"
      },
      "source": [
        "# View the last 3 windows/labels\n",
        "for i in range(3):\n",
        "  print(f\"Window: {full_windows[i-3]} -> Label: {full_labels[i-3]}\")"
      ],
      "execution_count": 56,
      "outputs": [
        {
          "output_type": "stream",
          "name": "stdout",
          "text": [
            "Window: [324.95 319.   323.62 320.3  313.05 298.18 288.08] -> Label: [292.65]\n",
            "Window: [319.   323.62 320.3  313.05 298.18 288.08 292.65] -> Label: [273.52]\n",
            "Window: [323.62 320.3  313.05 298.18 288.08 292.65 273.52] -> Label: [273.36]\n"
          ]
        }
      ]
    },
    {
      "cell_type": "code",
      "metadata": {
        "id": "o_8BRgb8YtP3"
      },
      "source": [
        "# Make the train/test splits\n",
        "def make_train_test_splits(windows, labels, test_split=0.2):\n",
        "  \"\"\"\n",
        "  Splits matching pairs of windows and labels into train and test splits.\n",
        "  \"\"\"\n",
        "  split_size = int(len(windows) * (1-test_split)) # this will default to 80% train/20% test\n",
        "  train_windows = windows[:split_size]\n",
        "  train_labels = labels[:split_size]\n",
        "  test_windows = windows[split_size:]\n",
        "  test_labels = labels[split_size:]\n",
        "  return train_windows, test_windows, train_labels, test_labels"
      ],
      "execution_count": 57,
      "outputs": []
    },
    {
      "cell_type": "code",
      "metadata": {
        "colab": {
          "base_uri": "https://localhost:8080/"
        },
        "id": "z_xY8T7HEaoU",
        "outputId": "b291bf2c-1341-48c9-d021-b7746d5b22fe"
      },
      "source": [
        "train_windows, test_windows, train_labels, test_labels = make_train_test_splits(full_windows, full_labels)\n",
        "len(train_windows), len(test_windows), len(train_labels), len(test_labels)"
      ],
      "execution_count": 58,
      "outputs": [
        {
          "output_type": "execute_result",
          "data": {
            "text/plain": [
              "(2008, 503, 2008, 503)"
            ]
          },
          "metadata": {},
          "execution_count": 58
        }
      ]
    },
    {
      "cell_type": "code",
      "metadata": {
        "colab": {
          "base_uri": "https://localhost:8080/"
        },
        "id": "DDgyT7Gix1fH",
        "outputId": "529577b3-8899-433e-f40b-5d9b63618ac5"
      },
      "source": [
        "train_windows[:5], train_labels[:5]"
      ],
      "execution_count": 59,
      "outputs": [
        {
          "output_type": "execute_result",
          "data": {
            "text/plain": [
              "(array([[29.8557, 29.8357, 29.9043, 30.1014, 31.2786, 31.2971, 31.86  ],\n",
              "        [29.8357, 29.9043, 30.1014, 31.2786, 31.2971, 31.86  , 32.12  ],\n",
              "        [29.9043, 30.1014, 31.2786, 31.2971, 31.86  , 32.12  , 32.2143],\n",
              "        [30.1014, 31.2786, 31.2971, 31.86  , 32.12  , 32.2143, 32.3714],\n",
              "        [31.2786, 31.2971, 31.86  , 32.12  , 32.2143, 32.3714, 31.9771]]),\n",
              " array([[32.12  ],\n",
              "        [32.2143],\n",
              "        [32.3714],\n",
              "        [31.9771],\n",
              "        [32.0643]]))"
            ]
          },
          "metadata": {},
          "execution_count": 59
        }
      ]
    },
    {
      "cell_type": "code",
      "metadata": {
        "colab": {
          "base_uri": "https://localhost:8080/"
        },
        "id": "TkF0HmvadHBB",
        "outputId": "b2b60333-9ee9-4c10-c2dc-7b8cc16ee756"
      },
      "source": [
        "# Check to see if same (accounting for horizon and window size)\n",
        "np.array_equal(np.squeeze(train_labels[:-HORIZON-1]), y_train[WINDOW_SIZE:])"
      ],
      "execution_count": 60,
      "outputs": [
        {
          "output_type": "execute_result",
          "data": {
            "text/plain": [
              "False"
            ]
          },
          "metadata": {},
          "execution_count": 60
        }
      ]
    },
    {
      "cell_type": "markdown",
      "metadata": {
        "id": "PQX0PF5jV4aq"
      },
      "source": [
        "## Make a modelling checkpoint\n",
        "Because our model's performance will fluctuate from experiment to experiment, we'll want to make sure we're comparing apples to apples.\n",
        "In order for a fair comparison, we want to compare each model's best performance against each model's best performance.\n",
        "\n",
        "To take of this, we'll implement a [`ModelCheckpoint`](https://www.tensorflow.org/api_docs/python/tf/keras/callbacks/ModelCheckpoint) callback.\n",
        "\n",
        "The `ModelCheckpoint` callback will monitor our model's performance during training and save the best model to file by setting `save_best_only=True`."
      ]
    },
    {
      "cell_type": "code",
      "metadata": {
        "id": "Xh8i1f7rV_P2"
      },
      "source": [
        "import os\n",
        "\n",
        "# Create a function to implement a ModelCheckpoint callback with a specific filename \n",
        "def create_model_checkpoint(model_name, save_path=\"model_experiments\"):\n",
        "  return tf.keras.callbacks.ModelCheckpoint(filepath=os.path.join(save_path, model_name), # create filepath to save model\n",
        "                                            verbose=0, # only output a limited amount of text\n",
        "                                            save_best_only=True) # save only the best model to file"
      ],
      "execution_count": 61,
      "outputs": []
    },
    {
      "cell_type": "markdown",
      "metadata": {
        "id": "j5uw1AaVY-J9"
      },
      "source": [
        "## Model 1: Dense model (window = 7, horizon = 1)\n",
        "\n",
        "`model_1` will have:\n",
        "* A single dense layer with 128 hidden units and ReLU activation\n",
        "* An output layer with linear activation \n",
        "* Batch size of 128\n",
        "* 100 epochs\n"
      ]
    },
    {
      "cell_type": "code",
      "metadata": {
        "colab": {
          "base_uri": "https://localhost:8080/"
        },
        "id": "Slr5hrJHY_Ed",
        "outputId": "6eb24969-86cf-48e5-c4f0-1d8e0ae29fa8"
      },
      "source": [
        "import tensorflow as tf\n",
        "from tensorflow.keras import layers\n",
        "\n",
        "# Set random seed for as reproducible results as possible\n",
        "tf.random.set_seed(42)\n",
        "\n",
        "# Construct model\n",
        "model_1 = tf.keras.Sequential([\n",
        "  layers.Dense(128, activation=\"relu\"),\n",
        "  layers.Dense(HORIZON, activation=\"linear\") # linear activation is the same as having no activation                        \n",
        "], name=\"model_1_dense\") # give the model a name so we can save it\n",
        "\n",
        "# Compile model\n",
        "model_1.compile(loss=\"mae\",\n",
        "                optimizer=tf.keras.optimizers.Adam(),\n",
        "                metrics=[\"mae\"]) # we don't necessarily need this when the loss function is already MAE\n",
        "\n",
        "# Fit model\n",
        "model_1.fit(x=train_windows, # train windows of 7 timesteps of Bitcoin prices\n",
        "            y=train_labels, # horizon value of 1 (using the previous 7 timesteps to predict next day)\n",
        "            epochs=100,\n",
        "            verbose=1,\n",
        "            batch_size=128,\n",
        "            validation_data=(test_windows, test_labels),\n",
        "            callbacks=[create_model_checkpoint(model_name=model_1.name)]) # create ModelCheckpoint callback to save best model"
      ],
      "execution_count": 62,
      "outputs": [
        {
          "output_type": "stream",
          "name": "stdout",
          "text": [
            "Epoch 1/100\n",
            "16/16 [==============================] - 3s 49ms/step - loss: 22.3954 - mae: 22.3954 - val_loss: 22.7899 - val_mae: 22.7899\n",
            "Epoch 2/100\n",
            "16/16 [==============================] - 0s 31ms/step - loss: 4.7618 - mae: 4.7618 - val_loss: 5.2215 - val_mae: 5.2215\n",
            "Epoch 3/100\n",
            "16/16 [==============================] - 1s 41ms/step - loss: 2.4325 - mae: 2.4325 - val_loss: 4.8144 - val_mae: 4.8144\n",
            "Epoch 4/100\n",
            "16/16 [==============================] - 0s 32ms/step - loss: 1.9598 - mae: 1.9598 - val_loss: 4.2577 - val_mae: 4.2577\n",
            "Epoch 5/100\n",
            "16/16 [==============================] - 0s 5ms/step - loss: 1.8345 - mae: 1.8345 - val_loss: 4.3646 - val_mae: 4.3646\n",
            "Epoch 6/100\n",
            "16/16 [==============================] - 0s 4ms/step - loss: 1.7657 - mae: 1.7657 - val_loss: 4.3716 - val_mae: 4.3716\n",
            "Epoch 7/100\n",
            "16/16 [==============================] - 0s 32ms/step - loss: 1.7790 - mae: 1.7790 - val_loss: 4.1993 - val_mae: 4.1993\n",
            "Epoch 8/100\n",
            "16/16 [==============================] - 1s 45ms/step - loss: 1.7549 - mae: 1.7549 - val_loss: 4.1771 - val_mae: 4.1771\n",
            "Epoch 9/100\n",
            "16/16 [==============================] - 0s 7ms/step - loss: 1.7890 - mae: 1.7890 - val_loss: 4.3315 - val_mae: 4.3315\n",
            "Epoch 10/100\n",
            "16/16 [==============================] - 0s 7ms/step - loss: 1.7289 - mae: 1.7289 - val_loss: 4.2047 - val_mae: 4.2047\n",
            "Epoch 11/100\n",
            "16/16 [==============================] - 1s 54ms/step - loss: 1.7136 - mae: 1.7136 - val_loss: 4.1296 - val_mae: 4.1296\n",
            "Epoch 12/100\n",
            "16/16 [==============================] - 0s 32ms/step - loss: 1.7164 - mae: 1.7164 - val_loss: 4.1036 - val_mae: 4.1036\n",
            "Epoch 13/100\n",
            "16/16 [==============================] - 0s 31ms/step - loss: 1.6838 - mae: 1.6838 - val_loss: 4.0300 - val_mae: 4.0300\n",
            "Epoch 14/100\n",
            "16/16 [==============================] - 0s 4ms/step - loss: 1.6726 - mae: 1.6726 - val_loss: 4.1220 - val_mae: 4.1220\n",
            "Epoch 15/100\n",
            "16/16 [==============================] - 1s 42ms/step - loss: 1.6589 - mae: 1.6589 - val_loss: 3.9855 - val_mae: 3.9855\n",
            "Epoch 16/100\n",
            "16/16 [==============================] - 0s 7ms/step - loss: 1.6453 - mae: 1.6453 - val_loss: 3.9990 - val_mae: 3.9990\n",
            "Epoch 17/100\n",
            "16/16 [==============================] - 1s 81ms/step - loss: 1.6307 - mae: 1.6307 - val_loss: 3.9188 - val_mae: 3.9188\n",
            "Epoch 18/100\n",
            "16/16 [==============================] - 0s 15ms/step - loss: 1.6274 - mae: 1.6274 - val_loss: 3.9209 - val_mae: 3.9209\n",
            "Epoch 19/100\n",
            "16/16 [==============================] - 0s 17ms/step - loss: 1.6158 - mae: 1.6158 - val_loss: 3.9928 - val_mae: 3.9928\n",
            "Epoch 20/100\n",
            "16/16 [==============================] - 0s 15ms/step - loss: 1.6009 - mae: 1.6009 - val_loss: 4.4563 - val_mae: 4.4563\n",
            "Epoch 21/100\n",
            "16/16 [==============================] - 0s 10ms/step - loss: 1.6215 - mae: 1.6215 - val_loss: 3.9503 - val_mae: 3.9503\n",
            "Epoch 22/100\n",
            "16/16 [==============================] - 1s 74ms/step - loss: 1.5676 - mae: 1.5676 - val_loss: 3.8283 - val_mae: 3.8283\n",
            "Epoch 23/100\n",
            "16/16 [==============================] - 0s 11ms/step - loss: 1.5666 - mae: 1.5666 - val_loss: 3.8902 - val_mae: 3.8902\n",
            "Epoch 24/100\n",
            "16/16 [==============================] - 0s 10ms/step - loss: 1.6369 - mae: 1.6369 - val_loss: 4.9948 - val_mae: 4.9948\n",
            "Epoch 25/100\n",
            "16/16 [==============================] - 1s 64ms/step - loss: 1.6186 - mae: 1.6186 - val_loss: 3.8032 - val_mae: 3.8032\n",
            "Epoch 26/100\n",
            "16/16 [==============================] - 2s 103ms/step - loss: 1.5410 - mae: 1.5410 - val_loss: 3.7143 - val_mae: 3.7143\n",
            "Epoch 27/100\n",
            "16/16 [==============================] - 1s 56ms/step - loss: 1.5271 - mae: 1.5271 - val_loss: 3.6515 - val_mae: 3.6515\n",
            "Epoch 28/100\n",
            "16/16 [==============================] - 0s 7ms/step - loss: 1.5114 - mae: 1.5114 - val_loss: 3.9719 - val_mae: 3.9719\n",
            "Epoch 29/100\n",
            "16/16 [==============================] - 1s 38ms/step - loss: 1.5206 - mae: 1.5206 - val_loss: 3.6273 - val_mae: 3.6273\n",
            "Epoch 30/100\n",
            "16/16 [==============================] - 0s 30ms/step - loss: 1.5201 - mae: 1.5201 - val_loss: 3.6177 - val_mae: 3.6177\n",
            "Epoch 31/100\n",
            "16/16 [==============================] - 0s 4ms/step - loss: 1.6077 - mae: 1.6077 - val_loss: 3.8977 - val_mae: 3.8977\n",
            "Epoch 32/100\n",
            "16/16 [==============================] - 0s 5ms/step - loss: 1.4471 - mae: 1.4471 - val_loss: 3.6853 - val_mae: 3.6853\n",
            "Epoch 33/100\n",
            "16/16 [==============================] - 1s 43ms/step - loss: 1.4389 - mae: 1.4389 - val_loss: 3.6057 - val_mae: 3.6057\n",
            "Epoch 34/100\n",
            "16/16 [==============================] - 0s 31ms/step - loss: 1.4488 - mae: 1.4488 - val_loss: 3.4789 - val_mae: 3.4789\n",
            "Epoch 35/100\n",
            "16/16 [==============================] - 0s 31ms/step - loss: 1.4290 - mae: 1.4290 - val_loss: 3.4544 - val_mae: 3.4544\n",
            "Epoch 36/100\n",
            "16/16 [==============================] - 0s 4ms/step - loss: 1.3963 - mae: 1.3963 - val_loss: 3.5950 - val_mae: 3.5950\n",
            "Epoch 37/100\n",
            "16/16 [==============================] - 0s 30ms/step - loss: 1.3858 - mae: 1.3858 - val_loss: 3.4217 - val_mae: 3.4217\n",
            "Epoch 38/100\n",
            "16/16 [==============================] - 0s 4ms/step - loss: 1.3885 - mae: 1.3885 - val_loss: 3.9822 - val_mae: 3.9822\n",
            "Epoch 39/100\n",
            "16/16 [==============================] - 0s 4ms/step - loss: 1.4973 - mae: 1.4973 - val_loss: 3.5280 - val_mae: 3.5280\n",
            "Epoch 40/100\n",
            "16/16 [==============================] - 0s 5ms/step - loss: 1.5315 - mae: 1.5315 - val_loss: 3.4597 - val_mae: 3.4597\n",
            "Epoch 41/100\n",
            "16/16 [==============================] - 0s 30ms/step - loss: 1.3532 - mae: 1.3532 - val_loss: 3.3373 - val_mae: 3.3373\n",
            "Epoch 42/100\n",
            "16/16 [==============================] - 0s 5ms/step - loss: 1.3444 - mae: 1.3444 - val_loss: 3.3388 - val_mae: 3.3388\n",
            "Epoch 43/100\n",
            "16/16 [==============================] - 0s 4ms/step - loss: 1.3389 - mae: 1.3389 - val_loss: 4.2897 - val_mae: 4.2897\n",
            "Epoch 44/100\n",
            "16/16 [==============================] - 0s 4ms/step - loss: 1.4906 - mae: 1.4906 - val_loss: 3.4168 - val_mae: 3.4168\n",
            "Epoch 45/100\n",
            "16/16 [==============================] - 0s 29ms/step - loss: 1.3144 - mae: 1.3144 - val_loss: 3.2869 - val_mae: 3.2869\n",
            "Epoch 46/100\n",
            "16/16 [==============================] - 0s 4ms/step - loss: 1.3151 - mae: 1.3151 - val_loss: 3.4614 - val_mae: 3.4614\n",
            "Epoch 47/100\n",
            "16/16 [==============================] - 0s 31ms/step - loss: 1.3826 - mae: 1.3826 - val_loss: 3.2269 - val_mae: 3.2269\n",
            "Epoch 48/100\n",
            "16/16 [==============================] - 0s 31ms/step - loss: 1.2887 - mae: 1.2887 - val_loss: 3.2146 - val_mae: 3.2146\n",
            "Epoch 49/100\n",
            "16/16 [==============================] - 0s 5ms/step - loss: 1.2723 - mae: 1.2723 - val_loss: 3.2894 - val_mae: 3.2894\n",
            "Epoch 50/100\n",
            "16/16 [==============================] - 0s 30ms/step - loss: 1.2660 - mae: 1.2660 - val_loss: 3.1718 - val_mae: 3.1718\n",
            "Epoch 51/100\n",
            "16/16 [==============================] - 0s 4ms/step - loss: 1.3192 - mae: 1.3192 - val_loss: 3.7324 - val_mae: 3.7324\n",
            "Epoch 52/100\n",
            "16/16 [==============================] - 0s 4ms/step - loss: 1.3113 - mae: 1.3113 - val_loss: 3.2923 - val_mae: 3.2923\n",
            "Epoch 53/100\n",
            "16/16 [==============================] - 0s 4ms/step - loss: 1.2882 - mae: 1.2882 - val_loss: 3.1782 - val_mae: 3.1782\n",
            "Epoch 54/100\n",
            "16/16 [==============================] - 0s 4ms/step - loss: 1.2885 - mae: 1.2885 - val_loss: 3.3899 - val_mae: 3.3899\n",
            "Epoch 55/100\n",
            "16/16 [==============================] - 0s 30ms/step - loss: 1.3112 - mae: 1.3112 - val_loss: 3.1328 - val_mae: 3.1328\n",
            "Epoch 56/100\n",
            "16/16 [==============================] - 0s 32ms/step - loss: 1.3078 - mae: 1.3078 - val_loss: 3.1040 - val_mae: 3.1040\n",
            "Epoch 57/100\n",
            "16/16 [==============================] - 0s 30ms/step - loss: 1.2387 - mae: 1.2387 - val_loss: 3.0865 - val_mae: 3.0865\n",
            "Epoch 58/100\n",
            "16/16 [==============================] - 1s 43ms/step - loss: 1.2285 - mae: 1.2285 - val_loss: 3.0751 - val_mae: 3.0751\n",
            "Epoch 59/100\n",
            "16/16 [==============================] - 1s 54ms/step - loss: 1.2199 - mae: 1.2199 - val_loss: 3.0624 - val_mae: 3.0624\n",
            "Epoch 60/100\n",
            "16/16 [==============================] - 1s 57ms/step - loss: 1.2263 - mae: 1.2263 - val_loss: 3.0476 - val_mae: 3.0476\n",
            "Epoch 61/100\n",
            "16/16 [==============================] - 0s 33ms/step - loss: 1.2001 - mae: 1.2001 - val_loss: 3.0364 - val_mae: 3.0364\n",
            "Epoch 62/100\n",
            "16/16 [==============================] - 1s 34ms/step - loss: 1.2039 - mae: 1.2039 - val_loss: 3.0304 - val_mae: 3.0304\n",
            "Epoch 63/100\n",
            "16/16 [==============================] - 0s 31ms/step - loss: 1.2356 - mae: 1.2356 - val_loss: 3.0234 - val_mae: 3.0234\n",
            "Epoch 64/100\n",
            "16/16 [==============================] - 0s 4ms/step - loss: 1.2284 - mae: 1.2284 - val_loss: 3.0897 - val_mae: 3.0897\n",
            "Epoch 65/100\n",
            "16/16 [==============================] - 0s 5ms/step - loss: 1.3393 - mae: 1.3393 - val_loss: 3.1372 - val_mae: 3.1372\n",
            "Epoch 66/100\n",
            "16/16 [==============================] - 0s 4ms/step - loss: 1.3144 - mae: 1.3144 - val_loss: 3.8570 - val_mae: 3.8570\n",
            "Epoch 67/100\n",
            "16/16 [==============================] - 0s 5ms/step - loss: 1.2726 - mae: 1.2726 - val_loss: 3.7521 - val_mae: 3.7521\n",
            "Epoch 68/100\n",
            "16/16 [==============================] - 0s 4ms/step - loss: 1.2237 - mae: 1.2237 - val_loss: 3.2700 - val_mae: 3.2700\n",
            "Epoch 69/100\n",
            "16/16 [==============================] - 1s 34ms/step - loss: 1.1727 - mae: 1.1727 - val_loss: 2.9991 - val_mae: 2.9991\n",
            "Epoch 70/100\n",
            "16/16 [==============================] - 0s 7ms/step - loss: 1.1626 - mae: 1.1626 - val_loss: 3.0312 - val_mae: 3.0312\n",
            "Epoch 71/100\n",
            "16/16 [==============================] - 0s 8ms/step - loss: 1.2113 - mae: 1.2113 - val_loss: 3.0683 - val_mae: 3.0683\n",
            "Epoch 72/100\n",
            "16/16 [==============================] - 0s 8ms/step - loss: 1.2293 - mae: 1.2293 - val_loss: 3.4510 - val_mae: 3.4510\n",
            "Epoch 73/100\n",
            "16/16 [==============================] - 1s 53ms/step - loss: 1.2103 - mae: 1.2103 - val_loss: 2.9657 - val_mae: 2.9657\n",
            "Epoch 74/100\n",
            "16/16 [==============================] - 0s 7ms/step - loss: 1.2346 - mae: 1.2346 - val_loss: 3.0455 - val_mae: 3.0455\n",
            "Epoch 75/100\n",
            "16/16 [==============================] - 1s 33ms/step - loss: 1.1967 - mae: 1.1967 - val_loss: 2.9425 - val_mae: 2.9425\n",
            "Epoch 76/100\n",
            "16/16 [==============================] - 0s 4ms/step - loss: 1.1474 - mae: 1.1474 - val_loss: 3.0183 - val_mae: 3.0183\n",
            "Epoch 77/100\n",
            "16/16 [==============================] - 0s 4ms/step - loss: 1.1766 - mae: 1.1766 - val_loss: 3.3439 - val_mae: 3.3439\n",
            "Epoch 78/100\n",
            "16/16 [==============================] - 0s 4ms/step - loss: 1.1620 - mae: 1.1620 - val_loss: 2.9623 - val_mae: 2.9623\n",
            "Epoch 79/100\n",
            "16/16 [==============================] - 0s 31ms/step - loss: 1.1279 - mae: 1.1279 - val_loss: 2.9202 - val_mae: 2.9202\n",
            "Epoch 80/100\n",
            "16/16 [==============================] - 0s 5ms/step - loss: 1.1918 - mae: 1.1918 - val_loss: 3.5322 - val_mae: 3.5322\n",
            "Epoch 81/100\n",
            "16/16 [==============================] - 0s 32ms/step - loss: 1.1668 - mae: 1.1668 - val_loss: 2.9127 - val_mae: 2.9127\n",
            "Epoch 82/100\n",
            "16/16 [==============================] - 0s 4ms/step - loss: 1.1862 - mae: 1.1862 - val_loss: 3.1776 - val_mae: 3.1776\n",
            "Epoch 83/100\n",
            "16/16 [==============================] - 0s 5ms/step - loss: 1.1406 - mae: 1.1406 - val_loss: 2.9260 - val_mae: 2.9260\n",
            "Epoch 84/100\n",
            "16/16 [==============================] - 0s 4ms/step - loss: 1.1459 - mae: 1.1459 - val_loss: 2.9317 - val_mae: 2.9317\n",
            "Epoch 85/100\n",
            "16/16 [==============================] - 0s 5ms/step - loss: 1.1610 - mae: 1.1610 - val_loss: 2.9205 - val_mae: 2.9205\n",
            "Epoch 86/100\n",
            "16/16 [==============================] - 0s 5ms/step - loss: 1.1202 - mae: 1.1202 - val_loss: 3.1343 - val_mae: 3.1343\n",
            "Epoch 87/100\n",
            "16/16 [==============================] - 0s 9ms/step - loss: 1.1096 - mae: 1.1096 - val_loss: 3.0136 - val_mae: 3.0136\n",
            "Epoch 88/100\n",
            "16/16 [==============================] - 0s 8ms/step - loss: 1.1230 - mae: 1.1230 - val_loss: 3.0687 - val_mae: 3.0687\n",
            "Epoch 89/100\n",
            "16/16 [==============================] - 0s 8ms/step - loss: 1.1507 - mae: 1.1507 - val_loss: 3.0240 - val_mae: 3.0240\n",
            "Epoch 90/100\n",
            "16/16 [==============================] - 0s 7ms/step - loss: 1.1199 - mae: 1.1199 - val_loss: 2.9271 - val_mae: 2.9271\n",
            "Epoch 91/100\n",
            "16/16 [==============================] - 0s 6ms/step - loss: 1.1587 - mae: 1.1587 - val_loss: 3.1857 - val_mae: 3.1857\n",
            "Epoch 92/100\n",
            "16/16 [==============================] - 0s 8ms/step - loss: 1.1547 - mae: 1.1547 - val_loss: 3.0904 - val_mae: 3.0904\n",
            "Epoch 93/100\n",
            "16/16 [==============================] - 0s 7ms/step - loss: 1.1073 - mae: 1.1073 - val_loss: 2.9802 - val_mae: 2.9802\n",
            "Epoch 94/100\n",
            "16/16 [==============================] - 0s 5ms/step - loss: 1.1212 - mae: 1.1212 - val_loss: 3.2455 - val_mae: 3.2455\n",
            "Epoch 95/100\n",
            "16/16 [==============================] - 1s 48ms/step - loss: 1.1215 - mae: 1.1215 - val_loss: 2.8648 - val_mae: 2.8648\n",
            "Epoch 96/100\n",
            "16/16 [==============================] - 0s 4ms/step - loss: 1.1126 - mae: 1.1126 - val_loss: 2.8927 - val_mae: 2.8927\n",
            "Epoch 97/100\n",
            "16/16 [==============================] - 1s 51ms/step - loss: 1.1424 - mae: 1.1424 - val_loss: 2.8462 - val_mae: 2.8462\n",
            "Epoch 98/100\n",
            "16/16 [==============================] - 0s 7ms/step - loss: 1.1501 - mae: 1.1501 - val_loss: 2.8733 - val_mae: 2.8733\n",
            "Epoch 99/100\n",
            "16/16 [==============================] - 1s 51ms/step - loss: 1.1025 - mae: 1.1025 - val_loss: 2.8350 - val_mae: 2.8350\n",
            "Epoch 100/100\n",
            "16/16 [==============================] - 0s 7ms/step - loss: 1.1146 - mae: 1.1146 - val_loss: 3.0253 - val_mae: 3.0253\n"
          ]
        },
        {
          "output_type": "execute_result",
          "data": {
            "text/plain": [
              "<keras.callbacks.History at 0x7fedc0444d50>"
            ]
          },
          "metadata": {},
          "execution_count": 62
        }
      ]
    },
    {
      "cell_type": "code",
      "metadata": {
        "colab": {
          "base_uri": "https://localhost:8080/"
        },
        "id": "N1DbcEZBY_Bt",
        "outputId": "40755882-d7d3-498a-ff38-a28829f37167"
      },
      "source": [
        "# Evaluate model on test data\n",
        "model_1.evaluate(test_windows, test_labels)"
      ],
      "execution_count": 63,
      "outputs": [
        {
          "output_type": "stream",
          "name": "stdout",
          "text": [
            "16/16 [==============================] - 0s 2ms/step - loss: 3.0253 - mae: 3.0253\n"
          ]
        },
        {
          "output_type": "execute_result",
          "data": {
            "text/plain": [
              "[3.025331974029541, 3.025331974029541]"
            ]
          },
          "metadata": {},
          "execution_count": 63
        }
      ]
    },
    {
      "cell_type": "code",
      "metadata": {
        "colab": {
          "base_uri": "https://localhost:8080/"
        },
        "id": "FXey-AX-XZPK",
        "outputId": "431fe906-e0f9-4a5f-982c-4d01859fd8c2"
      },
      "source": [
        "# Load in saved best performing model_1 and evaluate on test data\n",
        "model_1 = tf.keras.models.load_model(\"model_experiments/model_1_dense\")\n",
        "model_1.evaluate(test_windows, test_labels)"
      ],
      "execution_count": 64,
      "outputs": [
        {
          "output_type": "stream",
          "name": "stdout",
          "text": [
            "16/16 [==============================] - 0s 4ms/step - loss: 2.8350 - mae: 2.8350\n"
          ]
        },
        {
          "output_type": "execute_result",
          "data": {
            "text/plain": [
              "[2.8349876403808594, 2.8349876403808594]"
            ]
          },
          "metadata": {},
          "execution_count": 64
        }
      ]
    },
    {
      "cell_type": "markdown",
      "metadata": {
        "id": "-HfeTX5KhYin"
      },
      "source": [
        "## Forecasting "
      ]
    },
    {
      "cell_type": "code",
      "metadata": {
        "id": "hZrExWzyh3ur"
      },
      "source": [
        "def make_preds(model, input_data):\n",
        "  \"\"\"\n",
        "  Uses model to make predictions on input_data.\n",
        "\n",
        "  Parameters\n",
        "  ----------\n",
        "  model: trained model \n",
        "  input_data: windowed input data (same kind of data model was trained on)\n",
        "\n",
        "  Returns model predictions on input_data.\n",
        "  \"\"\"\n",
        "  forecast = model.predict(input_data)\n",
        "  return tf.squeeze(forecast) # return 1D array of predictions"
      ],
      "execution_count": 65,
      "outputs": []
    },
    {
      "cell_type": "code",
      "metadata": {
        "colab": {
          "base_uri": "https://localhost:8080/"
        },
        "id": "u1aAKQp6vapw",
        "outputId": "c1e83e2d-82d3-4e28-c68f-caa620425f11"
      },
      "source": [
        "# Make predictions using model_1 on the test dataset and view the results\n",
        "model_1_preds = make_preds(model_1, test_windows)\n",
        "len(model_1_preds), model_1_preds[:10]"
      ],
      "execution_count": 66,
      "outputs": [
        {
          "output_type": "stream",
          "name": "stdout",
          "text": [
            "16/16 [==============================] - 0s 2ms/step\n"
          ]
        },
        {
          "output_type": "execute_result",
          "data": {
            "text/plain": [
              "(503, <tf.Tensor: shape=(10,), dtype=float32, numpy=\n",
              " array([179.30078, 177.11018, 176.53123, 176.75247, 177.07123, 176.20079,\n",
              "        177.13194, 179.16199, 181.32936, 181.27307], dtype=float32)>)"
            ]
          },
          "metadata": {},
          "execution_count": 66
        }
      ]
    },
    {
      "cell_type": "code",
      "metadata": {
        "colab": {
          "base_uri": "https://localhost:8080/"
        },
        "id": "eHak7Jqd9aXv",
        "outputId": "0c6b7372-6ccc-447c-9881-fbe232ff35b1"
      },
      "source": [
        "# Evaluate preds\n",
        "model_1_results = evaluate_preds(y_true=tf.squeeze(test_labels), # reduce to right shape\n",
        "                                 y_pred=model_1_preds)\n",
        "model_1_results"
      ],
      "execution_count": 68,
      "outputs": [
        {
          "output_type": "execute_result",
          "data": {
            "text/plain": [
              "{'mae': 2.8349876,\n",
              " 'mse': 15.895913,\n",
              " 'rmse': 3.9869678,\n",
              " 'mape': 1.3719867,\n",
              " 'mase': 1.0774361}"
            ]
          },
          "metadata": {},
          "execution_count": 68
        }
      ]
    },
    {
      "cell_type": "code",
      "metadata": {
        "colab": {
          "base_uri": "https://localhost:8080/"
        },
        "id": "5WePaRbqxTXL",
        "outputId": "315104b0-e364-48c7-8eab-d051d956e2cd"
      },
      "source": [
        "naive_results"
      ],
      "execution_count": 69,
      "outputs": [
        {
          "output_type": "execute_result",
          "data": {
            "text/plain": [
              "{'mae': 2.6322067,\n",
              " 'mse': 13.725236,\n",
              " 'rmse': 3.7047586,\n",
              " 'mape': 1.2672899,\n",
              " 'mase': 1.0003692}"
            ]
          },
          "metadata": {},
          "execution_count": 69
        }
      ]
    },
    {
      "cell_type": "code",
      "metadata": {
        "colab": {
          "base_uri": "https://localhost:8080/",
          "height": 442
        },
        "id": "Wgxoqg_tIhFJ",
        "outputId": "4f31004b-2a12-4608-c974-5cf164a51cc6"
      },
      "source": [
        "offset = 300\n",
        "plt.figure(figsize=(10, 7))\n",
        "# Account for the test_window offset and index into test_labels to ensure correct plotting\n",
        "plot_time_series(timesteps=X_test[-len(test_windows):], values=test_labels[:, 0], start=offset, label=\"Test_data\")\n",
        "plot_time_series(timesteps=X_test[-len(test_windows):], values=model_1_preds, start=offset, format=\"-\", label=\"model_1_preds\")"
      ],
      "execution_count": 67,
      "outputs": [
        {
          "output_type": "display_data",
          "data": {
            "text/plain": [
              "<Figure size 720x504 with 1 Axes>"
            ],
            "image/png": "[encoded data removed]"
          },
          "metadata": {
            "needs_background": "light"
          }
        }
      ]
    },
    {
      "cell_type": "markdown",
      "metadata": {
        "id": "fr18ffVq4i6m"
      },
      "source": [
        "## Model 2: Dense (window = 30, horizon = 1)\n",
        "\n",
        "We'll keep the previous model architecture but use a window size of 30.\n"
      ]
    },
    {
      "cell_type": "code",
      "metadata": {
        "id": "Vz0eMi7F4wpn"
      },
      "source": [
        "HORIZON = 1 # predict one step at a time\n",
        "WINDOW_SIZE = 30 # use 30 timesteps in the past"
      ],
      "execution_count": 70,
      "outputs": []
    },
    {
      "cell_type": "code",
      "metadata": {
        "colab": {
          "base_uri": "https://localhost:8080/"
        },
        "id": "1HlYaAxr6UoC",
        "outputId": "05e71649-ffcf-4be8-8d79-84d88e3ee60d"
      },
      "source": [
        "# Make windowed data with appropriate horizon and window sizes\n",
        "full_windows, full_labels = make_windows(prices, window_size=WINDOW_SIZE, horizon=HORIZON)\n",
        "len(full_windows), len(full_labels)"
      ],
      "execution_count": 71,
      "outputs": [
        {
          "output_type": "execute_result",
          "data": {
            "text/plain": [
              "(2488, 2488)"
            ]
          },
          "metadata": {},
          "execution_count": 71
        }
      ]
    },
    {
      "cell_type": "code",
      "metadata": {
        "colab": {
          "base_uri": "https://localhost:8080/"
        },
        "id": "jWxYZtOuelzO",
        "outputId": "80f09ec0-59f3-4eef-f836-176c991444e4"
      },
      "source": [
        "# Make train and testing windows\n",
        "train_windows, test_windows, train_labels, test_labels = make_train_test_splits(windows=full_windows, labels=full_labels)\n",
        "len(train_windows), len(test_windows), len(train_labels), len(test_labels)"
      ],
      "execution_count": 72,
      "outputs": [
        {
          "output_type": "execute_result",
          "data": {
            "text/plain": [
              "(1990, 498, 1990, 498)"
            ]
          },
          "metadata": {},
          "execution_count": 72
        }
      ]
    },
    {
      "cell_type": "code",
      "metadata": {
        "colab": {
          "base_uri": "https://localhost:8080/"
        },
        "id": "b_oz5aJE6UwN",
        "outputId": "c1bd8362-dbdc-42dd-8ad2-5bd7c38f39cb"
      },
      "source": [
        "tf.random.set_seed(42)\n",
        "\n",
        "# Create model (same model as model 1 but data input will be different)\n",
        "model_2 = tf.keras.Sequential([\n",
        "  layers.Dense(128, activation=\"relu\"),\n",
        "  layers.Dense(HORIZON) # need to predict horizon number of steps into the future\n",
        "], name=\"model_2_dense\")\n",
        "\n",
        "model_2.compile(loss=\"mae\",\n",
        "                optimizer=tf.keras.optimizers.Adam())\n",
        "\n",
        "model_2.fit(train_windows,\n",
        "            train_labels,\n",
        "            epochs=100,\n",
        "            batch_size=128,\n",
        "            verbose=0,\n",
        "            validation_data=(test_windows, test_labels),\n",
        "            callbacks=[create_model_checkpoint(model_name=model_2.name)])"
      ],
      "execution_count": 73,
      "outputs": [
        {
          "output_type": "execute_result",
          "data": {
            "text/plain": [
              "<keras.callbacks.History at 0x7fed660bdb90>"
            ]
          },
          "metadata": {},
          "execution_count": 73
        }
      ]
    },
    {
      "cell_type": "code",
      "metadata": {
        "colab": {
          "base_uri": "https://localhost:8080/"
        },
        "id": "W42Fa-aO8rhg",
        "outputId": "636d928a-c815-468e-8cdf-0dde24aadc54"
      },
      "source": [
        "# Evaluate model 2 preds\n",
        "model_2.evaluate(test_windows, test_labels)"
      ],
      "execution_count": 74,
      "outputs": [
        {
          "output_type": "stream",
          "name": "stdout",
          "text": [
            "16/16 [==============================] - 0s 2ms/step - loss: 3.2910\n"
          ]
        },
        {
          "output_type": "execute_result",
          "data": {
            "text/plain": [
              "3.2910056114196777"
            ]
          },
          "metadata": {},
          "execution_count": 74
        }
      ]
    },
    {
      "cell_type": "code",
      "metadata": {
        "colab": {
          "base_uri": "https://localhost:8080/"
        },
        "id": "c_hG89F5YV4i",
        "outputId": "9a2ff6a6-eb59-4f22-e076-2ac1172bb099"
      },
      "source": [
        "# Load in best performing model\n",
        "model_2 = tf.keras.models.load_model(\"model_experiments/model_2_dense/\")\n",
        "model_2.evaluate(test_windows, test_labels)"
      ],
      "execution_count": 75,
      "outputs": [
        {
          "output_type": "stream",
          "name": "stdout",
          "text": [
            "16/16 [==============================] - 0s 2ms/step - loss: 3.2910\n"
          ]
        },
        {
          "output_type": "execute_result",
          "data": {
            "text/plain": [
              "3.2910056114196777"
            ]
          },
          "metadata": {},
          "execution_count": 75
        }
      ]
    },
    {
      "cell_type": "code",
      "metadata": {
        "id": "TPfvPgkUknY5",
        "colab": {
          "base_uri": "https://localhost:8080/"
        },
        "outputId": "a6d5cb2c-7a79-4401-d0c0-96d46d80ef2c"
      },
      "source": [
        "# Get forecast predictions\n",
        "model_2_preds = make_preds(model_2,\n",
        "                           input_data=test_windows)"
      ],
      "execution_count": 76,
      "outputs": [
        {
          "output_type": "stream",
          "name": "stdout",
          "text": [
            "16/16 [==============================] - 0s 2ms/step\n"
          ]
        }
      ]
    },
    {
      "cell_type": "code",
      "metadata": {
        "colab": {
          "base_uri": "https://localhost:8080/"
        },
        "id": "dy7XZx7FllHX",
        "outputId": "f3f1f6ca-6696-4ef8-8bac-3b472238aacd"
      },
      "source": [
        "# Evaluate results for model 2 predictions\n",
        "model_2_results = evaluate_preds(y_true=tf.squeeze(test_labels), # remove 1 dimension of test labels\n",
        "                                 y_pred=model_2_preds)\n",
        "model_2_results"
      ],
      "execution_count": 77,
      "outputs": [
        {
          "output_type": "execute_result",
          "data": {
            "text/plain": [
              "{'mae': 3.2910051,\n",
              " 'mse': 20.76671,\n",
              " 'rmse': 4.5570507,\n",
              " 'mape': 1.6003585,\n",
              " 'mase': 1.2434844}"
            ]
          },
          "metadata": {},
          "execution_count": 77
        }
      ]
    },
    {
      "cell_type": "code",
      "metadata": {
        "colab": {
          "base_uri": "https://localhost:8080/",
          "height": 442
        },
        "id": "jHh_qtXflx7Z",
        "outputId": "666c3c0d-7151-42d4-c398-256dd6cf87d8"
      },
      "source": [
        "offset = 300\n",
        "plt.figure(figsize=(10, 7))\n",
        "# Account for the test_window offset\n",
        "plot_time_series(timesteps=X_test[-len(test_windows):], values=test_labels[:, 0], start=offset, label=\"test_data\")\n",
        "plot_time_series(timesteps=X_test[-len(test_windows):], values=model_2_preds, start=offset, format=\"-\", label=\"model_2_preds\") "
      ],
      "execution_count": 79,
      "outputs": [
        {
          "output_type": "display_data",
          "data": {
            "text/plain": [
              "<Figure size 720x504 with 1 Axes>"
            ],
            "image/png": "[encoded data removed]"
          },
          "metadata": {
            "needs_background": "light"
          }
        }
      ]
    },
    {
      "cell_type": "markdown",
      "metadata": {
        "id": "Sls7mUaq9lMl"
      },
      "source": [
        "## Model 3: Dense (window = 30, horizon = 7)\n",
        "\n",
        "Let's try and predict 7 days ahead given the previous 30 days.\n",
        "\n",
        "First, we'll update the `HORIZON` and `WINDOW_SIZE` variables and create windowed data.\n"
      ]
    },
    {
      "cell_type": "code",
      "metadata": {
        "colab": {
          "base_uri": "https://localhost:8080/"
        },
        "id": "8PtmayTM98Mb",
        "outputId": "f5db2f08-650d-443d-9656-63691060e3d7"
      },
      "source": [
        "HORIZON = 7\n",
        "WINDOW_SIZE = 30\n",
        "\n",
        "full_windows, full_labels = make_windows(prices, window_size=WINDOW_SIZE, horizon=HORIZON)\n",
        "len(full_windows), len(full_labels)"
      ],
      "execution_count": 80,
      "outputs": [
        {
          "output_type": "execute_result",
          "data": {
            "text/plain": [
              "(2482, 2482)"
            ]
          },
          "metadata": {},
          "execution_count": 80
        }
      ]
    },
    {
      "cell_type": "code",
      "metadata": {
        "colab": {
          "base_uri": "https://localhost:8080/"
        },
        "id": "E8xgoKunZ__e",
        "outputId": "bcfde284-eb12-4a99-9fa8-163354ef32b1"
      },
      "source": [
        "train_windows, test_windows, train_labels, test_labels = make_train_test_splits(windows=full_windows, labels=full_labels, test_split=0.2)\n",
        "len(train_windows), len(test_windows), len(train_labels), len(test_labels)"
      ],
      "execution_count": 81,
      "outputs": [
        {
          "output_type": "execute_result",
          "data": {
            "text/plain": [
              "(1985, 497, 1985, 497)"
            ]
          },
          "metadata": {},
          "execution_count": 81
        }
      ]
    },
    {
      "cell_type": "code",
      "metadata": {
        "colab": {
          "base_uri": "https://localhost:8080/"
        },
        "id": "hxHh7xS2-CoH",
        "outputId": "3b22ff90-d1a4-42e0-f9a3-41ae80dfde3d"
      },
      "source": [
        "tf.random.set_seed(42)\n",
        "\n",
        "# Create model (same as model_1 except with different data input size)\n",
        "model_3 = tf.keras.Sequential([\n",
        "  layers.Dense(128, activation=\"relu\"),\n",
        "  layers.Dense(HORIZON)\n",
        "], name=\"model_3_dense\")\n",
        "\n",
        "model_3.compile(loss=\"mae\",\n",
        "                optimizer=tf.keras.optimizers.Adam())\n",
        "\n",
        "model_3.fit(train_windows,\n",
        "            train_labels,\n",
        "            batch_size=128,\n",
        "            epochs=100,\n",
        "            verbose=0,\n",
        "            validation_data=(test_windows, test_labels),\n",
        "            callbacks=[create_model_checkpoint(model_name=model_3.name)])"
      ],
      "execution_count": 82,
      "outputs": [
        {
          "output_type": "execute_result",
          "data": {
            "text/plain": [
              "<keras.callbacks.History at 0x7fed660457d0>"
            ]
          },
          "metadata": {},
          "execution_count": 82
        }
      ]
    },
    {
      "cell_type": "code",
      "metadata": {
        "colab": {
          "base_uri": "https://localhost:8080/"
        },
        "id": "Pd-8pbfh-DDI",
        "outputId": "32c0c9bc-224a-4454-cd86-2b2ed7277242"
      },
      "source": [
        "model_3.evaluate(test_windows, test_labels)"
      ],
      "execution_count": 83,
      "outputs": [
        {
          "output_type": "stream",
          "name": "stdout",
          "text": [
            "16/16 [==============================] - 0s 2ms/step - loss: 5.9070\n"
          ]
        },
        {
          "output_type": "execute_result",
          "data": {
            "text/plain": [
              "5.906998634338379"
            ]
          },
          "metadata": {},
          "execution_count": 83
        }
      ]
    },
    {
      "cell_type": "markdown",
      "metadata": {
        "id": "BXqmKsQhS2qB"
      },
      "source": [
        "To compare apples to apples (best performing model to best performing model), we've got to load in the best version of `model_3`. "
      ]
    },
    {
      "cell_type": "code",
      "metadata": {
        "colab": {
          "base_uri": "https://localhost:8080/"
        },
        "id": "XsltcXHYSrkX",
        "outputId": "db656835-64ff-450d-db7e-7eb805e1b061"
      },
      "source": [
        "# Load in best version of model_3 and evaluate\n",
        "model_3 = tf.keras.models.load_model(\"model_experiments/model_3_dense/\")\n",
        "model_3.evaluate(test_windows, test_labels)"
      ],
      "execution_count": 84,
      "outputs": [
        {
          "output_type": "stream",
          "name": "stdout",
          "text": [
            "16/16 [==============================] - 0s 2ms/step - loss: 5.6377\n"
          ]
        },
        {
          "output_type": "execute_result",
          "data": {
            "text/plain": [
              "5.637706756591797"
            ]
          },
          "metadata": {},
          "execution_count": 84
        }
      ]
    },
    {
      "cell_type": "markdown",
      "metadata": {
        "id": "q--5dtgITJbc"
      },
      "source": [
        "In this case, the error will be higher because we're predicting 7 steps at a time. "
      ]
    },
    {
      "cell_type": "code",
      "metadata": {
        "colab": {
          "base_uri": "https://localhost:8080/"
        },
        "id": "uKBNVovRpvhd",
        "outputId": "b9eaabc3-7c78-47fa-cdbb-c6e26cf1f594"
      },
      "source": [
        "# The predictions are going to be 7 steps at a time (this is the HORIZON size)\n",
        "model_3_preds = make_preds(model_3,\n",
        "                           input_data=test_windows)\n",
        "model_3_preds[:5]"
      ],
      "execution_count": 85,
      "outputs": [
        {
          "output_type": "stream",
          "name": "stdout",
          "text": [
            "16/16 [==============================] - 0s 1ms/step\n"
          ]
        },
        {
          "output_type": "execute_result",
          "data": {
            "text/plain": [
              "<tf.Tensor: shape=(5, 7), dtype=float32, numpy=\n",
              "array([[181.29482, 180.97496, 179.9356 , 179.27545, 180.38501, 178.14478,\n",
              "        181.89037],\n",
              "       [178.14883, 177.60252, 176.4568 , 177.45782, 177.66327, 175.53159,\n",
              "        179.55104],\n",
              "       [178.04543, 177.9455 , 178.14069, 176.75165, 177.64616, 177.53735,\n",
              "        178.1801 ],\n",
              "       [178.97934, 178.11745, 181.00783, 177.19676, 178.98943, 179.32777,\n",
              "        180.13527],\n",
              "       [177.2151 , 176.68553, 179.82535, 176.69463, 176.94794, 178.79713,\n",
              "        178.63747]], dtype=float32)>"
            ]
          },
          "metadata": {},
          "execution_count": 85
        }
      ]
    },
    {
      "cell_type": "code",
      "metadata": {
        "colab": {
          "base_uri": "https://localhost:8080/"
        },
        "id": "P9VQqenW-5to",
        "outputId": "f9b08698-29da-4f8a-dcfa-4693aee60751"
      },
      "source": [
        "model_3_results = evaluate_preds(y_true=tf.squeeze(test_labels),\n",
        "                                 y_pred=model_3_preds)\n",
        "model_3_results"
      ],
      "execution_count": 86,
      "outputs": [
        {
          "output_type": "execute_result",
          "data": {
            "text/plain": [
              "{'mae': array([ 3.6072803 ,  1.8147147 ,  2.0151913 ,  2.4737027 ,  1.573046  ,\n",
              "         1.8754185 ,  2.06056   ,  3.3143637 ,  3.90128   ,  5.8151507 ,\n",
              "         8.744339  ,  9.475867  , 10.27289   , 11.299086  , 11.593826  ,\n",
              "         9.994119  ,  8.047572  ,  4.8809137 ,  4.102718  ,  2.8816028 ,\n",
              "         1.8632507 ,  1.7103293 ,  2.1487317 ,  3.1736865 ,  1.6244507 ,\n",
              "         1.7602452 ,  2.0337524 ,  2.78011   ,  2.3572803 ,  3.213621  ,\n",
              "         4.6548896 ,  6.019793  ,  7.4958887 ,  9.941755  , 13.055455  ,\n",
              "        13.049194  , 11.072972  ,  5.78106   ,  5.1971674 ,  6.1646905 ,\n",
              "         7.696357  , 11.294044  , 14.711441  , 17.098145  , 16.60805   ,\n",
              "        14.303168  ,  8.964728  ,  6.3697314 ,  3.8840747 ,  1.061057  ,\n",
              "         2.2445004 ,  3.5859616 ,  4.4375176 ,  3.959913  ,  2.6556091 ,\n",
              "         2.697002  ,  1.2796828 ,  1.8954118 ,  0.9814998 ,  1.8632704 ,\n",
              "         2.2130933 ,  1.8825662 ,  1.5033243 ,  2.0396554 ,  1.9120178 ,\n",
              "         1.5324751 ,  1.5246037 ,  2.2679312 ,  4.0813074 ,  4.2300286 ,\n",
              "         5.092715  ,  5.6137433 ,  7.533323  ,  7.0681195 ,  8.829782  ,\n",
              "         8.545281  ,  8.133723  ,  6.1709137 ,  5.274279  ,  4.433125  ,\n",
              "         3.6885877 ,  2.3652103 ,  1.6165727 ,  1.229006  ,  1.6901768 ,\n",
              "         1.5203421 ,  1.7292175 ,  2.4306488 ,  2.484898  ,  2.1196442 ,\n",
              "         1.4680939 ,  1.2633253 ,  0.72146827,  1.2553079 ,  1.0541273 ,\n",
              "         1.1781398 ,  1.5256435 ,  1.7366246 ,  1.8849989 ,  2.2939343 ,\n",
              "         3.2115238 ,  4.659461  ,  6.056802  ,  8.303475  ,  8.910161  ,\n",
              "        11.387131  , 12.983244  , 11.087355  ,  7.024658  ,  4.342126  ,\n",
              "         1.734569  ,  1.3173981 ,  2.965221  ,  3.2243848 ,  3.4637363 ,\n",
              "         2.8124716 ,  2.453973  ,  2.4013913 ,  2.513164  ,  2.3735461 ,\n",
              "         2.181052  ,  3.1753519 ,  4.291929  ,  5.3265185 ,  5.595858  ,\n",
              "         4.2280164 ,  4.0476117 ,  3.562633  ,  3.3507211 ,  3.943294  ,\n",
              "         5.370797  ,  5.5594873 ,  6.2968445 ,  6.465533  ,  4.923896  ,\n",
              "         6.6352234 ,  6.1496453 ,  7.595714  ,  7.2643847 ,  4.143888  ,\n",
              "         2.7303684 ,  1.6602217 ,  2.0952911 ,  2.8947754 ,  2.7753994 ,\n",
              "         3.5785544 ,  4.0588946 ,  3.231999  ,  3.5107944 ,  3.881668  ,\n",
              "         6.496299  ,  9.492665  , 10.702898  , 10.490132  ,  9.163642  ,\n",
              "        11.674748  ,  7.1482697 ,  4.684522  ,  4.5952387 ,  2.651426  ,\n",
              "         3.0744019 ,  3.3515866 ,  3.5583606 ,  5.468493  ,  5.23584   ,\n",
              "         6.8221807 ,  6.6195483 ,  9.504064  , 11.448486  ,  9.537944  ,\n",
              "        10.136634  , 11.355257  , 16.145258  , 16.262705  , 13.105162  ,\n",
              "        12.319183  , 14.06689   , 17.41318   , 22.43297   , 20.08943   ,\n",
              "        18.843744  , 15.0865345 , 15.864561  , 17.370794  , 14.690438  ,\n",
              "        15.2117815 ,  8.48674   ,  3.081885  ,  3.9295633 ,  6.0324597 ,\n",
              "         4.8137054 ,  6.458285  ,  7.3150983 , 11.679908  ,  9.89296   ,\n",
              "         9.489199  ,  9.481173  , 10.048148  , 11.146598  , 11.0377655 ,\n",
              "        14.1497345 , 11.312356  , 10.364214  , 12.157475  , 11.788508  ,\n",
              "         8.489324  ,  7.0475245 ,  6.4774346 ,  6.34804   ,  6.299724  ,\n",
              "         7.0013537 ,  8.2845745 ,  6.5923157 ,  3.9504547 ,  1.822682  ,\n",
              "         1.7227151 ,  3.3569183 ,  1.7753798 ,  2.640433  ,  2.8653324 ,\n",
              "         2.9031894 ,  2.5727496 ,  3.2761993 ,  1.5589294 ,  3.354298  ,\n",
              "         5.201183  ,  4.7839856 ,  7.875013  ,  9.292836  , 11.048665  ,\n",
              "        11.128616  , 10.573698  ,  8.217994  ,  7.7986035 ,  3.727927  ,\n",
              "         2.1232321 ,  3.3106384 ,  4.381302  ,  4.0238976 ,  3.7092044 ,\n",
              "         2.1163962 ,  1.8936201 ,  2.3201315 ,  1.1693944 ,  0.9757516 ,\n",
              "         1.2811977 ,  1.3289511 ,  2.0611203 ,  0.8745248 ,  2.749647  ,\n",
              "         2.9550586 ,  1.854296  ,  2.6737628 ,  2.9293234 ,  3.7476764 ,\n",
              "         4.569251  ,  5.4779053 ,  7.3625183 ,  7.5029755 ,  8.135817  ,\n",
              "         7.5078974 ,  5.9584327 ,  4.1706214 ,  2.7135074 ,  2.4551327 ,\n",
              "         2.2009647 ,  3.1113303 ,  3.7622616 ,  3.592403  ,  2.5616608 ,\n",
              "         2.548767  ,  3.7708347 ,  4.3294897 ,  4.7858253 ,  4.649776  ,\n",
              "         3.6764133 ,  2.769359  ,  2.6693616 ,  1.9906747 ,  1.9419229 ,\n",
              "         3.0553415 ,  2.4253561 ,  2.6298785 ,  2.3780103 ,  2.270682  ,\n",
              "         2.2291064 ,  2.4602618 ,  2.7890995 ,  3.2438464 ,  2.596841  ,\n",
              "         2.485212  ,  2.983189  ,  3.9907575 ,  4.310218  ,  6.1669574 ,\n",
              "         9.272905  , 13.481277  , 16.00102   , 15.64694   , 16.360437  ,\n",
              "        17.257214  , 17.075006  , 13.725786  , 12.162927  , 10.903312  ,\n",
              "        10.718606  , 11.463362  ,  9.85951   ,  9.853856  ,  9.644464  ,\n",
              "         8.405995  ,  6.604248  ,  5.0837946 ,  4.455863  ,  5.5169983 ,\n",
              "         8.226316  , 10.328532  , 11.825906  , 12.384297  , 11.356208  ,\n",
              "        10.331655  ,  5.926612  ,  3.6730282 ,  4.0287127 ,  3.1727862 ,\n",
              "         3.2806876 ,  1.2807857 ,  1.656904  ,  1.2437025 ,  1.6498326 ,\n",
              "         1.8129643 ,  2.315931  ,  3.032922  ,  2.1879687 ,  2.605739  ,\n",
              "         2.0839038 ,  2.0605142 ,  2.0960715 ,  1.8935045 ,  3.097242  ,\n",
              "         2.1023624 ,  1.4637495 ,  1.897134  ,  1.4316843 ,  2.0978    ,\n",
              "         2.0270538 ,  1.1789507 ,  1.5084642 ,  1.8356192 ,  1.6956177 ,\n",
              "         1.9937897 ,  1.3054243 ,  1.9863913 ,  4.8364587 ,  6.610818  ,\n",
              "         8.666639  ,  9.147234  , 11.601722  , 12.903139  , 11.206467  ,\n",
              "         5.7262597 ,  3.0195901 ,  3.3197021 ,  3.0093057 ,  3.9428952 ,\n",
              "         4.0004663 ,  4.263532  ,  5.2151794 ,  5.5866175 ,  4.154748  ,\n",
              "         3.6513278 ,  4.22804   ,  7.7530737 ,  8.153773  ,  3.7401254 ,\n",
              "         2.3521054 ,  2.5124576 ,  3.7926242 ,  3.3744442 ,  4.2006226 ,\n",
              "         6.3785424 ,  8.385729  ,  9.237335  ,  6.687696  ,  4.763578  ,\n",
              "         4.590027  ,  2.1698368 ,  2.7434561 ,  3.3530905 ,  3.0300229 ,\n",
              "         3.6987653 ,  5.393123  ,  5.001153  ,  3.6369498 ,  2.8508759 ,\n",
              "         2.421426  ,  2.7180154 ,  3.296112  ,  3.0251923 ,  2.4343    ,\n",
              "         2.8041708 ,  4.4951324 ,  6.386562  ,  4.541447  ,  4.657303  ,\n",
              "         5.409524  ,  5.7536035 ,  6.0077143 ,  4.3342614 ,  3.1090329 ,\n",
              "         3.5503998 ,  4.379471  ,  5.1605005 ,  4.5583844 ,  3.6576495 ,\n",
              "         4.8410754 ,  4.3603973 ,  4.555919  ,  5.9939814 ,  6.9649634 ,\n",
              "         7.8983197 ,  7.3989935 ,  8.684714  ,  8.055537  ,  4.4625463 ,\n",
              "         2.8175485 ,  3.0584934 ,  4.094173  ,  3.7082782 ,  2.6006076 ,\n",
              "         1.9463109 ,  2.924177  ,  2.797215  ,  2.9002686 ,  3.8602207 ,\n",
              "         3.5735736 ,  4.70622   ,  4.023433  ,  2.858198  ,  4.1116595 ,\n",
              "         4.6773114 ,  4.836291  ,  4.215293  ,  3.0178223 ,  2.3302264 ,\n",
              "         3.2430115 ,  4.994106  ,  4.3489337 ,  5.067701  ,  5.1367755 ,\n",
              "         6.097931  ,  7.802486  ,  6.7308393 ,  5.1770806 ,  4.375741  ,\n",
              "         4.8385663 ,  5.2756524 ,  7.5876727 ,  9.247994  ,  8.860613  ,\n",
              "         6.638336  ,  7.2929296 ,  8.840393  ,  8.613098  ,  8.576935  ,\n",
              "         9.207311  ,  8.82823   ,  8.375554  ,  8.958125  ,  6.7314324 ,\n",
              "         6.5751734 ,  2.413522  ,  2.616115  ,  2.960214  ,  1.6377738 ,\n",
              "         3.422468  ,  3.7930646 ,  4.865753  ,  7.681379  ,  7.9008355 ,\n",
              "         5.6680255 ,  6.1794    ,  5.3732214 ,  5.1462183 ,  4.564754  ,\n",
              "         1.9256679 ,  3.6347134 ,  4.0781074 ,  2.550341  ,  3.4378488 ,\n",
              "         4.135755  ,  4.4524665 ,  9.163304  , 14.338026  , 19.292837  ,\n",
              "        26.87953   , 36.171085  ], dtype=float32),\n",
              " 'mse': array([1.60859814e+01, 5.04671860e+00, 5.56935120e+00, 7.12877369e+00,\n",
              "        5.62547541e+00, 4.94864798e+00, 8.00057125e+00, 1.62492294e+01,\n",
              "        2.43968086e+01, 5.62794876e+01, 1.13680000e+02, 1.05820724e+02,\n",
              "        1.20075783e+02, 1.42574127e+02, 1.46094955e+02, 1.09933289e+02,\n",
              "        7.11705322e+01, 2.81789112e+01, 2.16653652e+01, 1.05351868e+01,\n",
              "        4.87514782e+00, 3.59334517e+00, 6.82839632e+00, 1.27650862e+01,\n",
              "        5.47368097e+00, 5.19639206e+00, 6.20562410e+00, 1.10399113e+01,\n",
              "        9.06939220e+00, 1.97946167e+01, 3.01703491e+01, 6.03865471e+01,\n",
              "        8.34791031e+01, 1.24753471e+02, 1.79521393e+02, 1.71295654e+02,\n",
              "        1.25352211e+02, 4.38052101e+01, 3.74206467e+01, 5.15743332e+01,\n",
              "        8.91458511e+01, 1.68042969e+02, 2.41690323e+02, 3.07474792e+02,\n",
              "        2.94550262e+02, 2.09668915e+02, 8.14528580e+01, 4.28635521e+01,\n",
              "        1.76819019e+01, 2.03650141e+00, 7.03821421e+00, 1.63802528e+01,\n",
              "        2.04627323e+01, 1.83618183e+01, 1.02153549e+01, 1.04319906e+01,\n",
              "        1.94984984e+00, 4.39333391e+00, 1.16002214e+00, 4.28574038e+00,\n",
              "        7.62187862e+00, 5.66182613e+00, 3.42805648e+00, 6.88065338e+00,\n",
              "        5.90061903e+00, 3.36348009e+00, 3.35691381e+00, 7.00561190e+00,\n",
              "        2.11034966e+01, 2.24457531e+01, 3.42914238e+01, 3.91294823e+01,\n",
              "        6.50817184e+01, 5.60993729e+01, 8.62429276e+01, 7.78900375e+01,\n",
              "        7.00708237e+01, 4.07773628e+01, 3.06508121e+01, 2.03246193e+01,\n",
              "        1.65818996e+01, 7.05785275e+00, 4.39389801e+00, 2.73278046e+00,\n",
              "        4.20050478e+00, 2.86178946e+00, 4.42389011e+00, 6.74847937e+00,\n",
              "        7.79743958e+00, 5.12715912e+00, 2.74101377e+00, 1.99310315e+00,\n",
              "        9.75774348e-01, 1.97112978e+00, 1.71445155e+00, 2.14161015e+00,\n",
              "        3.55622315e+00, 4.10899353e+00, 5.21834564e+00, 7.17962551e+00,\n",
              "        1.39623976e+01, 3.49067383e+01, 5.47698059e+01, 8.09670639e+01,\n",
              "        9.19369965e+01, 1.43748871e+02, 1.74016647e+02, 1.24204063e+02,\n",
              "        5.43320961e+01, 2.26681271e+01, 4.45062876e+00, 3.34660912e+00,\n",
              "        1.56283674e+01, 1.60133247e+01, 1.48702002e+01, 1.14280996e+01,\n",
              "        8.51993370e+00, 8.43190765e+00, 7.43991804e+00, 9.09814358e+00,\n",
              "        1.11544590e+01, 1.57567453e+01, 2.86494446e+01, 3.93626404e+01,\n",
              "        3.75541039e+01, 2.14005604e+01, 2.15562267e+01, 1.69579315e+01,\n",
              "        1.51549921e+01, 2.54030800e+01, 3.40004234e+01, 3.84166260e+01,\n",
              "        5.23204880e+01, 5.32469368e+01, 3.88074646e+01, 5.72680473e+01,\n",
              "        5.21185608e+01, 6.34729271e+01, 5.49335213e+01, 1.91792278e+01,\n",
              "        9.34092808e+00, 3.23145413e+00, 6.02890015e+00, 1.08757915e+01,\n",
              "        1.28513765e+01, 1.61340313e+01, 2.04888191e+01, 1.37505407e+01,\n",
              "        1.40279608e+01, 2.66008091e+01, 6.44513016e+01, 1.13313789e+02,\n",
              "        1.38922287e+02, 1.28442673e+02, 1.05039047e+02, 1.42089981e+02,\n",
              "        6.43182297e+01, 2.45262547e+01, 2.70621986e+01, 1.33879747e+01,\n",
              "        1.66626415e+01, 1.66944065e+01, 2.57231770e+01, 4.15719719e+01,\n",
              "        3.64642525e+01, 6.08110886e+01, 7.21470337e+01, 1.39011093e+02,\n",
              "        1.80634735e+02, 1.31358414e+02, 1.23891823e+02, 1.41741562e+02,\n",
              "        2.85886963e+02, 3.15579590e+02, 2.62017395e+02, 2.34948349e+02,\n",
              "        2.78369446e+02, 3.37203552e+02, 5.46773315e+02, 4.67573517e+02,\n",
              "        4.36603516e+02, 3.06589905e+02, 3.21066803e+02, 3.29047791e+02,\n",
              "        2.28280838e+02, 2.43245285e+02, 8.32363358e+01, 1.16232595e+01,\n",
              "        1.97767963e+01, 4.31407890e+01, 3.86595459e+01, 6.00168343e+01,\n",
              "        7.32632370e+01, 1.47021164e+02, 1.13793991e+02, 1.09914627e+02,\n",
              "        1.03768730e+02, 1.18507957e+02, 1.42368820e+02, 1.72240768e+02,\n",
              "        2.66518738e+02, 1.85811676e+02, 1.45082977e+02, 1.66461395e+02,\n",
              "        1.52389267e+02, 8.19577789e+01, 1.02438530e+02, 6.06597290e+01,\n",
              "        7.46605453e+01, 5.83607826e+01, 7.17242050e+01, 8.65352020e+01,\n",
              "        5.68457718e+01, 1.99295006e+01, 4.54521799e+00, 4.60793781e+00,\n",
              "        1.32548084e+01, 5.39401245e+00, 9.14289665e+00, 1.06014605e+01,\n",
              "        1.29415922e+01, 9.20874786e+00, 1.18291082e+01, 3.36563754e+00,\n",
              "        2.11474133e+01, 3.71354027e+01, 3.41655960e+01, 8.47886810e+01,\n",
              "        1.25040077e+02, 1.46813583e+02, 1.44640823e+02, 1.29922104e+02,\n",
              "        8.20734482e+01, 6.73429413e+01, 1.94745483e+01, 1.08406744e+01,\n",
              "        1.30323486e+01, 2.12477074e+01, 1.92508125e+01, 1.64677067e+01,\n",
              "        5.83016062e+00, 5.55777740e+00, 6.21254206e+00, 2.26086998e+00,\n",
              "        1.23477423e+00, 2.25348997e+00, 2.84515572e+00, 5.08965397e+00,\n",
              "        1.35344708e+00, 8.93674660e+00, 1.12565155e+01, 5.47123861e+00,\n",
              "        9.96656513e+00, 1.22351542e+01, 1.64252911e+01, 2.46841602e+01,\n",
              "        3.62199097e+01, 6.18580971e+01, 6.35578232e+01, 8.38606949e+01,\n",
              "        6.77593460e+01, 4.12554893e+01, 2.31104565e+01, 1.59471836e+01,\n",
              "        1.33953733e+01, 9.01169300e+00, 1.42002058e+01, 1.79780884e+01,\n",
              "        1.69801121e+01, 8.11824703e+00, 9.48333263e+00, 2.16121387e+01,\n",
              "        2.50553112e+01, 2.81367455e+01, 2.56688442e+01, 1.66745148e+01,\n",
              "        8.91751575e+00, 8.62729263e+00, 8.27188301e+00, 5.65881348e+00,\n",
              "        1.25219431e+01, 8.21104431e+00, 8.78134346e+00, 6.74252224e+00,\n",
              "        7.23694372e+00, 7.97107220e+00, 8.03735352e+00, 1.03402081e+01,\n",
              "        1.55919905e+01, 9.70171833e+00, 1.11100235e+01, 1.49207449e+01,\n",
              "        2.16991558e+01, 2.25972576e+01, 5.37088051e+01, 1.39970276e+02,\n",
              "        2.48864548e+02, 3.08889191e+02, 2.93271912e+02, 2.99141266e+02,\n",
              "        3.18541992e+02, 3.01362030e+02, 2.10343704e+02, 1.81751144e+02,\n",
              "        1.46736603e+02, 1.40022751e+02, 1.56077744e+02, 1.19008919e+02,\n",
              "        1.09345497e+02, 1.04375404e+02, 7.73218307e+01, 5.04420853e+01,\n",
              "        3.59271469e+01, 2.55782986e+01, 4.16440773e+01, 8.57543106e+01,\n",
              "        1.30412231e+02, 1.59621948e+02, 1.62566055e+02, 1.34343750e+02,\n",
              "        1.17256607e+02, 4.40874443e+01, 2.15557995e+01, 2.18429222e+01,\n",
              "        1.53034821e+01, 1.39276600e+01, 2.78442717e+00, 3.04267001e+00,\n",
              "        1.99917376e+00, 3.95199966e+00, 5.39154291e+00, 8.11572361e+00,\n",
              "        1.04467678e+01, 9.20153809e+00, 9.10210419e+00, 6.22008228e+00,\n",
              "        6.75098515e+00, 6.25012970e+00, 5.62594175e+00, 1.15319996e+01,\n",
              "        6.14732504e+00, 2.66924310e+00, 6.34191036e+00, 2.79273772e+00,\n",
              "        7.74243069e+00, 6.15310144e+00, 2.14385676e+00, 4.22726536e+00,\n",
              "        4.58287764e+00, 4.26372671e+00, 6.77994013e+00, 2.68267131e+00,\n",
              "        8.21399879e+00, 5.34862747e+01, 8.37314301e+01, 1.16758430e+02,\n",
              "        1.11376381e+02, 1.61988556e+02, 1.76360672e+02, 1.43615067e+02,\n",
              "        3.71396370e+01, 1.34883785e+01, 1.69412842e+01, 1.67336750e+01,\n",
              "        2.10829811e+01, 2.35535870e+01, 2.11688271e+01, 3.67823296e+01,\n",
              "        3.82799721e+01, 1.99626045e+01, 1.48667231e+01, 3.04548759e+01,\n",
              "        6.77650375e+01, 7.19375763e+01, 1.75119438e+01, 9.58811474e+00,\n",
              "        9.38067436e+00, 1.80874748e+01, 1.78590984e+01, 3.24347916e+01,\n",
              "        6.17888603e+01, 8.07789078e+01, 9.29094086e+01, 5.58212700e+01,\n",
              "        2.96872406e+01, 2.66043415e+01, 5.81688070e+00, 9.50810528e+00,\n",
              "        1.66706181e+01, 1.20151587e+01, 1.93713245e+01, 3.26414375e+01,\n",
              "        3.32917976e+01, 1.87904797e+01, 1.22841024e+01, 6.73989725e+00,\n",
              "        1.05394621e+01, 1.17665730e+01, 1.20549469e+01, 7.28750658e+00,\n",
              "        1.09442062e+01, 2.84361706e+01, 5.07592163e+01, 3.44539909e+01,\n",
              "        3.30003586e+01, 3.66511230e+01, 3.76173325e+01, 4.08138924e+01,\n",
              "        2.70416718e+01, 1.75662498e+01, 2.04305420e+01, 2.72954311e+01,\n",
              "        4.02790604e+01, 3.19809628e+01, 1.84445133e+01, 3.21201134e+01,\n",
              "        3.49626808e+01, 4.05444221e+01, 5.27492485e+01, 5.92373390e+01,\n",
              "        7.24368134e+01, 6.10445824e+01, 7.93688965e+01, 7.14663544e+01,\n",
              "        2.83618889e+01, 9.93717861e+00, 1.19892807e+01, 2.06785889e+01,\n",
              "        1.71234837e+01, 7.64185333e+00, 4.75941372e+00, 1.41468897e+01,\n",
              "        1.32440319e+01, 1.36662664e+01, 1.94750023e+01, 1.73992424e+01,\n",
              "        2.53280468e+01, 3.01569424e+01, 1.58807669e+01, 2.71838169e+01,\n",
              "        3.23995476e+01, 3.51267357e+01, 2.46436405e+01, 1.42857733e+01,\n",
              "        9.59633064e+00, 1.53770704e+01, 3.75377541e+01, 3.46052399e+01,\n",
              "        3.75747261e+01, 3.59053574e+01, 5.04228096e+01, 6.68919220e+01,\n",
              "        5.02598839e+01, 4.19698067e+01, 3.91977615e+01, 3.08727283e+01,\n",
              "        3.78221169e+01, 7.88229523e+01, 1.02750122e+02, 9.26954575e+01,\n",
              "        6.51891937e+01, 6.31091881e+01, 1.02689659e+02, 9.34465790e+01,\n",
              "        1.16321419e+02, 1.18167671e+02, 1.02899940e+02, 8.30169067e+01,\n",
              "        9.25365143e+01, 5.54275589e+01, 4.95609550e+01, 1.11758404e+01,\n",
              "        9.69441700e+00, 1.47743053e+01, 8.17000389e+00, 2.81815948e+01,\n",
              "        1.96049843e+01, 5.33916893e+01, 9.16219482e+01, 9.07336426e+01,\n",
              "        5.03179855e+01, 5.60237846e+01, 5.84908981e+01, 4.89189110e+01,\n",
              "        3.69051781e+01, 7.07967997e+00, 1.83628712e+01, 2.36400604e+01,\n",
              "        8.62852764e+00, 1.67058716e+01, 3.00363026e+01, 3.89674072e+01,\n",
              "        1.66196091e+02, 3.99575409e+02, 6.16895569e+02, 1.05876038e+03,\n",
              "        1.57258203e+03], dtype=float32),\n",
              " 'rmse': array([ 4.010733  ,  2.2464902 ,  2.3599472 ,  2.6699762 ,  2.3718085 ,\n",
              "         2.2245555 ,  2.8285282 ,  4.031033  ,  4.9393125 ,  7.5019655 ,\n",
              "        10.662083  , 10.28692   , 10.95791   , 11.94044   , 12.086974  ,\n",
              "        10.484908  ,  8.436263  ,  5.308381  ,  4.654607  ,  3.2457952 ,\n",
              "         2.2079737 ,  1.8956121 ,  2.61312   ,  3.572826  ,  2.3395898 ,\n",
              "         2.2795596 ,  2.491109  ,  3.3226361 ,  3.011543  ,  4.449114  ,\n",
              "         5.492754  ,  7.7708783 ,  9.13669   , 11.16931   , 13.39856   ,\n",
              "        13.0879965 , 11.19608   ,  6.6185503 ,  6.117242  ,  7.181527  ,\n",
              "         9.441708  , 12.963139  , 15.546392  , 17.53496   , 17.162466  ,\n",
              "        14.479949  ,  9.025124  ,  6.547026  ,  4.2049856 ,  1.4270604 ,\n",
              "         2.6529632 ,  4.0472527 ,  4.5235753 ,  4.285069  ,  3.196147  ,\n",
              "         3.229859  ,  1.3963702 ,  2.096028  ,  1.0770432 ,  2.0702028 ,\n",
              "         2.760775  ,  2.3794591 ,  1.8515011 ,  2.6230998 ,  2.4291189 ,\n",
              "         1.8339792 ,  1.8321882 ,  2.6468115 ,  4.593854  ,  4.7376947 ,\n",
              "         5.855888  ,  6.2553563 ,  8.067324  ,  7.489951  ,  9.286707  ,\n",
              "         8.825533  ,  8.3708315 ,  6.3857155 ,  5.5363173 ,  4.508283  ,\n",
              "         4.072088  ,  2.656662  ,  2.0961626 ,  1.6531123 ,  2.0495133 ,\n",
              "         1.6916825 ,  2.1033046 ,  2.5977836 ,  2.7923896 ,  2.264323  ,\n",
              "         1.6556008 ,  1.4117731 ,  0.98781294,  1.4039693 ,  1.3093706 ,\n",
              "         1.4634241 ,  1.8857951 ,  2.0270653 ,  2.28437   ,  2.6794822 ,\n",
              "         3.7366292 ,  5.9081926 ,  7.4006624 ,  8.99817   ,  9.588378  ,\n",
              "        11.989532  , 13.191537  , 11.144688  ,  7.371031  ,  4.7611055 ,\n",
              "         2.1096513 ,  1.829374  ,  3.9532728 ,  4.001665  ,  3.8561897 ,\n",
              "         3.3805473 ,  2.9188924 ,  2.9037747 ,  2.7276213 ,  3.0163128 ,\n",
              "         3.3398292 ,  3.9694767 ,  5.3525176 ,  6.2739654 ,  6.1281404 ,\n",
              "         4.626074  ,  4.642868  ,  4.118001  ,  3.8929412 ,  5.040147  ,\n",
              "         5.830988  ,  6.198115  ,  7.23329   ,  7.29705   ,  6.2295637 ,\n",
              "         7.5675654 ,  7.2193184 ,  7.9669895 ,  7.411715  ,  4.3794093 ,\n",
              "         3.0562932 ,  1.7976246 ,  2.4553819 ,  3.2978466 ,  3.5848815 ,\n",
              "         4.016719  ,  4.526458  ,  3.708172  ,  3.7453918 ,  5.157597  ,\n",
              "         8.028156  , 10.644895  , 11.78653   , 11.333255  , 10.248856  ,\n",
              "        11.92015   ,  8.019864  ,  4.952399  ,  5.202134  ,  3.6589582 ,\n",
              "         4.08199   ,  4.085879  ,  5.071802  ,  6.447633  ,  6.0385637 ,\n",
              "         7.7981462 ,  8.49394   , 11.790297  , 13.440042  , 11.46117   ,\n",
              "        11.130671  , 11.905527  , 16.908192  , 17.764559  , 16.18695   ,\n",
              "        15.328025  , 16.684406  , 18.363102  , 23.383184  , 21.623447  ,\n",
              "        20.89506   , 17.509708  , 17.918337  , 18.139673  , 15.108965  ,\n",
              "        15.596323  ,  9.123395  ,  3.40929   ,  4.4471107 ,  6.568165  ,\n",
              "         6.21768   ,  7.747053  ,  8.559395  , 12.125228  , 10.667427  ,\n",
              "        10.484017  , 10.186694  , 10.886136  , 11.93184   , 13.124053  ,\n",
              "        16.325401  , 13.631276  , 12.045039  , 12.901992  , 12.3446045 ,\n",
              "         9.053053  , 10.121192  ,  7.7884355 ,  8.640634  ,  7.639423  ,\n",
              "         8.469014  ,  9.30243   ,  7.5396137 ,  4.4642467 ,  2.1319516 ,\n",
              "         2.1466107 ,  3.6407154 ,  2.3225012 ,  3.0237222 ,  3.2559884 ,\n",
              "         3.5974424 ,  3.034592  ,  3.439347  ,  1.8345674 ,  4.5986314 ,\n",
              "         6.093882  ,  5.8451343 ,  9.2080765 , 11.182132  , 12.116665  ,\n",
              "        12.026671  , 11.398338  ,  9.05944   ,  8.206274  ,  4.4129977 ,\n",
              "         3.292518  ,  3.6100345 ,  4.609524  ,  4.3875747 ,  4.058042  ,\n",
              "         2.4145725 ,  2.3574939 ,  2.4924972 ,  1.503619  ,  1.1112039 ,\n",
              "         1.5011629 ,  1.6867589 ,  2.256026  ,  1.1633774 ,  2.9894392 ,\n",
              "         3.355073  ,  2.339068  ,  3.1569867 ,  3.4978786 ,  4.0528126 ,\n",
              "         4.9683156 ,  6.0182977 ,  7.8649917 ,  7.972316  ,  9.157549  ,\n",
              "         8.2316065 ,  6.4230437 ,  4.8073335 ,  3.9933925 ,  3.6599689 ,\n",
              "         3.001948  ,  3.768316  ,  4.2400575 ,  4.120693  ,  2.849254  ,\n",
              "         3.079502  ,  4.6488857 ,  5.005528  ,  5.304408  ,  5.066443  ,\n",
              "         4.083444  ,  2.9862208 ,  2.9372253 ,  2.8760881 ,  2.378826  ,\n",
              "         3.5386357 ,  2.8654919 ,  2.9633331 ,  2.5966368 ,  2.6901567 ,\n",
              "         2.8233087 ,  2.8350227 ,  3.2156193 ,  3.9486694 ,  3.114758  ,\n",
              "         3.3331702 ,  3.862738  ,  4.658235  ,  4.7536573 ,  7.328629  ,\n",
              "        11.830903  , 15.775441  , 17.575243  , 17.125183  , 17.2957    ,\n",
              "        17.847744  , 17.359781  , 14.503231  , 13.481511  , 12.113488  ,\n",
              "        11.83312   , 12.493108  , 10.909121  , 10.45684   , 10.216428  ,\n",
              "         8.793283  ,  7.102259  ,  5.993926  ,  5.057499  ,  6.4532223 ,\n",
              "         9.260363  , 11.419817  , 12.634158  , 12.750139  , 11.590674  ,\n",
              "        10.828508  ,  6.6398377 ,  4.6428223 ,  4.673641  ,  3.9119666 ,\n",
              "         3.731978  ,  1.6686603 ,  1.744325  ,  1.4139215 ,  1.9879637 ,\n",
              "         2.3219695 ,  2.848811  ,  3.232146  ,  3.0334036 ,  3.0169694 ,\n",
              "         2.4940093 ,  2.5982656 ,  2.500026  ,  2.3719068 ,  3.3958797 ,\n",
              "         2.47938   ,  1.6337818 ,  2.518315  ,  1.6711487 ,  2.7825224 ,\n",
              "         2.4805446 ,  1.4641916 ,  2.0560315 ,  2.1407657 ,  2.0648792 ,\n",
              "         2.6038318 ,  1.6378862 ,  2.8660076 ,  7.3134313 ,  9.150488  ,\n",
              "        10.805481  , 10.553501  , 12.727472  , 13.280086  , 11.983951  ,\n",
              "         6.0942297 ,  3.6726527 ,  4.115979  ,  4.0906816 ,  4.5916204 ,\n",
              "         4.853204  ,  4.6009593 ,  6.0648437 ,  6.187081  ,  4.467953  ,\n",
              "         3.8557389 ,  5.518594  ,  8.231953  ,  8.481602  ,  4.184727  ,\n",
              "         3.0964682 ,  3.0627885 ,  4.2529373 ,  4.2260027 ,  5.695155  ,\n",
              "         7.860589  ,  8.987709  ,  9.638952  ,  7.471363  ,  5.4486    ,\n",
              "         5.1579394 ,  2.411821  ,  3.0835216 ,  4.082967  ,  3.4662888 ,\n",
              "         4.4012866 ,  5.7132683 ,  5.7699046 ,  4.3347983 ,  3.5048683 ,\n",
              "         2.596131  ,  3.2464538 ,  3.4302437 ,  3.4720235 ,  2.6995382 ,\n",
              "         3.308203  ,  5.3325577 ,  7.1245503 ,  5.8697524 ,  5.7445936 ,\n",
              "         6.054017  ,  6.133297  ,  6.388575  ,  5.2001605 ,  4.1912107 ,\n",
              "         4.5200157 ,  5.224503  ,  6.3465786 ,  5.6551714 ,  4.2947073 ,\n",
              "         5.667461  ,  5.912925  ,  6.36745   ,  7.262868  ,  7.6965795 ,\n",
              "         8.510982  ,  7.813103  ,  8.908922  ,  8.453777  ,  5.325588  ,\n",
              "         3.152329  ,  3.462554  ,  4.5473714 ,  4.138053  ,  2.7643902 ,\n",
              "         2.181608  ,  3.761235  ,  3.639235  ,  3.6967914 ,  4.413049  ,\n",
              "         4.17124   ,  5.0326977 ,  5.4915338 ,  3.9850678 ,  5.21381   ,\n",
              "         5.69206   ,  5.926781  ,  4.9642363 ,  3.7796526 ,  3.0977945 ,\n",
              "         3.9213607 ,  6.1268063 ,  5.882622  ,  6.1298227 ,  5.992108  ,\n",
              "         7.100902  ,  8.178748  ,  7.0894203 ,  6.4784107 ,  6.2608113 ,\n",
              "         5.556323  ,  6.149969  ,  8.878229  , 10.136574  ,  9.627848  ,\n",
              "         8.073982  ,  7.944129  , 10.133591  ,  9.666777  , 10.78524   ,\n",
              "        10.870495  , 10.143961  ,  9.1113615 ,  9.61959   ,  7.4449687 ,\n",
              "         7.039954  ,  3.3430285 ,  3.113586  ,  3.8437357 ,  2.858322  ,\n",
              "         5.308634  ,  4.4277515 ,  7.3069615 ,  9.571936  ,  9.52542   ,\n",
              "         7.0935173 ,  7.484904  ,  7.6479344 ,  6.9942055 ,  6.074963  ,\n",
              "         2.6607668 ,  4.285192  ,  4.8621044 ,  2.9374356 ,  4.0872817 ,\n",
              "         5.4805384 ,  6.242388  , 12.891706  , 19.989382  , 24.837381  ,\n",
              "        32.538597  , 39.655792  ], dtype=float32),\n",
              " 'mape': array([ 2.0485353 ,  1.0177943 ,  1.1273788 ,  1.389433  ,  0.87570965,\n",
              "         1.0443563 ,  1.1539717 ,  1.8756499 ,  2.2342951 ,  3.3753867 ,\n",
              "         5.1468554 ,  5.555257  ,  6.056724  ,  6.703051  ,  6.905227  ,\n",
              "         5.971918  ,  4.8083467 ,  2.903042  ,  2.445637  ,  1.7143916 ,\n",
              "         1.1063861 ,  1.0094209 ,  1.2487824 ,  1.8400192 ,  0.9372436 ,\n",
              "         1.023741  ,  1.1599745 ,  1.576777  ,  1.3350343 ,  1.8593564 ,\n",
              "         2.7349963 ,  3.6173792 ,  4.534626  ,  6.0314493 ,  7.9364257 ,\n",
              "         7.951482  ,  6.7314363 ,  3.5244431 ,  3.1027796 ,  3.529466  ,\n",
              "         4.3092403 ,  6.218428  ,  8.053644  ,  9.258485  ,  8.912477  ,\n",
              "         7.6397076 ,  4.7812777 ,  3.3872123 ,  2.0631907 ,  0.5624887 ,\n",
              "         1.1997268 ,  1.9174492 ,  2.3693676 ,  2.1133683 ,  1.4178021 ,\n",
              "         1.4387904 ,  0.68130034,  1.0100907 ,  0.5223136 ,  0.98975664,\n",
              "         1.1718059 ,  0.99462366,  0.7867853 ,  1.0606556 ,  0.99176234,\n",
              "         0.79442775,  0.7924027 ,  1.1830151 ,  2.140911  ,  2.22476   ,\n",
              "         2.6989644 ,  2.984769  ,  4.0216827 ,  3.787436  ,  4.7636952 ,\n",
              "         4.619842  ,  4.4097495 ,  3.34531   ,  2.862085  ,  2.4011676 ,\n",
              "         2.0033326 ,  1.2795664 ,  0.8752745 ,  0.65784276,  0.8994525 ,\n",
              "         0.810496  ,  0.9185887 ,  1.2821932 ,  1.303575  ,  1.1115305 ,\n",
              "         0.77003366,  0.66346836,  0.37754902,  0.6562152 ,  0.5513078 ,\n",
              "         0.61219573,  0.7960045 ,  0.9045457 ,  0.9839805 ,  1.1997468 ,\n",
              "         1.6533352 ,  2.3399467 ,  3.0063639 ,  4.1001744 ,  4.3634744 ,\n",
              "         5.5219445 ,  6.2604055 ,  5.3329206 ,  3.372968  ,  2.080672  ,\n",
              "         0.8297117 ,  0.6249316 ,  1.3897815 ,  1.5048683 ,  1.6168239 ,\n",
              "         1.3104143 ,  1.1452125 ,  1.111422  ,  1.1613714 ,  1.0920262 ,\n",
              "         0.99022686,  1.4352188 ,  1.919269  ,  2.367309  ,  2.4798448 ,\n",
              "         1.873173  ,  1.7901001 ,  1.5813788 ,  1.498335  ,  1.785523  ,\n",
              "         2.4207456 ,  2.5092318 ,  2.856979  ,  2.9410636 ,  2.2479143 ,\n",
              "         3.0262122 ,  2.8145566 ,  3.4691975 ,  3.3164234 ,  1.8894026 ,\n",
              "         1.2429305 ,  0.7490485 ,  0.93725204,  1.2845438 ,  1.2147667 ,\n",
              "         1.5719855 ,  1.7774618 ,  1.414189  ,  1.5396879 ,  1.7377651 ,\n",
              "         2.958439  ,  4.318205  ,  4.892993  ,  4.7944775 ,  4.2017903 ,\n",
              "         5.357122  ,  3.283919  ,  2.1360946 ,  2.0998116 ,  1.2200052 ,\n",
              "         1.415228  ,  1.5443615 ,  1.6551176 ,  2.5427628 ,  2.4351294 ,\n",
              "         3.1723008 ,  3.1202068 ,  4.5625587 ,  5.5323043 ,  4.6177783 ,\n",
              "         4.887638  ,  5.5051107 ,  7.963199  ,  8.163593  ,  6.756095  ,\n",
              "         6.420932  ,  7.351499  ,  9.13048   , 12.00479   , 10.943584  ,\n",
              "        10.490394  ,  8.528299  ,  9.037449  ,  9.858632  ,  8.350522  ,\n",
              "         8.633055  ,  4.806022  ,  1.7275171 ,  2.188257  ,  3.4164522 ,\n",
              "         2.7944999 ,  3.7552524 ,  4.2971587 ,  6.854237  ,  5.8661313 ,\n",
              "         5.674159  ,  5.6715508 ,  6.070864  ,  6.8319297 ,  6.9857416 ,\n",
              "         9.165701  ,  7.382033  ,  6.778725  ,  7.9282465 ,  7.687994  ,\n",
              "         5.5394454 ,  4.7727876 ,  4.324311  ,  4.318931  ,  4.2559104 ,\n",
              "         4.7450857 ,  5.5922084 ,  4.464793  ,  2.628052  ,  1.2031521 ,\n",
              "         1.1258004 ,  2.1831183 ,  1.1584591 ,  1.7237855 ,  1.8685039 ,\n",
              "         1.8694093 ,  1.6505482 ,  2.1080837 ,  1.0066842 ,  2.1219106 ,\n",
              "         3.279366  ,  2.9362504 ,  4.7482815 ,  5.490766  ,  6.5013237 ,\n",
              "         6.5024433 ,  6.160083  ,  4.777727  ,  4.5314054 ,  2.163595  ,\n",
              "         1.2319999 ,  1.9438604 ,  2.5711954 ,  2.3612442 ,  2.1706626 ,\n",
              "         1.2364557 ,  1.1048971 ,  1.3504698 ,  0.67679137,  0.56312805,\n",
              "         0.73757905,  0.7616141 ,  1.18      ,  0.5017779 ,  1.5779978 ,\n",
              "         1.7019858 ,  1.066262  ,  1.5277196 ,  1.6723609 ,  2.1094573 ,\n",
              "         2.5299401 ,  2.9908886 ,  3.9852538 ,  4.036912  ,  4.3083277 ,\n",
              "         3.9559965 ,  3.1334307 ,  2.1874661 ,  1.4123944 ,  1.2770194 ,\n",
              "         1.147325  ,  1.651894  ,  1.9933345 ,  1.9003564 ,  1.3401039 ,\n",
              "         1.3089144 ,  1.9157048 ,  2.1896005 ,  2.4106016 ,  2.3376482 ,\n",
              "         1.84504   ,  1.3885154 ,  1.3368404 ,  0.9894022 ,  0.966713  ,\n",
              "         1.5290744 ,  1.2052717 ,  1.2842574 ,  1.1599531 ,  1.1034538 ,\n",
              "         1.0811046 ,  1.1991768 ,  1.3542354 ,  1.5870754 ,  1.2620375 ,\n",
              "         1.208349  ,  1.4599456 ,  1.9502361 ,  2.1020193 ,  3.0548322 ,\n",
              "         4.756094  ,  6.9767227 ,  8.317011  ,  8.193595  ,  8.607858  ,\n",
              "         9.17333   ,  9.116617  ,  7.368896  ,  6.6061406 ,  5.979844  ,\n",
              "         5.9256725 ,  6.3820353 ,  5.5125856 ,  5.5397453 ,  5.4626327 ,\n",
              "         4.7576785 ,  3.7361    ,  2.8747995 ,  2.4798367 ,  3.0259333 ,\n",
              "         4.372472  ,  5.409516  ,  6.1577106 ,  6.42841   ,  5.871513  ,\n",
              "         5.300096  ,  3.0239685 ,  1.8614054 ,  2.0358756 ,  1.5979793 ,\n",
              "         1.6569254 ,  0.6442184 ,  0.83569986,  0.62591386,  0.83284926,\n",
              "         0.914029  ,  1.1572108 ,  1.500702  ,  1.0758743 ,  1.2926093 ,\n",
              "         1.0288466 ,  1.0208836 ,  1.0374395 ,  0.93792856,  1.5321927 ,\n",
              "         1.0377295 ,  0.7186097 ,  0.9348373 ,  0.6991927 ,  1.0258762 ,\n",
              "         0.98844486,  0.57289606,  0.73364496,  0.88888174,  0.8122918 ,\n",
              "         0.9479867 ,  0.62360847,  0.9623312 ,  2.4178789 ,  3.3285017 ,\n",
              "         4.368009  ,  4.596946  ,  5.8371453 ,  6.488011  ,  5.6384964 ,\n",
              "         2.851186  ,  1.488322  ,  1.6188387 ,  1.4547492 ,  1.9074444 ,\n",
              "         1.9033445 ,  2.0359185 ,  2.4775891 ,  2.6614199 ,  1.984592  ,\n",
              "         1.762464  ,  2.0621135 ,  3.7653766 ,  3.9684625 ,  1.8113405 ,\n",
              "         1.1411977 ,  1.1968845 ,  1.7977903 ,  1.5794473 ,  1.9446869 ,\n",
              "         2.9065285 ,  3.8302891 ,  4.2079544 ,  3.0270298 ,  2.146063  ,\n",
              "         2.0661752 ,  0.9840034 ,  1.2501358 ,  1.5330242 ,  1.3821656 ,\n",
              "         1.6897957 ,  2.462326  ,  2.2876396 ,  1.6587523 ,  1.2977977 ,\n",
              "         1.0941793 ,  1.219003  ,  1.4783864 ,  1.3455532 ,  1.0882635 ,\n",
              "         1.2559996 ,  1.9544231 ,  2.7574923 ,  1.9371172 ,  1.9875225 ,\n",
              "         2.3019137 ,  2.4434004 ,  2.537588  ,  1.8215325 ,  1.2940681 ,\n",
              "         1.4696723 ,  1.8026402 ,  2.1038656 ,  1.854225  ,  1.4889358 ,\n",
              "         1.9626362 ,  1.7376493 ,  1.7963982 ,  2.3577878 ,  2.738217  ,\n",
              "         3.08411   ,  2.8719792 ,  3.3543668 ,  3.0999982 ,  1.7059554 ,\n",
              "         1.0758231 ,  1.1614724 ,  1.5494121 ,  1.3986295 ,  0.9818687 ,\n",
              "         0.73624915,  1.1127582 ,  1.0631189 ,  1.1032289 ,  1.4648571 ,\n",
              "         1.3559506 ,  1.7822722 ,  1.5356733 ,  1.0902936 ,  1.5670335 ,\n",
              "         1.7771472 ,  1.8400732 ,  1.6016221 ,  1.1458246 ,  0.87429446,\n",
              "         1.1937474 ,  1.8200612 ,  1.5682151 ,  1.8226581 ,  1.841012  ,\n",
              "         2.1807775 ,  2.7826586 ,  2.3902307 ,  1.8161075 ,  1.5206038 ,\n",
              "         1.682647  ,  1.8220792 ,  2.5847287 ,  3.1407099 ,  2.9908998 ,\n",
              "         2.224416  ,  2.4370294 ,  2.919486  ,  2.822862  ,  2.7662368 ,\n",
              "         2.9594963 ,  2.8286722 ,  2.6761856 ,  2.8461993 ,  2.1314182 ,\n",
              "         2.0783114 ,  0.7598362 ,  0.8246687 ,  0.9415184 ,  0.52439934,\n",
              "         1.0880907 ,  1.1976861 ,  1.5632564 ,  2.4683785 ,  2.5337884 ,\n",
              "         1.8012676 ,  1.9599335 ,  1.7205963 ,  1.6461005 ,  1.4464507 ,\n",
              "         0.5950654 ,  1.1214509 ,  1.2593538 ,  0.7922972 ,  1.0699396 ,\n",
              "         1.2896916 ,  1.4005374 ,  2.9683936 ,  4.7884154 ,  6.502844  ,\n",
              "         9.296082  , 12.644693  ], dtype=float32),\n",
              " 'mase': 2.1649694}"
            ]
          },
          "metadata": {},
          "execution_count": 86
        }
      ]
    },
    {
      "cell_type": "markdown",
      "metadata": {
        "id": "t405o940Twum"
      },
      "source": [
        "## Make our evaluation function work for larger horizons\n",
        "\n",
        "The outputs for `model_3_results` are multi-dimensional. \n",
        "This is because the predictions are getting evaluated across `HORIZON` timesteps (7 predictions at a time).\n",
        "To fix this, let's adjust  `evaluate_preds()` function to work with multiple shapes of data."
      ]
    },
    {
      "cell_type": "code",
      "metadata": {
        "id": "ERkl26UFgSbz"
      },
      "source": [
        "def evaluate_preds(y_true, y_pred):\n",
        "  # Make sure float32 (for metric calculations)\n",
        "  y_true = tf.cast(y_true, dtype=tf.float32)\n",
        "  y_pred = tf.cast(y_pred, dtype=tf.float32)\n",
        "\n",
        "  # Calculate various metrics\n",
        "  mae = tf.keras.metrics.mean_absolute_error(y_true, y_pred)\n",
        "  mse = tf.keras.metrics.mean_squared_error(y_true, y_pred)\n",
        "  rmse = tf.sqrt(mse)\n",
        "  mape = tf.keras.metrics.mean_absolute_percentage_error(y_true, y_pred)\n",
        "  mase = mean_absolute_scaled_error(y_true, y_pred)\n",
        "\n",
        "  # Account for different sized metrics (for longer horizons, reduce to single number)\n",
        "  if mae.ndim > 0: # if mae isn't already a scalar, reduce it to one by aggregating tensors to mean\n",
        "    mae = tf.reduce_mean(mae)\n",
        "    mse = tf.reduce_mean(mse)\n",
        "    rmse = tf.reduce_mean(rmse)\n",
        "    mape = tf.reduce_mean(mape)\n",
        "    mase = tf.reduce_mean(mase)\n",
        "\n",
        "  return {\"mae\": mae.numpy(),\n",
        "          \"mse\": mse.numpy(),\n",
        "          \"rmse\": rmse.numpy(),\n",
        "          \"mape\": mape.numpy(),\n",
        "          \"mase\": mase.numpy()}"
      ],
      "execution_count": 87,
      "outputs": []
    },
    {
      "cell_type": "markdown",
      "metadata": {
        "id": "_RnoZl28Udx4"
      },
      "source": [
        "Now we've updated `evaluate_preds()` to work with multiple shapes, how does it look?"
      ]
    },
    {
      "cell_type": "code",
      "metadata": {
        "colab": {
          "base_uri": "https://localhost:8080/"
        },
        "id": "Kt1Z8yjpUij2",
        "outputId": "3371ed26-c4c5-4418-89b6-e5b8c30fca43"
      },
      "source": [
        "# Get model_3 results aggregated to single values\n",
        "model_3_results = evaluate_preds(y_true=tf.squeeze(test_labels),\n",
        "                                 y_pred=model_3_preds)\n",
        "model_3_results"
      ],
      "execution_count": 88,
      "outputs": [
        {
          "output_type": "execute_result",
          "data": {
            "text/plain": [
              "{'mae': 5.6377068,\n",
              " 'mse': 62.53017,\n",
              " 'rmse': 6.4343796,\n",
              " 'mape': 2.806351,\n",
              " 'mase': 2.1649694}"
            ]
          },
          "metadata": {},
          "execution_count": 88
        }
      ]
    },
    {
      "cell_type": "code",
      "metadata": {
        "colab": {
          "base_uri": "https://localhost:8080/",
          "height": 445
        },
        "id": "gBdg1NcLs3gW",
        "outputId": "87a68b11-b7f5-477c-de58-c99075271616"
      },
      "source": [
        "offset = 300\n",
        "plt.figure(figsize=(10, 7))\n",
        "plot_time_series(timesteps=X_test[-len(test_windows):], values=test_labels[:, 0], start=offset, label=\"Test_data\")\n",
        "# Checking the shape of model_3_preds results in [n_test_samples, HORIZON] (this will screw up the plot)\n",
        "plot_time_series(timesteps=X_test[-len(test_windows):], values=model_3_preds, start=offset, label=\"model_3_preds\")"
      ],
      "execution_count": 89,
      "outputs": [
        {
          "output_type": "display_data",
          "data": {
            "text/plain": [
              "<Figure size 720x504 with 1 Axes>"
            ],
            "image/png": "[encoded data removed]"
          },
          "metadata": {
            "needs_background": "light"
          }
        }
      ]
    },
    {
      "cell_type": "markdown",
      "metadata": {
        "id": "j3nZnSG1Uute"
      },
      "source": [
        "When we try to plot our multi-horizon predicts, we get a weird looking plot! We can fix this by aggregating our model's predictions. Aggregating the predictions (e.g. reducing a 7-day horizon to one value such as the mean) loses information from the original prediction. As in, the model predictions were trained to be made for 7-days but by reducing them to one, we gain the ability to plot them visually but we lose the extra information contained across multiple days."
      ]
    },
    {
      "cell_type": "code",
      "metadata": {
        "colab": {
          "base_uri": "https://localhost:8080/",
          "height": 442
        },
        "id": "wYpZb27bU6OO",
        "outputId": "e9fea429-f512-4781-ef24-edbda43ac07c"
      },
      "source": [
        "offset = 300\n",
        "plt.figure(figsize=(10, 7))\n",
        "# Plot model_3_preds by aggregating them (note: this condenses information so the preds will look fruther ahead than the test data)\n",
        "plot_time_series(timesteps=X_test[-len(test_windows):], \n",
        "                 values=test_labels[:, 0], \n",
        "                 start=offset, \n",
        "                 label=\"Test_data\")\n",
        "plot_time_series(timesteps=X_test[-len(test_windows):], \n",
        "                 values=tf.reduce_mean(model_3_preds, axis=1), \n",
        "                 format=\"-\",\n",
        "                 start=offset, \n",
        "                 label=\"model_3_preds\")"
      ],
      "execution_count": 91,
      "outputs": [
        {
          "output_type": "display_data",
          "data": {
            "text/plain": [
              "<Figure size 720x504 with 1 Axes>"
            ],
            "image/png": "[encoded data removed]"
          },
          "metadata": {
            "needs_background": "light"
          }
        }
      ]
    },
    {
      "cell_type": "markdown",
      "metadata": {
        "id": "Ojqon-Y5VpCC"
      },
      "source": [
        "## Which of our models is performing best so far?\n",
        "\n",
        "So far, we've trained 3 models which use the same architecture but use different data inputs.\n",
        "\n",
        "Let's compare them with the naïve model to see which model is performing the best so far."
      ]
    },
    {
      "cell_type": "code",
      "metadata": {
        "colab": {
          "base_uri": "https://localhost:8080/",
          "height": 440
        },
        "id": "QA4EKseAVrYf",
        "outputId": "4f82b9f5-6edc-4a19-8074-4bbb69947479"
      },
      "source": [
        "pd.DataFrame({\"naive\": naive_results[\"mae\"], \n",
        "              \"horizon_1_window_7\": model_1_results[\"mae\"], \n",
        "              \"horizon_1_window_30\": model_2_results[\"mae\"], \n",
        "              \"horizon_7_window_30\": model_3_results[\"mae\"]}, index=[\"mae\"]).plot(figsize=(10, 7), kind=\"bar\");"
      ],
      "execution_count": 92,
      "outputs": [
        {
          "output_type": "display_data",
          "data": {
            "text/plain": [
              "<Figure size 720x504 with 1 Axes>"
            ],
            "image/png": "[encoded data removed]"
          },
          "metadata": {
            "needs_background": "light"
          }
        }
      ]
    },
    {
      "cell_type": "markdown",
      "metadata": {
        "id": "dIRwia9BWeI5"
      },
      "source": [
        "Our naïve model is performing best, but the dense model with a horizon of 1 and a window size of 7 looks to be performing cloest.\n",
        "Because of this, I'll use `HORIZON=1` and `WINDOW_SIZE=7` for our next series of modelling experiments."
      ]
    },
    {
      "cell_type": "markdown",
      "metadata": {
        "id": "pZ2s0Rx0rZjE"
      },
      "source": [
        "## Model 4: RNN (LSTM)\n",
        "\n",
        "The [`tf.keras.layers.LSTM()`] layer takes a tensor with `[batch, timesteps, feature]` dimensions.\n",
        "\n"
      ]
    },
    {
      "cell_type": "code",
      "metadata": {
        "id": "a6YFL_b-rZrt",
        "colab": {
          "base_uri": "https://localhost:8080/"
        },
        "outputId": "06c332ff-d2fd-47f3-95fb-e711e830a81b"
      },
      "source": [
        "tf.random.set_seed(42)\n",
        "inputs = layers.Input(shape=(WINDOW_SIZE))\n",
        "x = layers.Lambda(lambda x: tf.expand_dims(x, axis=1))(inputs) \n",
        "x = layers.LSTM(128, activation=\"relu\")(x)\n",
        "\n",
        "output = layers.Dense(HORIZON)(x)\n",
        "model_4 = tf.keras.Model(inputs=inputs, outputs=output, name=\"model_4_lstm\")\n",
        "\n",
        "# Compile model\n",
        "model_4.compile(loss=\"mae\",\n",
        "                optimizer=tf.keras.optimizers.Adam())\n",
        "\n",
        "model_4.fit(train_windows,\n",
        "            train_labels,\n",
        "            epochs=100,\n",
        "            verbose=0,\n",
        "            batch_size=128,\n",
        "            validation_data=(test_windows, test_labels),\n",
        "            callbacks=[create_model_checkpoint(model_name=model_4.name)])"
      ],
      "execution_count": 94,
      "outputs": [
        {
          "output_type": "stream",
          "name": "stderr",
          "text": [
            "WARNING:tensorflow:Layer lstm_1 will not use cuDNN kernels since it doesn't meet the criteria. It will use a generic GPU kernel as fallback when running on GPU.\n"
          ]
        },
        {
          "output_type": "execute_result",
          "data": {
            "text/plain": [
              "<keras.callbacks.History at 0x7fed4e508690>"
            ]
          },
          "metadata": {},
          "execution_count": 94
        }
      ]
    },
    {
      "cell_type": "code",
      "metadata": {
        "colab": {
          "base_uri": "https://localhost:8080/"
        },
        "id": "cOpHqmEtSsNw",
        "outputId": "9a59a451-a46c-4616-f4ee-f8935b4a0409"
      },
      "source": [
        "# Load in best version of model 5 and evaluate on the test data\n",
        "model_4 = tf.keras.models.load_model(\"model_experiments/model_5_lstm/\")\n",
        "model_4.evaluate(test_windows, test_labels)"
      ],
      "execution_count": 95,
      "outputs": [
        {
          "output_type": "stream",
          "name": "stderr",
          "text": [
            "WARNING:tensorflow:Layer lstm will not use cuDNN kernels since it doesn't meet the criteria. It will use a generic GPU kernel as fallback when running on GPU.\n"
          ]
        },
        {
          "output_type": "stream",
          "name": "stdout",
          "text": [
            "16/16 [==============================] - 0s 3ms/step - loss: 7.4053\n"
          ]
        },
        {
          "output_type": "execute_result",
          "data": {
            "text/plain": [
              "7.405345439910889"
            ]
          },
          "metadata": {},
          "execution_count": 95
        }
      ]
    },
    {
      "cell_type": "code",
      "metadata": {
        "colab": {
          "base_uri": "https://localhost:8080/"
        },
        "id": "yfG11v_51UWa",
        "outputId": "d0f7380f-04d6-42ef-af85-e639e8df784d"
      },
      "source": [
        "# Make predictions with our LSTM model\n",
        "model_4_preds = make_preds(model_4, test_windows)\n",
        "model_4_preds[:10]"
      ],
      "execution_count": 96,
      "outputs": [
        {
          "output_type": "stream",
          "name": "stdout",
          "text": [
            "16/16 [==============================] - 0s 2ms/step\n"
          ]
        },
        {
          "output_type": "execute_result",
          "data": {
            "text/plain": [
              "<tf.Tensor: shape=(10, 7), dtype=float32, numpy=\n",
              "array([[172.27596, 173.08914, 173.45114, 173.23813, 171.08801, 174.67621,\n",
              "        173.29048],\n",
              "       [173.37721, 174.4051 , 174.27559, 173.68211, 170.99493, 174.27971,\n",
              "        174.3721 ],\n",
              "       [175.06929, 175.3698 , 175.25534, 174.55115, 171.72414, 175.51799,\n",
              "        176.46227],\n",
              "       [175.51927, 176.28812, 175.59583, 175.36462, 172.0358 , 175.92409,\n",
              "        177.64484],\n",
              "       [175.63033, 176.19217, 175.87616, 175.4592 , 173.08667, 176.47653,\n",
              "        177.68654],\n",
              "       [175.86598, 175.55319, 176.15877, 175.19934, 173.80853, 176.66577,\n",
              "        178.02798],\n",
              "       [176.56676, 175.55437, 176.26245, 174.9812 , 174.20547, 177.25304,\n",
              "        179.2471 ],\n",
              "       [176.476  , 177.54825, 176.78163, 177.03021, 174.56119, 177.57964,\n",
              "        180.55983],\n",
              "       [177.3744 , 177.73877, 177.99696, 178.0065 , 176.41782, 178.84846,\n",
              "        181.83632],\n",
              "       [178.00662, 177.37045, 179.08438, 178.22813, 178.23512, 180.42891,\n",
              "        182.18633]], dtype=float32)>"
            ]
          },
          "metadata": {},
          "execution_count": 96
        }
      ]
    },
    {
      "cell_type": "code",
      "metadata": {
        "colab": {
          "base_uri": "https://localhost:8080/"
        },
        "id": "sVv5Kg5N1axK",
        "outputId": "3d3ff759-6ad6-44ca-e65a-4ef6bae49fbf"
      },
      "source": [
        "model_4_results = evaluate_preds(y_true=tf.squeeze(test_labels),\n",
        "                                 y_pred=model_4_preds)\n",
        "model_4_results"
      ],
      "execution_count": 97,
      "outputs": [
        {
          "output_type": "execute_result",
          "data": {
            "text/plain": [
              "{'mae': 7.405346,\n",
              " 'mse': 91.23734,\n",
              " 'rmse': 8.116722,\n",
              " 'mape': 3.6299407,\n",
              " 'mase': 2.8437712}"
            ]
          },
          "metadata": {},
          "execution_count": 97
        }
      ]
    },
    {
      "cell_type": "markdown",
      "metadata": {
        "id": "TPkzQccU-dtR"
      },
      "source": [
        "## Model 5: N-BEATS algorithm\n",
        "\n",
        "So far we've tried a bunch of smaller models, models with only a couple of layers. But one of the best ways to improve a model's performance is to increase the number of layers in it.\n",
        "That's exactly what the [N-BEATS (Neural Basis Expansion Analysis for Interpretable Time Series Forecasting) algorithm](https://arxiv.org/pdf/1905.10437.pdf) does.\n",
        "\n",
        "For our next modelling experiment we're going to be replicating the **generic architecture** of the N-BEATS algorithm (see [section 3.3 of the N-BEATS paper](https://arxiv.org/pdf/1905.10437.pdf)).\n",
        "\n",
        "I'll primarily focus on:\n",
        "1. Replicating the model architecture in [Figure 1 of the N-BEATS paper](https://arxiv.org/pdf/1905.10437.pdf) \n",
        "\n",
        "![figure 1 from N-BBEATS paper, the algorithm we're going to build](https://raw.githubusercontent.com/mrdbourke/tensorflow-deep-learning/main/images/10-figure-1-nbeats-paper-annotated.png)\n",
        "\n",
        "2. Using the same hyperparameters as the paper which can be found in [Appendix D of the N-BEATS paper](https://arxiv.org/pdf/1905.10437.pdf)\n",
        "\n"
      ]
    },
    {
      "cell_type": "markdown",
      "metadata": {
        "id": "Qukx3nigVsCg"
      },
      "source": [
        "### Building and testing an N-BEATS block layer"
      ]
    },
    {
      "cell_type": "code",
      "metadata": {
        "id": "llwhXCn9-hQt"
      },
      "source": [
        "# Create NBeatsBlock custom layer \n",
        "class NBeatsBlock(tf.keras.layers.Layer):\n",
        "  def __init__(self, # the constructor takes all the hyperparameters for the layer\n",
        "               input_size: int,\n",
        "               theta_size: int,\n",
        "               horizon: int,\n",
        "               n_neurons: int,\n",
        "               n_layers: int,\n",
        "               **kwargs): # the **kwargs argument takes care of all of the arguments for the parent class (input_shape, trainable, name)\n",
        "    super().__init__(**kwargs)\n",
        "    self.input_size = input_size\n",
        "    self.theta_size = theta_size\n",
        "    self.horizon = horizon\n",
        "    self.n_neurons = n_neurons\n",
        "    self.n_layers = n_layers\n",
        "\n",
        "    # Block contains stack of 4 fully connected layers each has ReLU activation\n",
        "    self.hidden = [tf.keras.layers.Dense(n_neurons, activation=\"relu\") for _ in range(n_layers)]\n",
        "    # Output of block is a theta layer with linear activation\n",
        "    self.theta_layer = tf.keras.layers.Dense(theta_size, activation=\"linear\", name=\"theta\")\n",
        "\n",
        "  def call(self, inputs): \n",
        "    x = inputs \n",
        "    for layer in self.hidden: # pass inputs through each hidden layer \n",
        "      x = layer(x)\n",
        "    theta = self.theta_layer(x) \n",
        "    # Output the backcast and forecast from theta\n",
        "    backcast, forecast = theta[:, :self.input_size], theta[:, -self.horizon:]\n",
        "    return backcast, forecast"
      ],
      "execution_count": 98,
      "outputs": []
    },
    {
      "cell_type": "markdown",
      "metadata": {
        "id": "ReXvsaxCKmOF"
      },
      "source": [
        "\n",
        "* The class inherits from `tf.keras.layers.Layer` (this gives it all of the methods assosciated with `tf.keras.layers.Layer`)\n",
        "* The constructor (`def __init__(...)`) takes all of the layer hyperparameters as well as the `**kwargs` argument\n",
        "  * The `**kwargs` argument takes care of all of the hyperparameters which aren't mentioned in the constructor such as, `input_shape`, `trainable` and `name`\n",
        "* In the constructor, the block architecture layers are created:\n",
        "  * The hidden layers are created as a stack of fully connected with `n_nuerons` hidden units layers with ReLU activation\n",
        "  * The theta layer uses `theta_size` hidden units as well as linear activation\n",
        "* The `call()` method is run when the layer is called:\n",
        "  * It first passes the inputs through each of the hidden layers (a stack of fully connected layers with ReLU activation)\n",
        "  * After the inputs have been through each of the fully connected layers, they get passed through the theta layer where the backcast (backwards predictions, shape: `input_size`) and forecast (forward predictions, shape: `horizon`) are returned\n",
        "\n",
        "![code mapping to image of N-BEATS basic block](https://raw.githubusercontent.com/mrdbourke/tensorflow-deep-learning/main/images/10-nbeats-basic-block-replication-with-tensorflow-layer-subclassing.png)\n"
      ]
    },
    {
      "cell_type": "markdown",
      "metadata": {
        "id": "QRl9Vi32WFLM"
      },
      "source": [
        "### Preparing data for the N-BEATS algorithm using `tf.data`\n",
        "\n"
      ]
    },
    {
      "cell_type": "code",
      "metadata": {
        "id": "s2IMhORJV3gg"
      },
      "source": [
        "HORIZON = 1 # how far to predict forward\n",
        "WINDOW_SIZE = 7 # how far to lookback"
      ],
      "execution_count": 99,
      "outputs": []
    },
    {
      "cell_type": "code",
      "metadata": {
        "colab": {
          "base_uri": "https://localhost:8080/",
          "height": 237
        },
        "id": "WsUh9T2uvpA1",
        "outputId": "fc66a33a-118e-4f20-af2c-d235a64b279e"
      },
      "source": [
        "# Create NBEATS data inputs \n",
        "data.head()"
      ],
      "execution_count": 100,
      "outputs": [
        {
          "output_type": "execute_result",
          "data": {
            "text/plain": [
              "              Close\n",
              "Date               \n",
              "2010-03-01  29.8557\n",
              "2010-03-02  29.8357\n",
              "2010-03-03  29.9043\n",
              "2010-03-04  30.1014\n",
              "2010-03-05  31.2786"
            ],
            "text/html": [
              "\n",
              "  <div id=\"df-f5c3e6e2-79eb-43f6-86b5-48c806dab76e\">\n",
              "    <div class=\"colab-df-container\">\n",
              "      <div>\n",
              "<style scoped>\n",
              "    .dataframe tbody tr th:only-of-type {\n",
              "        vertical-align: middle;\n",
              "    }\n",
              "\n",
              "    .dataframe tbody tr th {\n",
              "        vertical-align: top;\n",
              "    }\n",
              "\n",
              "    .dataframe thead th {\n",
              "        text-align: right;\n",
              "    }\n",
              "</style>\n",
              "<table border=\"1\" class=\"dataframe\">\n",
              "  <thead>\n",
              "    <tr style=\"text-align: right;\">\n",
              "      <th></th>\n",
              "      <th>Close</th>\n",
              "    </tr>\n",
              "    <tr>\n",
              "      <th>Date</th>\n",
              "      <th></th>\n",
              "    </tr>\n",
              "  </thead>\n",
              "  <tbody>\n",
              "    <tr>\n",
              "      <th>2010-03-01</th>\n",
              "      <td>29.8557</td>\n",
              "    </tr>\n",
              "    <tr>\n",
              "      <th>2010-03-02</th>\n",
              "      <td>29.8357</td>\n",
              "    </tr>\n",
              "    <tr>\n",
              "      <th>2010-03-03</th>\n",
              "      <td>29.9043</td>\n",
              "    </tr>\n",
              "    <tr>\n",
              "      <th>2010-03-04</th>\n",
              "      <td>30.1014</td>\n",
              "    </tr>\n",
              "    <tr>\n",
              "      <th>2010-03-05</th>\n",
              "      <td>31.2786</td>\n",
              "    </tr>\n",
              "  </tbody>\n",
              "</table>\n",
              "</div>\n",
              "      <button class=\"colab-df-convert\" onclick=\"convertToInteractive('df-f5c3e6e2-79eb-43f6-86b5-48c806dab76e')\"\n",
              "              title=\"Convert this dataframe to an interactive table.\"\n",
              "              style=\"display:none;\">\n",
              "        \n",
              "  <svg xmlns=\"http://www.w3.org/2000/svg\" height=\"24px\"viewBox=\"0 0 24 24\"\n",
              "       width=\"24px\">\n",
              "    <path d=\"M0 0h24v24H0V0z\" fill=\"none\"/>\n",
              "    <path d=\"M18.56 5.44l.94 2.06.94-2.06 2.06-.94-2.06-.94-.94-2.06-.94 2.06-2.06.94zm-11 1L8.5 8.5l.94-2.06 2.06-.94-2.06-.94L8.5 2.5l-.94 2.06-2.06.94zm10 10l.94 2.06.94-2.06 2.06-.94-2.06-.94-.94-2.06-.94 2.06-2.06.94z\"/><path d=\"M17.41 7.96l-1.37-1.37c-.4-.4-.92-.59-1.43-.59-.52 0-1.04.2-1.43.59L10.3 9.45l-7.72 7.72c-.78.78-.78 2.05 0 2.83L4 21.41c.39.39.9.59 1.41.59.51 0 1.02-.2 1.41-.59l7.78-7.78 2.81-2.81c.8-.78.8-2.07 0-2.86zM5.41 20L4 18.59l7.72-7.72 1.47 1.35L5.41 20z\"/>\n",
              "  </svg>\n",
              "      </button>\n",
              "      \n",
              "  <style>\n",
              "    .colab-df-container {\n",
              "      display:flex;\n",
              "      flex-wrap:wrap;\n",
              "      gap: 12px;\n",
              "    }\n",
              "\n",
              "    .colab-df-convert {\n",
              "      background-color: #E8F0FE;\n",
              "      border: none;\n",
              "      border-radius: 50%;\n",
              "      cursor: pointer;\n",
              "      display: none;\n",
              "      fill: #1967D2;\n",
              "      height: 32px;\n",
              "      padding: 0 0 0 0;\n",
              "      width: 32px;\n",
              "    }\n",
              "\n",
              "    .colab-df-convert:hover {\n",
              "      background-color: #E2EBFA;\n",
              "      box-shadow: 0px 1px 2px rgba(60, 64, 67, 0.3), 0px 1px 3px 1px rgba(60, 64, 67, 0.15);\n",
              "      fill: #174EA6;\n",
              "    }\n",
              "\n",
              "    [theme=dark] .colab-df-convert {\n",
              "      background-color: #3B4455;\n",
              "      fill: #D2E3FC;\n",
              "    }\n",
              "\n",
              "    [theme=dark] .colab-df-convert:hover {\n",
              "      background-color: #434B5C;\n",
              "      box-shadow: 0px 1px 3px 1px rgba(0, 0, 0, 0.15);\n",
              "      filter: drop-shadow(0px 1px 2px rgba(0, 0, 0, 0.3));\n",
              "      fill: #FFFFFF;\n",
              "    }\n",
              "  </style>\n",
              "\n",
              "      <script>\n",
              "        const buttonEl =\n",
              "          document.querySelector('#df-f5c3e6e2-79eb-43f6-86b5-48c806dab76e button.colab-df-convert');\n",
              "        buttonEl.style.display =\n",
              "          google.colab.kernel.accessAllowed ? 'block' : 'none';\n",
              "\n",
              "        async function convertToInteractive(key) {\n",
              "          const element = document.querySelector('#df-f5c3e6e2-79eb-43f6-86b5-48c806dab76e');\n",
              "          const dataTable =\n",
              "            await google.colab.kernel.invokeFunction('convertToInteractive',\n",
              "                                                     [key], {});\n",
              "          if (!dataTable) return;\n",
              "\n",
              "          const docLinkHtml = 'Like what you see? Visit the ' +\n",
              "            '<a target=\"_blank\" href=https://colab.research.google.com/notebooks/data_table.ipynb>data table notebook</a>'\n",
              "            + ' to learn more about interactive tables.';\n",
              "          element.innerHTML = '';\n",
              "          dataTable['output_type'] = 'display_data';\n",
              "          await google.colab.output.renderOutput(dataTable, element);\n",
              "          const docLink = document.createElement('div');\n",
              "          docLink.innerHTML = docLinkHtml;\n",
              "          element.appendChild(docLink);\n",
              "        }\n",
              "      </script>\n",
              "    </div>\n",
              "  </div>\n",
              "  "
            ]
          },
          "metadata": {},
          "execution_count": 100
        }
      ]
    },
    {
      "cell_type": "code",
      "metadata": {
        "colab": {
          "base_uri": "https://localhost:8080/",
          "height": 237
        },
        "id": "iqAnqJvVvsgb",
        "outputId": "dc1b07c1-511c-4932-af2c-47671027d04d"
      },
      "source": [
        "# Add windowed columns\n",
        "data_nbeats = data.copy()\n",
        "for i in range(WINDOW_SIZE):\n",
        "  data_nbeats[f\"Close+{i+1}\"] = data_nbeats[\"Close\"].shift(periods=i+1)\n",
        "data_nbeats.dropna().head()"
      ],
      "execution_count": 102,
      "outputs": [
        {
          "output_type": "execute_result",
          "data": {
            "text/plain": [
              "              Close  Close+1  Close+2  Close+3  Close+4  Close+5  Close+6  \\\n",
              "Date                                                                        \n",
              "2010-03-10  32.1200  31.8600  31.2971  31.2786  30.1014  29.9043  29.8357   \n",
              "2010-03-11  32.2143  32.1200  31.8600  31.2971  31.2786  30.1014  29.9043   \n",
              "2010-03-12  32.3714  32.2143  32.1200  31.8600  31.2971  31.2786  30.1014   \n",
              "2010-03-15  31.9771  32.3714  32.2143  32.1200  31.8600  31.2971  31.2786   \n",
              "2010-03-16  32.0643  31.9771  32.3714  32.2143  32.1200  31.8600  31.2971   \n",
              "\n",
              "            Close+7  \n",
              "Date                 \n",
              "2010-03-10  29.8557  \n",
              "2010-03-11  29.8357  \n",
              "2010-03-12  29.9043  \n",
              "2010-03-15  30.1014  \n",
              "2010-03-16  31.2786  "
            ],
            "text/html": [
              "\n",
              "  <div id=\"df-1c6b0794-5d69-412e-a3c8-abb4a7a776d4\">\n",
              "    <div class=\"colab-df-container\">\n",
              "      <div>\n",
              "<style scoped>\n",
              "    .dataframe tbody tr th:only-of-type {\n",
              "        vertical-align: middle;\n",
              "    }\n",
              "\n",
              "    .dataframe tbody tr th {\n",
              "        vertical-align: top;\n",
              "    }\n",
              "\n",
              "    .dataframe thead th {\n",
              "        text-align: right;\n",
              "    }\n",
              "</style>\n",
              "<table border=\"1\" class=\"dataframe\">\n",
              "  <thead>\n",
              "    <tr style=\"text-align: right;\">\n",
              "      <th></th>\n",
              "      <th>Close</th>\n",
              "      <th>Close+1</th>\n",
              "      <th>Close+2</th>\n",
              "      <th>Close+3</th>\n",
              "      <th>Close+4</th>\n",
              "      <th>Close+5</th>\n",
              "      <th>Close+6</th>\n",
              "      <th>Close+7</th>\n",
              "    </tr>\n",
              "    <tr>\n",
              "      <th>Date</th>\n",
              "      <th></th>\n",
              "      <th></th>\n",
              "      <th></th>\n",
              "      <th></th>\n",
              "      <th></th>\n",
              "      <th></th>\n",
              "      <th></th>\n",
              "      <th></th>\n",
              "    </tr>\n",
              "  </thead>\n",
              "  <tbody>\n",
              "    <tr>\n",
              "      <th>2010-03-10</th>\n",
              "      <td>32.1200</td>\n",
              "      <td>31.8600</td>\n",
              "      <td>31.2971</td>\n",
              "      <td>31.2786</td>\n",
              "      <td>30.1014</td>\n",
              "      <td>29.9043</td>\n",
              "      <td>29.8357</td>\n",
              "      <td>29.8557</td>\n",
              "    </tr>\n",
              "    <tr>\n",
              "      <th>2010-03-11</th>\n",
              "      <td>32.2143</td>\n",
              "      <td>32.1200</td>\n",
              "      <td>31.8600</td>\n",
              "      <td>31.2971</td>\n",
              "      <td>31.2786</td>\n",
              "      <td>30.1014</td>\n",
              "      <td>29.9043</td>\n",
              "      <td>29.8357</td>\n",
              "    </tr>\n",
              "    <tr>\n",
              "      <th>2010-03-12</th>\n",
              "      <td>32.3714</td>\n",
              "      <td>32.2143</td>\n",
              "      <td>32.1200</td>\n",
              "      <td>31.8600</td>\n",
              "      <td>31.2971</td>\n",
              "      <td>31.2786</td>\n",
              "      <td>30.1014</td>\n",
              "      <td>29.9043</td>\n",
              "    </tr>\n",
              "    <tr>\n",
              "      <th>2010-03-15</th>\n",
              "      <td>31.9771</td>\n",
              "      <td>32.3714</td>\n",
              "      <td>32.2143</td>\n",
              "      <td>32.1200</td>\n",
              "      <td>31.8600</td>\n",
              "      <td>31.2971</td>\n",
              "      <td>31.2786</td>\n",
              "      <td>30.1014</td>\n",
              "    </tr>\n",
              "    <tr>\n",
              "      <th>2010-03-16</th>\n",
              "      <td>32.0643</td>\n",
              "      <td>31.9771</td>\n",
              "      <td>32.3714</td>\n",
              "      <td>32.2143</td>\n",
              "      <td>32.1200</td>\n",
              "      <td>31.8600</td>\n",
              "      <td>31.2971</td>\n",
              "      <td>31.2786</td>\n",
              "    </tr>\n",
              "  </tbody>\n",
              "</table>\n",
              "</div>\n",
              "      <button class=\"colab-df-convert\" onclick=\"convertToInteractive('df-1c6b0794-5d69-412e-a3c8-abb4a7a776d4')\"\n",
              "              title=\"Convert this dataframe to an interactive table.\"\n",
              "              style=\"display:none;\">\n",
              "        \n",
              "  <svg xmlns=\"http://www.w3.org/2000/svg\" height=\"24px\"viewBox=\"0 0 24 24\"\n",
              "       width=\"24px\">\n",
              "    <path d=\"M0 0h24v24H0V0z\" fill=\"none\"/>\n",
              "    <path d=\"M18.56 5.44l.94 2.06.94-2.06 2.06-.94-2.06-.94-.94-2.06-.94 2.06-2.06.94zm-11 1L8.5 8.5l.94-2.06 2.06-.94-2.06-.94L8.5 2.5l-.94 2.06-2.06.94zm10 10l.94 2.06.94-2.06 2.06-.94-2.06-.94-.94-2.06-.94 2.06-2.06.94z\"/><path d=\"M17.41 7.96l-1.37-1.37c-.4-.4-.92-.59-1.43-.59-.52 0-1.04.2-1.43.59L10.3 9.45l-7.72 7.72c-.78.78-.78 2.05 0 2.83L4 21.41c.39.39.9.59 1.41.59.51 0 1.02-.2 1.41-.59l7.78-7.78 2.81-2.81c.8-.78.8-2.07 0-2.86zM5.41 20L4 18.59l7.72-7.72 1.47 1.35L5.41 20z\"/>\n",
              "  </svg>\n",
              "      </button>\n",
              "      \n",
              "  <style>\n",
              "    .colab-df-container {\n",
              "      display:flex;\n",
              "      flex-wrap:wrap;\n",
              "      gap: 12px;\n",
              "    }\n",
              "\n",
              "    .colab-df-convert {\n",
              "      background-color: #E8F0FE;\n",
              "      border: none;\n",
              "      border-radius: 50%;\n",
              "      cursor: pointer;\n",
              "      display: none;\n",
              "      fill: #1967D2;\n",
              "      height: 32px;\n",
              "      padding: 0 0 0 0;\n",
              "      width: 32px;\n",
              "    }\n",
              "\n",
              "    .colab-df-convert:hover {\n",
              "      background-color: #E2EBFA;\n",
              "      box-shadow: 0px 1px 2px rgba(60, 64, 67, 0.3), 0px 1px 3px 1px rgba(60, 64, 67, 0.15);\n",
              "      fill: #174EA6;\n",
              "    }\n",
              "\n",
              "    [theme=dark] .colab-df-convert {\n",
              "      background-color: #3B4455;\n",
              "      fill: #D2E3FC;\n",
              "    }\n",
              "\n",
              "    [theme=dark] .colab-df-convert:hover {\n",
              "      background-color: #434B5C;\n",
              "      box-shadow: 0px 1px 3px 1px rgba(0, 0, 0, 0.15);\n",
              "      filter: drop-shadow(0px 1px 2px rgba(0, 0, 0, 0.3));\n",
              "      fill: #FFFFFF;\n",
              "    }\n",
              "  </style>\n",
              "\n",
              "      <script>\n",
              "        const buttonEl =\n",
              "          document.querySelector('#df-1c6b0794-5d69-412e-a3c8-abb4a7a776d4 button.colab-df-convert');\n",
              "        buttonEl.style.display =\n",
              "          google.colab.kernel.accessAllowed ? 'block' : 'none';\n",
              "\n",
              "        async function convertToInteractive(key) {\n",
              "          const element = document.querySelector('#df-1c6b0794-5d69-412e-a3c8-abb4a7a776d4');\n",
              "          const dataTable =\n",
              "            await google.colab.kernel.invokeFunction('convertToInteractive',\n",
              "                                                     [key], {});\n",
              "          if (!dataTable) return;\n",
              "\n",
              "          const docLinkHtml = 'Like what you see? Visit the ' +\n",
              "            '<a target=\"_blank\" href=https://colab.research.google.com/notebooks/data_table.ipynb>data table notebook</a>'\n",
              "            + ' to learn more about interactive tables.';\n",
              "          element.innerHTML = '';\n",
              "          dataTable['output_type'] = 'display_data';\n",
              "          await google.colab.output.renderOutput(dataTable, element);\n",
              "          const docLink = document.createElement('div');\n",
              "          docLink.innerHTML = docLinkHtml;\n",
              "          element.appendChild(docLink);\n",
              "        }\n",
              "      </script>\n",
              "    </div>\n",
              "  </div>\n",
              "  "
            ]
          },
          "metadata": {},
          "execution_count": 102
        }
      ]
    },
    {
      "cell_type": "code",
      "metadata": {
        "colab": {
          "base_uri": "https://localhost:8080/"
        },
        "id": "2tOweM-6wRBH",
        "outputId": "9ffbb917-f396-431d-d98b-370c6c525311"
      },
      "source": [
        "# Make features and labels\n",
        "X = data_nbeats.dropna().drop(\"Close\", axis=1)\n",
        "y = data_nbeats.dropna()[\"Close\"]\n",
        "\n",
        "# Make train and test sets\n",
        "split_size = int(len(X) * 0.8)\n",
        "X_train, y_train = X[:split_size], y[:split_size]\n",
        "X_test, y_test = X[split_size:], y[split_size:]\n",
        "len(X_train), len(y_train), len(X_test), len(y_test)"
      ],
      "execution_count": 103,
      "outputs": [
        {
          "output_type": "execute_result",
          "data": {
            "text/plain": [
              "(2008, 2008, 503, 503)"
            ]
          },
          "metadata": {},
          "execution_count": 103
        }
      ]
    },
    {
      "cell_type": "markdown",
      "metadata": {
        "id": "gihkBWc8YiIt"
      },
      "source": [
        "I'll convert the train and test sets into TensorFlow `tf.data.Dataset`'s to ensure they run as fast as possible whilst training.\n",
        "This can be done by:\n",
        "1. Turning the arrays in tensor Datasets using [`tf.data.Dataset.from_tensor_slices()`](https://www.tensorflow.org/api_docs/python/tf/data/Dataset#from_tensor_slices)\n",
        "2. Combine the labels and features tensors into a Dataset using [`tf.data.Dataset.zip()`](https://www.tensorflow.org/api_docs/python/tf/data/Dataset#zip)\n",
        "3. Batch and prefetch the Datasets using [`batch()`](https://www.tensorflow.org/api_docs/python/tf/data/Dataset#batch) and [`prefetch()`](https://www.tensorflow.org/api_docs/python/tf/data/Dataset#prefetch)"
      ]
    },
    {
      "cell_type": "code",
      "metadata": {
        "colab": {
          "base_uri": "https://localhost:8080/"
        },
        "id": "BxCwT-b1v6cw",
        "outputId": "729dc0bc-3c6c-4f67-cecc-b6087ac046dd"
      },
      "source": [
        "# 1. Turn train and test arrays into tensor Datasets\n",
        "train_features_dataset = tf.data.Dataset.from_tensor_slices(X_train)\n",
        "train_labels_dataset = tf.data.Dataset.from_tensor_slices(y_train)\n",
        "\n",
        "test_features_dataset = tf.data.Dataset.from_tensor_slices(X_test)\n",
        "test_labels_dataset = tf.data.Dataset.from_tensor_slices(y_test)\n",
        "\n",
        "# 2. Combine features & labels\n",
        "train_dataset = tf.data.Dataset.zip((train_features_dataset, train_labels_dataset))\n",
        "test_dataset = tf.data.Dataset.zip((test_features_dataset, test_labels_dataset))\n",
        "\n",
        "# 3. Batch and prefetch for optimal performance\n",
        "BATCH_SIZE = 1024 \n",
        "train_dataset = train_dataset.batch(BATCH_SIZE).prefetch(tf.data.AUTOTUNE)\n",
        "test_dataset = test_dataset.batch(BATCH_SIZE).prefetch(tf.data.AUTOTUNE)\n",
        "\n",
        "train_dataset, test_dataset"
      ],
      "execution_count": 106,
      "outputs": [
        {
          "output_type": "execute_result",
          "data": {
            "text/plain": [
              "(<PrefetchDataset element_spec=(TensorSpec(shape=(None, 7), dtype=tf.float64, name=None), TensorSpec(shape=(None,), dtype=tf.float64, name=None))>,\n",
              " <PrefetchDataset element_spec=(TensorSpec(shape=(None, 7), dtype=tf.float64, name=None), TensorSpec(shape=(None,), dtype=tf.float64, name=None))>)"
            ]
          },
          "metadata": {},
          "execution_count": 106
        }
      ]
    },
    {
      "cell_type": "markdown",
      "metadata": {
        "id": "aQSC8sjxYM1N"
      },
      "source": [
        "### Setting up hyperparameters for N-BEATS algorithm\n",
        "\n"
      ]
    },
    {
      "cell_type": "code",
      "metadata": {
        "colab": {
          "base_uri": "https://localhost:8080/"
        },
        "id": "wK9Ix_zOesPO",
        "outputId": "78ed0928-5c62-487f-982d-e2dc0f4ee088"
      },
      "source": [
        "# Values from N-BEATS paper Figure 1 and Table 18/Appendix D\n",
        "N_EPOCHS = 5000 # called \"Iterations\" in Table 18\n",
        "N_NEURONS = 512 # called \"Width\" in Table 18\n",
        "N_LAYERS = 4\n",
        "N_STACKS = 30\n",
        "\n",
        "INPUT_SIZE = WINDOW_SIZE * HORIZON # called \"Lookback\" in Table 18\n",
        "THETA_SIZE = INPUT_SIZE + HORIZON\n",
        "\n",
        "INPUT_SIZE, THETA_SIZE"
      ],
      "execution_count": 107,
      "outputs": [
        {
          "output_type": "execute_result",
          "data": {
            "text/plain": [
              "(7, 8)"
            ]
          },
          "metadata": {},
          "execution_count": 107
        }
      ]
    },
    {
      "cell_type": "markdown",
      "metadata": {
        "id": "4PuEm0xiMIdI"
      },
      "source": [
        "### Residual connections\n",
        "\n",
        "There are two layers to go through which play a large role in the architecture:\n",
        "\n",
        "They're what make N-BEATS **double residual stacking** (section 3.2 of the [N-BEATS paper](https://arxiv.org/pdf/1905.10437.pdf)) possible:\n",
        "* [`tf.keras.layers.subtract(inputs)`](https://www.tensorflow.org/api_docs/python/tf/keras/layers/subtract) - subtracts list of input tensors from each other\n",
        "* [`tf.keras.layers.add(inputs)`](https://www.tensorflow.org/api_docs/python/tf/keras/layers/add) - adds list of input tensors to each other\n"
      ]
    },
    {
      "cell_type": "markdown",
      "metadata": {
        "id": "5XXj9SLYOSVb"
      },
      "source": [
        "A **residual connection** (also called skip connections) involves a deeper neural network layer receiving the outputs as well as the inputs of a shallower neural network layer.\n",
        "\n",
        "In the case of N-BEATS, the architecture uses residual connections which:\n",
        "* Subtract the backcast outputs from a previous block from the backcast inputs to the current block\n",
        "* Add the forecast outputs from all blocks together in a stack \n",
        "\n",
        "![N-BEATS architecture double residual stacking](https://raw.githubusercontent.com/mrdbourke/tensorflow-deep-learning/main/images/10-nbeats-architecture-double-residual-stacking.png)\n",
        "*Annotated version of Figure 1 from the N-BEATS paper highlighting the double residual stacking (section 3.2) of the architecture. Backcast residuals of each block are subtracted from each other and used as the input to the next block where as the forecasts of each block are added together to become the stack forecast.*\n",
        "\n"
      ]
    },
    {
      "cell_type": "markdown",
      "metadata": {
        "id": "5_B4LTaqBL9v"
      },
      "source": [
        "### Building, compiling and fitting the N-BEATS algorithm \n",
        "\n",
        "1. Setup an instance of the N-BEATS block layer using `NBeatsBlock` (this'll be the initial block used for the network, the rest will be created as part of stacks)\n",
        "2. Create an input layer for the N-BEATS stack\n",
        "3. Make the initial backcast and forecasts for the model with the layer created in (1)\n",
        "4. Use a for loop to create stacks of block layers\n",
        "5. Use the NBeatsBlock class within the for loop created in (4) to create blocks which return backcasts and block-level forecasts\n",
        "6. Create the double residual stacking using subtract and add layers\n",
        "7. Put the model inputs and outputs together using [`tf.keras.Model()`](https://www.tensorflow.org/api_docs/python/tf/keras/Model)\n",
        "8. Compile the model with MAE loss (the paper uses multiple losses but we'll use MAE to keep it inline with our other models) and Adam optimizer with default settings as per section 5.2 of [N-BEATS paper](https://arxiv.org/pdf/1905.10437.pdf))\n",
        "9. Fit the N-BEATS model for 5000 epochs and since it's fitting for so many epochs, we'll use a couple of callbacks:\n",
        "  * [`tf.keras.callbacks.EarlyStopping()`](https://www.tensorflow.org/api_docs/python/tf/keras/callbacks/EarlyStopping) - stop the model from training if it doesn't improve validation loss for 200 epochs and restore the best performing weights using `restore_best_weights=True`\n",
        "  * [`tf.keras.callbacks.ReduceLROnPlateau()`](https://www.tensorflow.org/api_docs/python/tf/keras/callbacks/ReduceLROnPlateau) - if the model's validation loss doesn't improve for 100 epochs, reduce the learning rate by 10x to try and help it make incremental improvements "
      ]
    },
    {
      "cell_type": "code",
      "metadata": {
        "colab": {
          "base_uri": "https://localhost:8080/"
        },
        "id": "2U3-Wv94-hfQ",
        "outputId": "4dac01fc-e7c6-4fab-af93-7d1c4250a8e7"
      },
      "source": [
        " %%time\n",
        "\n",
        "tf.random.set_seed(42)\n",
        "\n",
        "# 1. Setup N-BEATS Block layer\n",
        "nbeats_block_layer = NBeatsBlock(input_size=INPUT_SIZE,\n",
        "                                 theta_size=THETA_SIZE,\n",
        "                                 horizon=HORIZON,\n",
        "                                 n_neurons=N_NEURONS,\n",
        "                                 n_layers=N_LAYERS,\n",
        "                                 name=\"InitialBlock\")\n",
        "\n",
        "# 2. Create input to stacks\n",
        "stack_input = layers.Input(shape=(INPUT_SIZE), name=\"stack_input\")\n",
        "\n",
        "# 3. Create initial backcast and forecast input (backwards predictions are referred to as residuals in the paper)\n",
        "backcast, forecast = nbeats_block_layer(stack_input)\n",
        "# Add in subtraction residual link\n",
        "residuals = layers.subtract([stack_input, backcast], name=f\"subtract_00\") \n",
        "\n",
        "# 4. Create stacks of blocks\n",
        "for i, _ in enumerate(range(N_STACKS-1)): # first stack is already creted in (3)\n",
        "\n",
        "  # 5. Use the NBeatsBlock to calculate the backcast as well as block forecast\n",
        "  backcast, block_forecast = NBeatsBlock(\n",
        "      input_size=INPUT_SIZE,\n",
        "      theta_size=THETA_SIZE,\n",
        "      horizon=HORIZON,\n",
        "      n_neurons=N_NEURONS,\n",
        "      n_layers=N_LAYERS,\n",
        "      name=f\"NBeatsBlock_{i}\"\n",
        "  )(residuals) # pass it in residuals (the backcast)\n",
        "\n",
        "  # 6. Create the double residual stacking\n",
        "  residuals = layers.subtract([residuals, backcast], name=f\"subtract_{i}\") \n",
        "  forecast = layers.add([forecast, block_forecast], name=f\"add_{i}\")\n",
        "\n",
        "# 7. Put the stack model together\n",
        "model_7 = tf.keras.Model(inputs=stack_input, \n",
        "                         outputs=forecast, \n",
        "                         name=\"model_7_N-BEATS\")\n",
        "\n",
        "# 8. Compile with MAE loss and Adam optimizer\n",
        "model_7.compile(loss=\"mae\",\n",
        "                optimizer=tf.keras.optimizers.Adam(0.001),\n",
        "                metrics=[\"mae\", \"mse\"])\n",
        "\n",
        "# 9. Fit the model with EarlyStopping and ReduceLROnPlateau callbacks\n",
        "model_7.fit(train_dataset,\n",
        "            epochs=N_EPOCHS,\n",
        "            validation_data=test_dataset,\n",
        "            verbose=0, # prevent large amounts of training outputs\n",
        "            # callbacks=[create_model_checkpoint(model_name=stack_model.name)] # saving model every epoch consumes far too much time\n",
        "            callbacks=[tf.keras.callbacks.EarlyStopping(monitor=\"val_loss\", patience=200, restore_best_weights=True),\n",
        "                      tf.keras.callbacks.ReduceLROnPlateau(monitor=\"val_loss\", patience=100, verbose=1)])"
      ],
      "execution_count": 108,
      "outputs": [
        {
          "output_type": "stream",
          "name": "stdout",
          "text": [
            "\n",
            "Epoch 293: ReduceLROnPlateau reducing learning rate to 0.00010000000474974513.\n",
            "\n",
            "Epoch 393: ReduceLROnPlateau reducing learning rate to 1.0000000474974514e-05.\n",
            "CPU times: user 1min 2s, sys: 1.87 s, total: 1min 4s\n",
            "Wall time: 1min 11s\n"
          ]
        },
        {
          "output_type": "execute_result",
          "data": {
            "text/plain": [
              "<keras.callbacks.History at 0x7fed4e3aa0d0>"
            ]
          },
          "metadata": {},
          "execution_count": 108
        }
      ]
    },
    {
      "cell_type": "code",
      "metadata": {
        "colab": {
          "base_uri": "https://localhost:8080/"
        },
        "id": "pyI7WKpbo7cR",
        "outputId": "db68e9fb-b4d1-45b2-c66b-9bc553c3c689"
      },
      "source": [
        "# Evaluate N-BEATS model on the test dataset\n",
        "model_7.evaluate(test_dataset)"
      ],
      "execution_count": 109,
      "outputs": [
        {
          "output_type": "stream",
          "name": "stdout",
          "text": [
            "1/1 [==============================] - 0s 18ms/step - loss: 2.6772 - mae: 2.6772 - mse: 14.4962\n"
          ]
        },
        {
          "output_type": "execute_result",
          "data": {
            "text/plain": [
              "[2.6771538257598877, 2.6771538257598877, 14.496194839477539]"
            ]
          },
          "metadata": {},
          "execution_count": 109
        }
      ]
    },
    {
      "cell_type": "code",
      "metadata": {
        "colab": {
          "base_uri": "https://localhost:8080/"
        },
        "id": "xTVDsIs31alx",
        "outputId": "18a852d2-1053-4a5f-dc3d-feebb8fb60ba"
      },
      "source": [
        "# Make predictions with N-BEATS model\n",
        "model_7_preds = make_preds(model_7, test_dataset)\n",
        "model_7_preds[:10]"
      ],
      "execution_count": 110,
      "outputs": [
        {
          "output_type": "stream",
          "name": "stdout",
          "text": [
            "1/1 [==============================] - 1s 1s/step\n"
          ]
        },
        {
          "output_type": "execute_result",
          "data": {
            "text/plain": [
              "<tf.Tensor: shape=(10,), dtype=float32, numpy=\n",
              "array([178.89616, 175.86424, 175.6742 , 176.75862, 176.39243, 175.31293,\n",
              "       176.62633, 179.95749, 181.99255, 180.92902], dtype=float32)>"
            ]
          },
          "metadata": {},
          "execution_count": 110
        }
      ]
    },
    {
      "cell_type": "code",
      "metadata": {
        "colab": {
          "base_uri": "https://localhost:8080/"
        },
        "id": "VL-cncpQ1i7C",
        "outputId": "e8d5e593-75fa-4a4c-897b-8bf24e4d6ea6"
      },
      "source": [
        "# Evaluate N-BEATS model predictions\n",
        "model_7_results = evaluate_preds(y_true=y_test,\n",
        "                                 y_pred=model_7_preds)\n",
        "model_7_results"
      ],
      "execution_count": 111,
      "outputs": [
        {
          "output_type": "execute_result",
          "data": {
            "text/plain": [
              "{'mae': 2.6771538,\n",
              " 'mse': 14.496195,\n",
              " 'rmse': 3.8073869,\n",
              " 'mape': 1.2878004,\n",
              " 'mase': 1.0174514}"
            ]
          },
          "metadata": {},
          "execution_count": 111
        }
      ]
    },
    {
      "cell_type": "markdown",
      "metadata": {
        "id": "TNT-2qEfLX_D"
      },
      "source": [
        "The N-BEATS model doesn't perform as well as `model_1` or the original naive forecast.\n",
        "\n",
        "This goes to show the power of smaller networks as well as the fact not all larger models are better suited for a certain type of data."
      ]
    },
    {
      "cell_type": "code",
      "metadata": {
        "colab": {
          "base_uri": "https://localhost:8080/"
        },
        "id": "b_mxaHYeShwu",
        "outputId": "151a1731-831f-4919-ea78-272b3502b790"
      },
      "source": [
        "# This will error out unless a \"get_config()\" method is implemented - this could be extra curriculum\n",
        "model_7.save(model_7.name)"
      ],
      "execution_count": 112,
      "outputs": [
        {
          "output_type": "stream",
          "name": "stderr",
          "text": [
            "WARNING:absl:Found untraced functions such as theta_layer_call_fn, theta_layer_call_and_return_conditional_losses, theta_layer_call_fn, theta_layer_call_and_return_conditional_losses, theta_layer_call_fn while saving (showing 5 of 300). These functions will not be directly callable after loading.\n"
          ]
        }
      ]
    },
    {
      "cell_type": "markdown",
      "metadata": {
        "id": "9k10r8BN7ELS"
      },
      "source": [
        "## Model 8: Creating an ensemble (stacking different models together)\n",
        "\n",
        "An **ensemble** involves training and combining multiple different models on the same problem.\n",
        "Due to their random initialization, even deep learning models with the same architecture can produce different results. \n",
        "\n",
        "What I mean by this is each time you create a deep learning model, it starts with random patterns (weights & biases) and then it adjusts these random patterns to better suit the dataset it's being trained on. \n",
        "\n",
        "However, the process it adjusts these patterns is often a form of guided randomness as well (the SGD optimizer stands for stochastic or random gradient descent).\n",
        "\n",
        "To create our ensemble models we're going to be using a combination of: \n",
        "* Different loss functions (MAE, MSE, MAPE)\n",
        "* Randomly initialized models \n",
        "\n",
        "We'll create a function to produce a list of different models trained with different loss functions. "
      ]
    },
    {
      "cell_type": "markdown",
      "metadata": {
        "id": "sA0LwkPxEyib"
      },
      "source": [
        "### Constructing and fitting an ensemble of models (using different loss functions)"
      ]
    },
    {
      "cell_type": "code",
      "metadata": {
        "id": "K5PHo4O3z50g"
      },
      "source": [
        "def get_ensemble_models(horizon=HORIZON, \n",
        "                        train_data=train_dataset,\n",
        "                        test_data=test_dataset,\n",
        "                        num_iter=10, \n",
        "                        num_epochs=100, \n",
        "                        loss_fns=[\"mae\", \"mse\", \"mape\"]):\n",
        "  \"\"\"\n",
        "  Returns a list of num_iter models each trained on MAE, MSE and MAPE loss.\n",
        "\n",
        "  For example, if num_iter=10, a list of 30 trained models will be returned:\n",
        "  10 * len([\"mae\", \"mse\", \"mape\"]).\n",
        "  \"\"\"\n",
        "  # Make empty list for trained ensemble models\n",
        "  ensemble_models = []\n",
        "\n",
        "  # Create num_iter number of models per loss function\n",
        "  for i in range(num_iter):\n",
        "    # Build and fit a new model with a different loss function\n",
        "    for loss_function in loss_fns:\n",
        "      print(f\"Optimizing model by reducing: {loss_function} for {num_epochs} epochs, model number: {i}\")\n",
        "\n",
        "      # Construct a simple model (similar to model_1)\n",
        "      model = tf.keras.Sequential([\n",
        "        layers.Dense(128, kernel_initializer=\"he_normal\", activation=\"relu\"), \n",
        "        layers.Dense(128, kernel_initializer=\"he_normal\", activation=\"relu\"),\n",
        "        layers.Dense(HORIZON)                                 \n",
        "      ])\n",
        "\n",
        "      # Compile simple model with current loss function\n",
        "      model.compile(loss=loss_function,\n",
        "                    optimizer=tf.keras.optimizers.Adam(),\n",
        "                    metrics=[\"mae\", \"mse\"])\n",
        "      \n",
        "      # Fit model\n",
        "      model.fit(train_data,\n",
        "                epochs=num_epochs,\n",
        "                verbose=0,\n",
        "                validation_data=test_data,\n",
        "                callbacks=[tf.keras.callbacks.EarlyStopping(monitor=\"val_loss\",\n",
        "                                                            patience=200,\n",
        "                                                            restore_best_weights=True),\n",
        "                           tf.keras.callbacks.ReduceLROnPlateau(monitor=\"val_loss\",\n",
        "                                                                patience=100,\n",
        "                                                                verbose=1)])\n",
        "      \n",
        "      # Append fitted model to list of ensemble models\n",
        "      ensemble_models.append(model)\n",
        "\n",
        "  return ensemble_models # return list of trained models"
      ],
      "execution_count": 113,
      "outputs": []
    },
    {
      "cell_type": "markdown",
      "metadata": {
        "id": "8Oz-iLZhDvSu"
      },
      "source": [
        "Ensemble model creator function created!\n",
        "\n",
        "Let's try it out by running `num_iter=5` runs for 1000 epochs. This will result in 15 total models (5 for each different loss function)."
      ]
    },
    {
      "cell_type": "code",
      "metadata": {
        "colab": {
          "base_uri": "https://localhost:8080/"
        },
        "id": "fcyU88yvz_Zk",
        "outputId": "7b53091e-e012-47bc-f6eb-b65cfe219f5e"
      },
      "source": [
        "%%time\n",
        "# Get list of trained ensemble models\n",
        "ensemble_models = get_ensemble_models(num_iter=5,\n",
        "                                      num_epochs=1000)"
      ],
      "execution_count": 114,
      "outputs": [
        {
          "output_type": "stream",
          "name": "stdout",
          "text": [
            "Optimizing model by reducing: mae for 1000 epochs, model number: 0\n",
            "\n",
            "Epoch 109: ReduceLROnPlateau reducing learning rate to 0.00010000000474974513.\n",
            "\n",
            "Epoch 690: ReduceLROnPlateau reducing learning rate to 1.0000000474974514e-05.\n",
            "\n",
            "Epoch 790: ReduceLROnPlateau reducing learning rate to 1.0000000656873453e-06.\n",
            "Optimizing model by reducing: mse for 1000 epochs, model number: 0\n",
            "Optimizing model by reducing: mape for 1000 epochs, model number: 0\n",
            "\n",
            "Epoch 136: ReduceLROnPlateau reducing learning rate to 0.00010000000474974513.\n",
            "Optimizing model by reducing: mae for 1000 epochs, model number: 1\n",
            "Optimizing model by reducing: mse for 1000 epochs, model number: 1\n",
            "\n",
            "Epoch 879: ReduceLROnPlateau reducing learning rate to 0.00010000000474974513.\n",
            "\n",
            "Epoch 979: ReduceLROnPlateau reducing learning rate to 1.0000000474974514e-05.\n",
            "Optimizing model by reducing: mape for 1000 epochs, model number: 1\n",
            "\n",
            "Epoch 128: ReduceLROnPlateau reducing learning rate to 0.00010000000474974513.\n",
            "Optimizing model by reducing: mae for 1000 epochs, model number: 2\n",
            "\n",
            "Epoch 157: ReduceLROnPlateau reducing learning rate to 0.00010000000474974513.\n",
            "Optimizing model by reducing: mse for 1000 epochs, model number: 2\n",
            "Optimizing model by reducing: mape for 1000 epochs, model number: 2\n",
            "\n",
            "Epoch 135: ReduceLROnPlateau reducing learning rate to 0.00010000000474974513.\n",
            "\n",
            "Epoch 250: ReduceLROnPlateau reducing learning rate to 1.0000000474974514e-05.\n",
            "\n",
            "Epoch 350: ReduceLROnPlateau reducing learning rate to 1.0000000656873453e-06.\n",
            "Optimizing model by reducing: mae for 1000 epochs, model number: 3\n",
            "\n",
            "Epoch 735: ReduceLROnPlateau reducing learning rate to 0.00010000000474974513.\n",
            "Optimizing model by reducing: mse for 1000 epochs, model number: 3\n",
            "\n",
            "Epoch 764: ReduceLROnPlateau reducing learning rate to 0.00010000000474974513.\n",
            "Optimizing model by reducing: mape for 1000 epochs, model number: 3\n",
            "\n",
            "Epoch 643: ReduceLROnPlateau reducing learning rate to 0.00010000000474974513.\n",
            "\n",
            "Epoch 743: ReduceLROnPlateau reducing learning rate to 1.0000000474974514e-05.\n",
            "Optimizing model by reducing: mae for 1000 epochs, model number: 4\n",
            "\n",
            "Epoch 133: ReduceLROnPlateau reducing learning rate to 0.00010000000474974513.\n",
            "Optimizing model by reducing: mse for 1000 epochs, model number: 4\n",
            "Optimizing model by reducing: mape for 1000 epochs, model number: 4\n",
            "\n",
            "Epoch 500: ReduceLROnPlateau reducing learning rate to 0.00010000000474974513.\n",
            "CPU times: user 5min 46s, sys: 34.6 s, total: 6min 21s\n",
            "Wall time: 5min 55s\n"
          ]
        }
      ]
    },
    {
      "cell_type": "markdown",
      "metadata": {
        "id": "rerdvQAdFptN"
      },
      "source": [
        "### Making predictions with an ensemble model"
      ]
    },
    {
      "cell_type": "code",
      "metadata": {
        "id": "45YkOBo38qxn"
      },
      "source": [
        "# Create a function which uses a list of trained models to make and return a list of predictions\n",
        "def make_ensemble_preds(ensemble_models, data):\n",
        "  ensemble_preds = []\n",
        "  for model in ensemble_models:\n",
        "    preds = model.predict(data) # make predictions with current ensemble model\n",
        "    ensemble_preds.append(preds)\n",
        "  return tf.constant(tf.squeeze(ensemble_preds))"
      ],
      "execution_count": 115,
      "outputs": []
    },
    {
      "cell_type": "code",
      "metadata": {
        "colab": {
          "base_uri": "https://localhost:8080/"
        },
        "id": "mAfSXEmU0IKK",
        "outputId": "96f0268b-df7e-41a2-afdf-9146d6db1009"
      },
      "source": [
        "# Create a list of ensemble predictions\n",
        "ensemble_preds = make_ensemble_preds(ensemble_models=ensemble_models,\n",
        "                                     data=test_dataset)\n",
        "ensemble_preds"
      ],
      "execution_count": 116,
      "outputs": [
        {
          "output_type": "stream",
          "name": "stdout",
          "text": [
            "1/1 [==============================] - 0s 47ms/step\n",
            "1/1 [==============================] - 0s 36ms/step\n"
          ]
        },
        {
          "output_type": "stream",
          "name": "stderr",
          "text": [
            "WARNING:tensorflow:5 out of the last 20 calls to <function Model.make_predict_function.<locals>.predict_function at 0x7fed3bf03ef0> triggered tf.function retracing. Tracing is expensive and the excessive number of tracings could be due to (1) creating @tf.function repeatedly in a loop, (2) passing tensors with different shapes, (3) passing Python objects instead of tensors. For (1), please define your @tf.function outside of the loop. For (2), @tf.function has reduce_retracing=True option that can avoid unnecessary retracing. For (3), please refer to https://www.tensorflow.org/guide/function#controlling_retracing and https://www.tensorflow.org/api_docs/python/tf/function for  more details.\n"
          ]
        },
        {
          "output_type": "stream",
          "name": "stdout",
          "text": [
            "1/1 [==============================] - 0s 41ms/step\n"
          ]
        },
        {
          "output_type": "stream",
          "name": "stderr",
          "text": [
            "WARNING:tensorflow:6 out of the last 21 calls to <function Model.make_predict_function.<locals>.predict_function at 0x7fed3bf3e950> triggered tf.function retracing. Tracing is expensive and the excessive number of tracings could be due to (1) creating @tf.function repeatedly in a loop, (2) passing tensors with different shapes, (3) passing Python objects instead of tensors. For (1), please define your @tf.function outside of the loop. For (2), @tf.function has reduce_retracing=True option that can avoid unnecessary retracing. For (3), please refer to https://www.tensorflow.org/guide/function#controlling_retracing and https://www.tensorflow.org/api_docs/python/tf/function for  more details.\n"
          ]
        },
        {
          "output_type": "stream",
          "name": "stdout",
          "text": [
            "1/1 [==============================] - 0s 42ms/step\n",
            "1/1 [==============================] - 0s 38ms/step\n",
            "1/1 [==============================] - 0s 37ms/step\n",
            "1/1 [==============================] - 0s 39ms/step\n",
            "1/1 [==============================] - 0s 37ms/step\n",
            "1/1 [==============================] - 0s 37ms/step\n",
            "1/1 [==============================] - 0s 37ms/step\n",
            "1/1 [==============================] - 0s 33ms/step\n",
            "1/1 [==============================] - 0s 38ms/step\n",
            "1/1 [==============================] - 0s 35ms/step\n",
            "1/1 [==============================] - 0s 37ms/step\n",
            "1/1 [==============================] - 0s 43ms/step\n"
          ]
        },
        {
          "output_type": "execute_result",
          "data": {
            "text/plain": [
              "<tf.Tensor: shape=(15, 503), dtype=float32, numpy=\n",
              "array([[178.45216, 175.47856, 176.50136, ..., 290.26492, 294.84497,\n",
              "        287.1362 ],\n",
              "       [179.29764, 177.32529, 176.53674, ..., 296.87073, 288.8463 ,\n",
              "        280.4479 ],\n",
              "       [179.02702, 176.3441 , 176.1493 , ..., 293.28787, 288.02744,\n",
              "        280.9944 ],\n",
              "       ...,\n",
              "       [178.51828, 176.15356, 175.2688 , ..., 288.103  , 291.33353,\n",
              "        288.39554],\n",
              "       [179.79796, 177.52225, 178.36972, ..., 297.2544 , 291.84695,\n",
              "        291.60797],\n",
              "       [178.83499, 175.18019, 175.90204, ..., 290.2053 , 293.3709 ,\n",
              "        279.2231 ]], dtype=float32)>"
            ]
          },
          "metadata": {},
          "execution_count": 116
        }
      ]
    },
    {
      "cell_type": "markdown",
      "metadata": {
        "id": "F_i42FmH_5dC"
      },
      "source": [
        "Now we've got a set of ensemble predictions, we can evaluate them against the ground truth values.\n",
        "However, since we've trained 15 models, there's going to be 15 sets of predictions. Rather than comparing every set of predictions to the ground truth, let's take the median."
      ]
    },
    {
      "cell_type": "code",
      "metadata": {
        "colab": {
          "base_uri": "https://localhost:8080/"
        },
        "id": "W5aGqy_C9Aev",
        "outputId": "67dd1979-945c-48bb-f297-e59c4ac0fea1"
      },
      "source": [
        "# Evaluate ensemble model(s) predictions\n",
        "ensemble_results = evaluate_preds(y_true=y_test,\n",
        "                                  y_pred=np.median(ensemble_preds, axis=0)) # take the median across all ensemble predictions\n",
        "ensemble_results"
      ],
      "execution_count": 117,
      "outputs": [
        {
          "output_type": "execute_result",
          "data": {
            "text/plain": [
              "{'mae': 2.681355,\n",
              " 'mse': 14.502957,\n",
              " 'rmse': 3.8082747,\n",
              " 'mape': 1.2888625,\n",
              " 'mase': 1.0190481}"
            ]
          },
          "metadata": {},
          "execution_count": 117
        }
      ]
    },
    {
      "cell_type": "markdown",
      "metadata": {
        "id": "xWwHor7lBR3b"
      },
      "source": [
        "## Compare Models\n"
      ]
    },
    {
      "cell_type": "code",
      "metadata": {
        "colab": {
          "base_uri": "https://localhost:8080/",
          "height": 269
        },
        "id": "vZtkauQXBXVx",
        "outputId": "63abc50b-46de-4cb0-ac72-7fc1464c6df6"
      },
      "source": [
        "# Compare different model results (w = window, h = horizon, e.g. w=7 means a window size of 7)\n",
        "model_results = pd.DataFrame({\"naive_model\": naive_results,\n",
        "                              \"model_1_dense_w7_h1\": model_1_results,\n",
        "                              \"model_2_dense_w30_h1\": model_2_results,\n",
        "                              \"model_3_dense_w30_h7\": model_3_results,\n",
        "                              \"model_4_LSTM\": model_4_results,\n",
        "                              \"model_5_NBEATs\": model_7_results,\n",
        "                              \"model_6_ensemble\": ensemble_results}).T\n",
        "model_results.head(10)"
      ],
      "execution_count": 119,
      "outputs": [
        {
          "output_type": "execute_result",
          "data": {
            "text/plain": [
              "                           mae        mse      rmse      mape      mase\n",
              "naive_model           2.632207  13.725236  3.704759  1.267290  1.000369\n",
              "model_1_dense_w7_h1   2.834988  15.895913  3.986968  1.371987  1.077436\n",
              "model_2_dense_w30_h1  3.291005  20.766710  4.557051  1.600358  1.243484\n",
              "model_3_dense_w30_h7  5.637707  62.530170  6.434380  2.806351  2.164969\n",
              "model_4_LSTM          7.405346  91.237343  8.116722  3.629941  2.843771\n",
              "model_5_NBEATs        2.677154  14.496195  3.807387  1.287800  1.017451\n",
              "model_6_ensemble      2.681355  14.502957  3.808275  1.288862  1.019048"
            ],
            "text/html": [
              "\n",
              "  <div id=\"df-b4de7b25-09b9-42ac-983f-55255820b043\">\n",
              "    <div class=\"colab-df-container\">\n",
              "      <div>\n",
              "<style scoped>\n",
              "    .dataframe tbody tr th:only-of-type {\n",
              "        vertical-align: middle;\n",
              "    }\n",
              "\n",
              "    .dataframe tbody tr th {\n",
              "        vertical-align: top;\n",
              "    }\n",
              "\n",
              "    .dataframe thead th {\n",
              "        text-align: right;\n",
              "    }\n",
              "</style>\n",
              "<table border=\"1\" class=\"dataframe\">\n",
              "  <thead>\n",
              "    <tr style=\"text-align: right;\">\n",
              "      <th></th>\n",
              "      <th>mae</th>\n",
              "      <th>mse</th>\n",
              "      <th>rmse</th>\n",
              "      <th>mape</th>\n",
              "      <th>mase</th>\n",
              "    </tr>\n",
              "  </thead>\n",
              "  <tbody>\n",
              "    <tr>\n",
              "      <th>naive_model</th>\n",
              "      <td>2.632207</td>\n",
              "      <td>13.725236</td>\n",
              "      <td>3.704759</td>\n",
              "      <td>1.267290</td>\n",
              "      <td>1.000369</td>\n",
              "    </tr>\n",
              "    <tr>\n",
              "      <th>model_1_dense_w7_h1</th>\n",
              "      <td>2.834988</td>\n",
              "      <td>15.895913</td>\n",
              "      <td>3.986968</td>\n",
              "      <td>1.371987</td>\n",
              "      <td>1.077436</td>\n",
              "    </tr>\n",
              "    <tr>\n",
              "      <th>model_2_dense_w30_h1</th>\n",
              "      <td>3.291005</td>\n",
              "      <td>20.766710</td>\n",
              "      <td>4.557051</td>\n",
              "      <td>1.600358</td>\n",
              "      <td>1.243484</td>\n",
              "    </tr>\n",
              "    <tr>\n",
              "      <th>model_3_dense_w30_h7</th>\n",
              "      <td>5.637707</td>\n",
              "      <td>62.530170</td>\n",
              "      <td>6.434380</td>\n",
              "      <td>2.806351</td>\n",
              "      <td>2.164969</td>\n",
              "    </tr>\n",
              "    <tr>\n",
              "      <th>model_4_LSTM</th>\n",
              "      <td>7.405346</td>\n",
              "      <td>91.237343</td>\n",
              "      <td>8.116722</td>\n",
              "      <td>3.629941</td>\n",
              "      <td>2.843771</td>\n",
              "    </tr>\n",
              "    <tr>\n",
              "      <th>model_5_NBEATs</th>\n",
              "      <td>2.677154</td>\n",
              "      <td>14.496195</td>\n",
              "      <td>3.807387</td>\n",
              "      <td>1.287800</td>\n",
              "      <td>1.017451</td>\n",
              "    </tr>\n",
              "    <tr>\n",
              "      <th>model_6_ensemble</th>\n",
              "      <td>2.681355</td>\n",
              "      <td>14.502957</td>\n",
              "      <td>3.808275</td>\n",
              "      <td>1.288862</td>\n",
              "      <td>1.019048</td>\n",
              "    </tr>\n",
              "  </tbody>\n",
              "</table>\n",
              "</div>\n",
              "      <button class=\"colab-df-convert\" onclick=\"convertToInteractive('df-b4de7b25-09b9-42ac-983f-55255820b043')\"\n",
              "              title=\"Convert this dataframe to an interactive table.\"\n",
              "              style=\"display:none;\">\n",
              "        \n",
              "  <svg xmlns=\"http://www.w3.org/2000/svg\" height=\"24px\"viewBox=\"0 0 24 24\"\n",
              "       width=\"24px\">\n",
              "    <path d=\"M0 0h24v24H0V0z\" fill=\"none\"/>\n",
              "    <path d=\"M18.56 5.44l.94 2.06.94-2.06 2.06-.94-2.06-.94-.94-2.06-.94 2.06-2.06.94zm-11 1L8.5 8.5l.94-2.06 2.06-.94-2.06-.94L8.5 2.5l-.94 2.06-2.06.94zm10 10l.94 2.06.94-2.06 2.06-.94-2.06-.94-.94-2.06-.94 2.06-2.06.94z\"/><path d=\"M17.41 7.96l-1.37-1.37c-.4-.4-.92-.59-1.43-.59-.52 0-1.04.2-1.43.59L10.3 9.45l-7.72 7.72c-.78.78-.78 2.05 0 2.83L4 21.41c.39.39.9.59 1.41.59.51 0 1.02-.2 1.41-.59l7.78-7.78 2.81-2.81c.8-.78.8-2.07 0-2.86zM5.41 20L4 18.59l7.72-7.72 1.47 1.35L5.41 20z\"/>\n",
              "  </svg>\n",
              "      </button>\n",
              "      \n",
              "  <style>\n",
              "    .colab-df-container {\n",
              "      display:flex;\n",
              "      flex-wrap:wrap;\n",
              "      gap: 12px;\n",
              "    }\n",
              "\n",
              "    .colab-df-convert {\n",
              "      background-color: #E8F0FE;\n",
              "      border: none;\n",
              "      border-radius: 50%;\n",
              "      cursor: pointer;\n",
              "      display: none;\n",
              "      fill: #1967D2;\n",
              "      height: 32px;\n",
              "      padding: 0 0 0 0;\n",
              "      width: 32px;\n",
              "    }\n",
              "\n",
              "    .colab-df-convert:hover {\n",
              "      background-color: #E2EBFA;\n",
              "      box-shadow: 0px 1px 2px rgba(60, 64, 67, 0.3), 0px 1px 3px 1px rgba(60, 64, 67, 0.15);\n",
              "      fill: #174EA6;\n",
              "    }\n",
              "\n",
              "    [theme=dark] .colab-df-convert {\n",
              "      background-color: #3B4455;\n",
              "      fill: #D2E3FC;\n",
              "    }\n",
              "\n",
              "    [theme=dark] .colab-df-convert:hover {\n",
              "      background-color: #434B5C;\n",
              "      box-shadow: 0px 1px 3px 1px rgba(0, 0, 0, 0.15);\n",
              "      filter: drop-shadow(0px 1px 2px rgba(0, 0, 0, 0.3));\n",
              "      fill: #FFFFFF;\n",
              "    }\n",
              "  </style>\n",
              "\n",
              "      <script>\n",
              "        const buttonEl =\n",
              "          document.querySelector('#df-b4de7b25-09b9-42ac-983f-55255820b043 button.colab-df-convert');\n",
              "        buttonEl.style.display =\n",
              "          google.colab.kernel.accessAllowed ? 'block' : 'none';\n",
              "\n",
              "        async function convertToInteractive(key) {\n",
              "          const element = document.querySelector('#df-b4de7b25-09b9-42ac-983f-55255820b043');\n",
              "          const dataTable =\n",
              "            await google.colab.kernel.invokeFunction('convertToInteractive',\n",
              "                                                     [key], {});\n",
              "          if (!dataTable) return;\n",
              "\n",
              "          const docLinkHtml = 'Like what you see? Visit the ' +\n",
              "            '<a target=\"_blank\" href=https://colab.research.google.com/notebooks/data_table.ipynb>data table notebook</a>'\n",
              "            + ' to learn more about interactive tables.';\n",
              "          element.innerHTML = '';\n",
              "          dataTable['output_type'] = 'display_data';\n",
              "          await google.colab.output.renderOutput(dataTable, element);\n",
              "          const docLink = document.createElement('div');\n",
              "          docLink.innerHTML = docLinkHtml;\n",
              "          element.appendChild(docLink);\n",
              "        }\n",
              "      </script>\n",
              "    </div>\n",
              "  </div>\n",
              "  "
            ]
          },
          "metadata": {},
          "execution_count": 119
        }
      ]
    },
    {
      "cell_type": "code",
      "metadata": {
        "colab": {
          "base_uri": "https://localhost:8080/",
          "height": 539
        },
        "id": "PrLcCM-LFv2B",
        "outputId": "79caa40d-4434-4be6-b3ea-dbbb443d801a"
      },
      "source": [
        "# Sort model results by MAE and plot them\n",
        "model_results[[\"mae\"]].sort_values(by=\"mae\").plot(figsize=(10, 7), kind=\"bar\");"
      ],
      "execution_count": 120,
      "outputs": [
        {
          "output_type": "display_data",
          "data": {
            "text/plain": [
              "<Figure size 720x504 with 1 Axes>"
            ],
            "image/png": "[encoded data removed]"
          },
          "metadata": {
            "needs_background": "light"
          }
        }
      ]
    }
  ]
}